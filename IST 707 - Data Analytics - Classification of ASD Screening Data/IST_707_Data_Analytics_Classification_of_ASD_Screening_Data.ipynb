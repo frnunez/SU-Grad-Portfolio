{
  "nbformat": 4,
  "nbformat_minor": 0,
  "metadata": {
    "colab": {
      "name": "IST 707 - Data Analytics - Classification of ASD Screening Data.ipynb",
      "provenance": [],
      "authorship_tag": "ABX9TyNaim1U4XVKpo6L1T6hAi57",
      "include_colab_link": true
    },
    "kernelspec": {
      "name": "ir",
      "display_name": "R"
    }
  },
  "cells": [
    {
      "cell_type": "markdown",
      "metadata": {
        "id": "view-in-github",
        "colab_type": "text"
      },
      "source": [
        "<a href=\"https://colab.research.google.com/github/frnunez/SU-Grad-Portfolio/blob/master/IST%20707%20-%20Data%20Analytics%20-%20Classification%20of%20ASD%20Screening%20Data/IST_707_Data_Analytics_Classification_of_ASD_Screening_Data.ipynb\" target=\"_parent\"><img src=\"https://colab.research.google.com/assets/colab-badge.svg\" alt=\"Open In Colab\"/></a>"
      ]
    },
    {
      "cell_type": "markdown",
      "metadata": {
        "id": "KJkQS3GKQ9qY",
        "colab_type": "text"
      },
      "source": [
        "# Name: Francisco Nunez-Fondeur\n",
        "# Description: IST 707 - Syracuse University\n",
        "# Date: 05/16/2019 - Final Project - Autism AQ-10"
      ]
    },
    {
      "cell_type": "code",
      "metadata": {
        "id": "11zPLISEMdqk",
        "colab_type": "code",
        "outputId": "7997badd-da75-4c99-df52-37df0af02a4d",
        "colab": {
          "base_uri": "https://localhost:8080/",
          "height": 1000
        }
      },
      "source": [
        "#----- Installs ----#\n",
        "\n",
        "#Install c50\n",
        "if (!require(C50)) install.packages('C50')\n",
        "\n",
        "#Install caret\n",
        "if (!require(caret)) install.packages('caret')\n",
        "\n",
        "#countrycode\n",
        "if (!require(countrycode)) install.packages('countrycode')\n",
        "\n",
        "#Install class\n",
        "if (!require(class)) install.packages('class')  \n",
        "\n",
        "#Install dplyr\n",
        "if (!require(dplyr)) install.packages('dplyr')\n",
        "\n",
        "#Install e1071\n",
        "if (!require(e1071)) install.packages('e1071')\n",
        "\n",
        "#farff\n",
        "if (!require(farff)) install.packages('farff')\n",
        "\n",
        "#gmodels\n",
        "if (!require(gmodels)) install.packages('gmodels')\n",
        "\n",
        "#Install kernlab\n",
        "if (!require(kernlab)) install.packages('kernlab')\n",
        "\n",
        "#Install RWeka\n",
        "if (!require(RWeka)) install.packages('RWeka')\n",
        "\n",
        "#SQLDF\n",
        "if (!require(sqldf)) install.packages('sqldf')"
      ],
      "execution_count": 0,
      "outputs": [
        {
          "output_type": "stream",
          "text": [
            "Loading required package: C50\n",
            "\n",
            "Loading required package: caret\n",
            "\n",
            "Loading required package: lattice\n",
            "\n",
            "Loading required package: ggplot2\n",
            "\n",
            "Loading required package: countrycode\n",
            "\n",
            "Loading required package: class\n",
            "\n",
            "Loading required package: dplyr\n",
            "\n",
            "\n",
            "Attaching package: ‘dplyr’\n",
            "\n",
            "\n",
            "The following objects are masked from ‘package:stats’:\n",
            "\n",
            "    filter, lag\n",
            "\n",
            "\n",
            "The following objects are masked from ‘package:base’:\n",
            "\n",
            "    intersect, setdiff, setequal, union\n",
            "\n",
            "\n",
            "Loading required package: e1071\n",
            "\n",
            "Loading required package: farff\n",
            "\n",
            "Loading required package: gmodels\n",
            "\n",
            "Loading required package: kernlab\n",
            "\n",
            "\n",
            "Attaching package: ‘kernlab’\n",
            "\n",
            "\n",
            "The following object is masked from ‘package:ggplot2’:\n",
            "\n",
            "    alpha\n",
            "\n",
            "\n",
            "Loading required package: RWeka\n",
            "\n",
            "Warning message in library(package, lib.loc = lib.loc, character.only = TRUE, logical.return = TRUE, :\n",
            "“there is no package called ‘RWeka’”\n",
            "Installing package into ‘/usr/local/lib/R/site-library’\n",
            "(as ‘lib’ is unspecified)\n",
            "\n",
            "also installing the dependencies ‘RWekajars’, ‘rJava’\n",
            "\n",
            "\n",
            "Warning message in install.packages(\"RWeka\"):\n",
            "“installation of package ‘rJava’ had non-zero exit status”\n",
            "Warning message in install.packages(\"RWeka\"):\n",
            "“installation of package ‘RWekajars’ had non-zero exit status”\n",
            "Warning message in install.packages(\"RWeka\"):\n",
            "“installation of package ‘RWeka’ had non-zero exit status”\n",
            "Loading required package: sqldf\n",
            "\n",
            "Loading required package: gsubfn\n",
            "\n",
            "Loading required package: proto\n",
            "\n",
            "Warning message:\n",
            "“no DISPLAY variable so Tk is not available”\n",
            "Loading required package: RSQLite\n",
            "\n"
          ],
          "name": "stderr"
        }
      ]
    },
    {
      "cell_type": "code",
      "metadata": {
        "id": "NXHmu8ko0g0k",
        "colab_type": "code",
        "outputId": "e484e2d9-3292-46e3-a8fb-7bfb3b18235a",
        "colab": {
          "base_uri": "https://localhost:8080/",
          "height": 645
        }
      },
      "source": [
        "# Child Set\n",
        "# Set url link for the location of the dataset\n",
        "      childURL <- \"https://archive.ics.uci.edu/ml/machine-learning-databases/00419/Autism-Screening-Child-Data%20Plus%20Description.zip\"\n",
        "      \n",
        "      # Download the .zip file and unzip contents\n",
        "      download.file(childURL, dest = \"child.zip\", mode = \"wb\") \n",
        "      unzip(\"child.zip\", exdir = \"child\")\n",
        "      \n",
        "      # Assess the files contained in the .zip file and then import each dataset\n",
        "      list.files(\"child\")\n",
        "      Autism_Child_Data <- readARFF(\"child/Autism-Child-Data.arff\")\n",
        "      #Autism_Child_Data <- readARFF(unz(\"child.zip\", \"Autism-Child-Data.arff\"))\n",
        "     # hubway_trips <- read.csv(unz(\"child.zip\", \"hubway_trips.csv\"))\n",
        "      \n",
        "      #Basic Descriptive Info\n",
        "      Autism_Child_Data[1:5, 1:10]\n",
        "      str(Autism_Child_Data)\n",
        "      dim(Autism_Child_Data)"
      ],
      "execution_count": 0,
      "outputs": [
        {
          "output_type": "display_data",
          "data": {
            "text/plain": [
              "[1] \"Autism-Child-Data.arff\"                      \n",
              "[2] \"Autism-Screening-Child-Data Description.docx\""
            ],
            "text/latex": "\\begin{enumerate*}\n\\item 'Autism-Child-Data.arff'\n\\item 'Autism-Screening-Child-Data Description.docx'\n\\end{enumerate*}\n",
            "text/markdown": "1. 'Autism-Child-Data.arff'\n2. 'Autism-Screening-Child-Data Description.docx'\n\n\n",
            "text/html": [
              "<style>\n",
              ".list-inline {list-style: none; margin:0; padding: 0}\n",
              ".list-inline>li {display: inline-block}\n",
              ".list-inline>li:not(:last-child)::after {content: \"\\00b7\"; padding: 0 .5ex}\n",
              "</style>\n",
              "<ol class=list-inline><li>'Autism-Child-Data.arff'</li><li>'Autism-Screening-Child-Data Description.docx'</li></ol>\n"
            ]
          },
          "metadata": {
            "tags": []
          }
        },
        {
          "output_type": "stream",
          "text": [
            "Parse with reader=readr : child/Autism-Child-Data.arff\n",
            "\n",
            "Loading required package: readr\n",
            "\n",
            "header: 0.029000; preproc: 0.001000; data: 0.031000; postproc: 0.003000; total: 0.064000\n",
            "\n"
          ],
          "name": "stderr"
        },
        {
          "output_type": "display_data",
          "data": {
            "text/plain": [
              "  A1_Score A2_Score A3_Score A4_Score A5_Score A6_Score A7_Score A8_Score\n",
              "1 1        1        0        0        1        1        0        1       \n",
              "2 1        1        0        0        1        1        0        1       \n",
              "3 1        1        0        0        0        1        1        1       \n",
              "4 0        1        0        0        1        1        0        0       \n",
              "5 1        1        1        1        1        1        1        1       \n",
              "  A9_Score A10_Score\n",
              "1 0        0        \n",
              "2 0        0        \n",
              "3 0        0        \n",
              "4 0        1        \n",
              "5 1        1        "
            ],
            "text/latex": "A data.frame: 5 × 10\n\\begin{tabular}{r|llllllllll}\n  & A1\\_Score & A2\\_Score & A3\\_Score & A4\\_Score & A5\\_Score & A6\\_Score & A7\\_Score & A8\\_Score & A9\\_Score & A10\\_Score\\\\\n  & <fct> & <fct> & <fct> & <fct> & <fct> & <fct> & <fct> & <fct> & <fct> & <fct>\\\\\n\\hline\n\t1 & 1 & 1 & 0 & 0 & 1 & 1 & 0 & 1 & 0 & 0\\\\\n\t2 & 1 & 1 & 0 & 0 & 1 & 1 & 0 & 1 & 0 & 0\\\\\n\t3 & 1 & 1 & 0 & 0 & 0 & 1 & 1 & 1 & 0 & 0\\\\\n\t4 & 0 & 1 & 0 & 0 & 1 & 1 & 0 & 0 & 0 & 1\\\\\n\t5 & 1 & 1 & 1 & 1 & 1 & 1 & 1 & 1 & 1 & 1\\\\\n\\end{tabular}\n",
            "text/markdown": "\nA data.frame: 5 × 10\n\n| <!--/--> | A1_Score &lt;fct&gt; | A2_Score &lt;fct&gt; | A3_Score &lt;fct&gt; | A4_Score &lt;fct&gt; | A5_Score &lt;fct&gt; | A6_Score &lt;fct&gt; | A7_Score &lt;fct&gt; | A8_Score &lt;fct&gt; | A9_Score &lt;fct&gt; | A10_Score &lt;fct&gt; |\n|---|---|---|---|---|---|---|---|---|---|---|\n| 1 | 1 | 1 | 0 | 0 | 1 | 1 | 0 | 1 | 0 | 0 |\n| 2 | 1 | 1 | 0 | 0 | 1 | 1 | 0 | 1 | 0 | 0 |\n| 3 | 1 | 1 | 0 | 0 | 0 | 1 | 1 | 1 | 0 | 0 |\n| 4 | 0 | 1 | 0 | 0 | 1 | 1 | 0 | 0 | 0 | 1 |\n| 5 | 1 | 1 | 1 | 1 | 1 | 1 | 1 | 1 | 1 | 1 |\n\n",
            "text/html": [
              "<table>\n",
              "<caption>A data.frame: 5 × 10</caption>\n",
              "<thead>\n",
              "\t<tr><th></th><th scope=col>A1_Score</th><th scope=col>A2_Score</th><th scope=col>A3_Score</th><th scope=col>A4_Score</th><th scope=col>A5_Score</th><th scope=col>A6_Score</th><th scope=col>A7_Score</th><th scope=col>A8_Score</th><th scope=col>A9_Score</th><th scope=col>A10_Score</th></tr>\n",
              "\t<tr><th></th><th scope=col>&lt;fct&gt;</th><th scope=col>&lt;fct&gt;</th><th scope=col>&lt;fct&gt;</th><th scope=col>&lt;fct&gt;</th><th scope=col>&lt;fct&gt;</th><th scope=col>&lt;fct&gt;</th><th scope=col>&lt;fct&gt;</th><th scope=col>&lt;fct&gt;</th><th scope=col>&lt;fct&gt;</th><th scope=col>&lt;fct&gt;</th></tr>\n",
              "</thead>\n",
              "<tbody>\n",
              "\t<tr><th scope=row>1</th><td>1</td><td>1</td><td>0</td><td>0</td><td>1</td><td>1</td><td>0</td><td>1</td><td>0</td><td>0</td></tr>\n",
              "\t<tr><th scope=row>2</th><td>1</td><td>1</td><td>0</td><td>0</td><td>1</td><td>1</td><td>0</td><td>1</td><td>0</td><td>0</td></tr>\n",
              "\t<tr><th scope=row>3</th><td>1</td><td>1</td><td>0</td><td>0</td><td>0</td><td>1</td><td>1</td><td>1</td><td>0</td><td>0</td></tr>\n",
              "\t<tr><th scope=row>4</th><td>0</td><td>1</td><td>0</td><td>0</td><td>1</td><td>1</td><td>0</td><td>0</td><td>0</td><td>1</td></tr>\n",
              "\t<tr><th scope=row>5</th><td>1</td><td>1</td><td>1</td><td>1</td><td>1</td><td>1</td><td>1</td><td>1</td><td>1</td><td>1</td></tr>\n",
              "</tbody>\n",
              "</table>\n"
            ]
          },
          "metadata": {
            "tags": []
          }
        },
        {
          "output_type": "stream",
          "text": [
            "'data.frame':\t292 obs. of  21 variables:\n",
            " $ A1_Score       : Factor w/ 2 levels \"0\",\"1\": 2 2 2 1 2 1 2 2 2 1 ...\n",
            " $ A2_Score       : Factor w/ 2 levels \"0\",\"1\": 2 2 2 2 2 1 1 2 2 1 ...\n",
            " $ A3_Score       : Factor w/ 2 levels \"0\",\"1\": 1 1 1 1 2 2 2 2 2 2 ...\n",
            " $ A4_Score       : Factor w/ 2 levels \"0\",\"1\": 1 1 1 1 2 1 2 2 2 2 ...\n",
            " $ A5_Score       : Factor w/ 2 levels \"0\",\"1\": 2 2 1 2 2 2 2 2 2 2 ...\n",
            " $ A6_Score       : Factor w/ 2 levels \"0\",\"1\": 2 2 2 2 2 2 2 2 2 1 ...\n",
            " $ A7_Score       : Factor w/ 2 levels \"0\",\"1\": 1 1 2 1 2 1 1 2 2 2 ...\n",
            " $ A8_Score       : Factor w/ 2 levels \"0\",\"1\": 2 2 2 1 2 2 2 2 1 2 ...\n",
            " $ A9_Score       : Factor w/ 2 levels \"0\",\"1\": 1 1 1 1 2 1 1 1 1 1 ...\n",
            " $ A10_Score      : Factor w/ 2 levels \"0\",\"1\": 1 1 1 2 2 2 2 1 1 1 ...\n",
            " $ age            : num  6 6 6 5 5 4 5 5 11 11 ...\n",
            " $ gender         : Factor w/ 2 levels \"m\",\"f\": 1 1 1 2 1 1 1 2 2 2 ...\n",
            " $ ethnicity      : Factor w/ 10 levels \"Others\",\"Middle Eastern \",..: 1 2 NA NA 1 NA 3 2 2 NA ...\n",
            " $ jundice        : Factor w/ 2 levels \"no\",\"yes\": 1 1 1 2 2 1 1 1 1 1 ...\n",
            " $ austim         : Factor w/ 2 levels \"no\",\"yes\": 1 1 1 1 1 2 1 1 1 2 ...\n",
            " $ contry_of_res  : Factor w/ 52 levels \"Jordan\",\"United States\",..: 1 1 1 1 2 3 4 5 5 6 ...\n",
            " $ used_app_before: Factor w/ 2 levels \"no\",\"yes\": 1 1 2 1 1 1 1 1 1 1 ...\n",
            " $ result         : num  5 5 5 4 10 5 7 8 7 5 ...\n",
            " $ age_desc       : Factor w/ 1 level \"4-11 years\": 1 1 1 1 1 1 1 1 1 1 ...\n",
            " $ relation       : Factor w/ 5 levels \"Parent\",\"Self\",..: 1 1 NA NA 1 NA 1 1 1 NA ...\n",
            " $ Class/ASD      : Factor w/ 2 levels \"NO\",\"YES\": 1 1 1 1 2 1 2 2 2 1 ...\n"
          ],
          "name": "stdout"
        },
        {
          "output_type": "display_data",
          "data": {
            "text/plain": [
              "[1] 292  21"
            ],
            "text/latex": "\\begin{enumerate*}\n\\item 292\n\\item 21\n\\end{enumerate*}\n",
            "text/markdown": "1. 292\n2. 21\n\n\n",
            "text/html": [
              "<style>\n",
              ".list-inline {list-style: none; margin:0; padding: 0}\n",
              ".list-inline>li {display: inline-block}\n",
              ".list-inline>li:not(:last-child)::after {content: \"\\00b7\"; padding: 0 .5ex}\n",
              "</style>\n",
              "<ol class=list-inline><li>292</li><li>21</li></ol>\n"
            ]
          },
          "metadata": {
            "tags": []
          }
        }
      ]
    },
    {
      "cell_type": "code",
      "metadata": {
        "id": "EMXLTam45j9L",
        "colab_type": "code",
        "outputId": "6739f1a3-9928-4b1b-b4fe-c07c84629248",
        "colab": {
          "base_uri": "https://localhost:8080/",
          "height": 612
        }
      },
      "source": [
        "# Adolescent Set\n",
        "# Set url link for the location of the dataset\n",
        "      AdolescentURL <- \"https://archive.ics.uci.edu/ml/machine-learning-databases/00420/Autism-Adolescent-Data%20Plus%20Description.zip\"\n",
        "      \n",
        "      # Download the .zip file and unzip contents\n",
        "      download.file(AdolescentURL, dest = \"Adolescent.zip\", mode = \"wb\") \n",
        "      unzip(\"Adolescent.zip\", exdir = \"Adolescent\")\n",
        "      \n",
        "      # Assess the files contained in the .zip file and then import each dataset\n",
        "      list.files(\"Adolescent\")\n",
        "      Autism_Adolescent_Data <- readARFF(\"Adolescent/Autism-Adolescent-Data.arff\")\n",
        "      \n",
        "      #Basic Descriptive Info\n",
        "      Autism_Adolescent_Data[1:5, 1:10]\n",
        "      str(Autism_Adolescent_Data)\n",
        "      dim(Autism_Adolescent_Data)"
      ],
      "execution_count": 0,
      "outputs": [
        {
          "output_type": "display_data",
          "data": {
            "text/plain": [
              "[1] \"Autism-Adolescent-Data.arff\"                      \n",
              "[2] \"Autism-Adult-Data.arff\"                           \n",
              "[3] \"Autism-Screening-Adolescent-Data Description.docx\"\n",
              "[4] \"Autism-Screening-Adult-Data Description.docx\"     "
            ],
            "text/latex": "\\begin{enumerate*}\n\\item 'Autism-Adolescent-Data.arff'\n\\item 'Autism-Adult-Data.arff'\n\\item 'Autism-Screening-Adolescent-Data Description.docx'\n\\item 'Autism-Screening-Adult-Data Description.docx'\n\\end{enumerate*}\n",
            "text/markdown": "1. 'Autism-Adolescent-Data.arff'\n2. 'Autism-Adult-Data.arff'\n3. 'Autism-Screening-Adolescent-Data Description.docx'\n4. 'Autism-Screening-Adult-Data Description.docx'\n\n\n",
            "text/html": [
              "<style>\n",
              ".list-inline {list-style: none; margin:0; padding: 0}\n",
              ".list-inline>li {display: inline-block}\n",
              ".list-inline>li:not(:last-child)::after {content: \"\\00b7\"; padding: 0 .5ex}\n",
              "</style>\n",
              "<ol class=list-inline><li>'Autism-Adolescent-Data.arff'</li><li>'Autism-Adult-Data.arff'</li><li>'Autism-Screening-Adolescent-Data Description.docx'</li><li>'Autism-Screening-Adult-Data Description.docx'</li></ol>\n"
            ]
          },
          "metadata": {
            "tags": []
          }
        },
        {
          "output_type": "stream",
          "text": [
            "Parse with reader=readr : Adolescent/Autism-Adolescent-Data.arff\n",
            "\n",
            "header: 0.021000; preproc: 0.000000; data: 0.002000; postproc: 0.002000; total: 0.025000\n",
            "\n"
          ],
          "name": "stderr"
        },
        {
          "output_type": "display_data",
          "data": {
            "text/plain": [
              "  A1_Score A2_Score A3_Score A4_Score A5_Score A6_Score A7_Score A8_Score\n",
              "1 0        0        0        1        1        1        1        1       \n",
              "2 0        0        0        0        0        0        0        0       \n",
              "3 0        0        0        0        0        0        0        0       \n",
              "4 0        1        1        1        1        1        0        1       \n",
              "5 1        1        1        1        1        1        1        0       \n",
              "  A9_Score A10_Score\n",
              "1 1        0        \n",
              "2 1        1        \n",
              "3 1        1        \n",
              "4 1        0        \n",
              "5 0        0        "
            ],
            "text/latex": "A data.frame: 5 × 10\n\\begin{tabular}{r|llllllllll}\n  & A1\\_Score & A2\\_Score & A3\\_Score & A4\\_Score & A5\\_Score & A6\\_Score & A7\\_Score & A8\\_Score & A9\\_Score & A10\\_Score\\\\\n  & <fct> & <fct> & <fct> & <fct> & <fct> & <fct> & <fct> & <fct> & <fct> & <fct>\\\\\n\\hline\n\t1 & 0 & 0 & 0 & 1 & 1 & 1 & 1 & 1 & 1 & 0\\\\\n\t2 & 0 & 0 & 0 & 0 & 0 & 0 & 0 & 0 & 1 & 1\\\\\n\t3 & 0 & 0 & 0 & 0 & 0 & 0 & 0 & 0 & 1 & 1\\\\\n\t4 & 0 & 1 & 1 & 1 & 1 & 1 & 0 & 1 & 1 & 0\\\\\n\t5 & 1 & 1 & 1 & 1 & 1 & 1 & 1 & 0 & 0 & 0\\\\\n\\end{tabular}\n",
            "text/markdown": "\nA data.frame: 5 × 10\n\n| <!--/--> | A1_Score &lt;fct&gt; | A2_Score &lt;fct&gt; | A3_Score &lt;fct&gt; | A4_Score &lt;fct&gt; | A5_Score &lt;fct&gt; | A6_Score &lt;fct&gt; | A7_Score &lt;fct&gt; | A8_Score &lt;fct&gt; | A9_Score &lt;fct&gt; | A10_Score &lt;fct&gt; |\n|---|---|---|---|---|---|---|---|---|---|---|\n| 1 | 0 | 0 | 0 | 1 | 1 | 1 | 1 | 1 | 1 | 0 |\n| 2 | 0 | 0 | 0 | 0 | 0 | 0 | 0 | 0 | 1 | 1 |\n| 3 | 0 | 0 | 0 | 0 | 0 | 0 | 0 | 0 | 1 | 1 |\n| 4 | 0 | 1 | 1 | 1 | 1 | 1 | 0 | 1 | 1 | 0 |\n| 5 | 1 | 1 | 1 | 1 | 1 | 1 | 1 | 0 | 0 | 0 |\n\n",
            "text/html": [
              "<table>\n",
              "<caption>A data.frame: 5 × 10</caption>\n",
              "<thead>\n",
              "\t<tr><th></th><th scope=col>A1_Score</th><th scope=col>A2_Score</th><th scope=col>A3_Score</th><th scope=col>A4_Score</th><th scope=col>A5_Score</th><th scope=col>A6_Score</th><th scope=col>A7_Score</th><th scope=col>A8_Score</th><th scope=col>A9_Score</th><th scope=col>A10_Score</th></tr>\n",
              "\t<tr><th></th><th scope=col>&lt;fct&gt;</th><th scope=col>&lt;fct&gt;</th><th scope=col>&lt;fct&gt;</th><th scope=col>&lt;fct&gt;</th><th scope=col>&lt;fct&gt;</th><th scope=col>&lt;fct&gt;</th><th scope=col>&lt;fct&gt;</th><th scope=col>&lt;fct&gt;</th><th scope=col>&lt;fct&gt;</th><th scope=col>&lt;fct&gt;</th></tr>\n",
              "</thead>\n",
              "<tbody>\n",
              "\t<tr><th scope=row>1</th><td>0</td><td>0</td><td>0</td><td>1</td><td>1</td><td>1</td><td>1</td><td>1</td><td>1</td><td>0</td></tr>\n",
              "\t<tr><th scope=row>2</th><td>0</td><td>0</td><td>0</td><td>0</td><td>0</td><td>0</td><td>0</td><td>0</td><td>1</td><td>1</td></tr>\n",
              "\t<tr><th scope=row>3</th><td>0</td><td>0</td><td>0</td><td>0</td><td>0</td><td>0</td><td>0</td><td>0</td><td>1</td><td>1</td></tr>\n",
              "\t<tr><th scope=row>4</th><td>0</td><td>1</td><td>1</td><td>1</td><td>1</td><td>1</td><td>0</td><td>1</td><td>1</td><td>0</td></tr>\n",
              "\t<tr><th scope=row>5</th><td>1</td><td>1</td><td>1</td><td>1</td><td>1</td><td>1</td><td>1</td><td>0</td><td>0</td><td>0</td></tr>\n",
              "</tbody>\n",
              "</table>\n"
            ]
          },
          "metadata": {
            "tags": []
          }
        },
        {
          "output_type": "stream",
          "text": [
            "'data.frame':\t104 obs. of  21 variables:\n",
            " $ A1_Score       : Factor w/ 2 levels \"0\",\"1\": 1 1 1 1 2 2 1 2 2 1 ...\n",
            " $ A2_Score       : Factor w/ 2 levels \"0\",\"1\": 1 1 1 2 2 1 1 2 2 2 ...\n",
            " $ A3_Score       : Factor w/ 2 levels \"0\",\"1\": 1 1 1 2 2 1 1 1 2 2 ...\n",
            " $ A4_Score       : Factor w/ 2 levels \"0\",\"1\": 2 1 1 2 2 1 2 2 2 1 ...\n",
            " $ A5_Score       : Factor w/ 2 levels \"0\",\"1\": 2 1 1 2 2 1 2 2 2 1 ...\n",
            " $ A6_Score       : Factor w/ 2 levels \"0\",\"1\": 2 1 1 2 2 2 2 1 2 2 ...\n",
            " $ A7_Score       : Factor w/ 2 levels \"0\",\"1\": 2 1 1 1 2 1 2 2 1 1 ...\n",
            " $ A8_Score       : Factor w/ 2 levels \"0\",\"1\": 2 1 1 2 1 1 2 2 1 1 ...\n",
            " $ A9_Score       : Factor w/ 2 levels \"0\",\"1\": 2 2 2 2 1 2 2 1 1 2 ...\n",
            " $ A10_Score      : Factor w/ 2 levels \"0\",\"1\": 1 2 2 1 1 1 1 2 1 1 ...\n",
            " $ age            : num  15 15 12 14 16 13 16 15 12 12 ...\n",
            " $ gender         : Factor w/ 2 levels \"m\",\"f\": 1 1 2 2 2 2 2 2 1 2 ...\n",
            " $ ethnicity      : Factor w/ 8 levels \"Hispanic\",\"Black\",..: 1 2 NA 3 NA NA NA 4 2 5 ...\n",
            " $ jundice        : Factor w/ 2 levels \"yes\",\"no\": 1 2 2 2 2 2 2 2 1 2 ...\n",
            " $ austim         : Factor w/ 2 levels \"yes\",\"no\": 1 2 2 2 2 2 2 2 1 2 ...\n",
            " $ contry_of_res  : Factor w/ 33 levels \"Austria\",\"AmericanSamoa\",..: 1 1 2 3 4 5 6 7 8 9 ...\n",
            " $ used_app_before: Factor w/ 2 levels \"no\",\"yes\": 1 1 1 1 1 1 1 1 1 1 ...\n",
            " $ result         : num  6 2 2 7 7 3 6 7 6 4 ...\n",
            " $ age_desc       : Factor w/ 2 levels \"12-16 years\",..: 1 1 1 1 1 1 1 1 1 1 ...\n",
            " $ relation       : Factor w/ 5 levels \"Parent\",\"Relative\",..: 1 2 NA 3 NA NA NA 1 1 1 ...\n",
            " $ Class/ASD      : Factor w/ 2 levels \"NO\",\"YES\": 1 1 1 2 2 1 1 2 1 1 ...\n"
          ],
          "name": "stdout"
        },
        {
          "output_type": "display_data",
          "data": {
            "text/plain": [
              "[1] 104  21"
            ],
            "text/latex": "\\begin{enumerate*}\n\\item 104\n\\item 21\n\\end{enumerate*}\n",
            "text/markdown": "1. 104\n2. 21\n\n\n",
            "text/html": [
              "<style>\n",
              ".list-inline {list-style: none; margin:0; padding: 0}\n",
              ".list-inline>li {display: inline-block}\n",
              ".list-inline>li:not(:last-child)::after {content: \"\\00b7\"; padding: 0 .5ex}\n",
              "</style>\n",
              "<ol class=list-inline><li>104</li><li>21</li></ol>\n"
            ]
          },
          "metadata": {
            "tags": []
          }
        }
      ]
    },
    {
      "cell_type": "code",
      "metadata": {
        "id": "JOqvOdAD5DfC",
        "colab_type": "code",
        "outputId": "4a5e7403-441d-4f3e-ea64-fa069904fce5",
        "colab": {
          "base_uri": "https://localhost:8080/",
          "height": 612
        }
      },
      "source": [
        "# Adult Set\n",
        "# Set url link for the location of the dataset\n",
        "      AdultURL <- \"https://archive.ics.uci.edu/ml/machine-learning-databases/00426/Autism-Adult-Data%20Plus%20Description%20File.zip\"\n",
        "      \n",
        "      # Download the .zip file and unzip contents\n",
        "      download.file(AdultURL, dest = \"Adult.zip\", mode = \"wb\") \n",
        "      unzip(\"Adult.zip\", exdir = \"Adult\")\n",
        "      \n",
        "      # Assess the files contained in the .zip file and then import each dataset\n",
        "      list.files(\"Adult\")\n",
        "      Autism_Adult_Data <- readARFF(\"Adult/Autism-Adult-Data.arff\")\n",
        "      \n",
        "      #Basic Descriptive Info\n",
        "      Autism_Adult_Data[1:5, 1:10]\n",
        "      str(Autism_Adult_Data)\n",
        "      dim(Autism_Adult_Data)"
      ],
      "execution_count": 0,
      "outputs": [
        {
          "output_type": "display_data",
          "data": {
            "text/plain": [
              "[1] \"Autism-Adult-Data.arff\"                      \n",
              "[2] \"Autism-Screening-Adult-Data Description.docx\""
            ],
            "text/latex": "\\begin{enumerate*}\n\\item 'Autism-Adult-Data.arff'\n\\item 'Autism-Screening-Adult-Data Description.docx'\n\\end{enumerate*}\n",
            "text/markdown": "1. 'Autism-Adult-Data.arff'\n2. 'Autism-Screening-Adult-Data Description.docx'\n\n\n",
            "text/html": [
              "<style>\n",
              ".list-inline {list-style: none; margin:0; padding: 0}\n",
              ".list-inline>li {display: inline-block}\n",
              ".list-inline>li:not(:last-child)::after {content: \"\\00b7\"; padding: 0 .5ex}\n",
              "</style>\n",
              "<ol class=list-inline><li>'Autism-Adult-Data.arff'</li><li>'Autism-Screening-Adult-Data Description.docx'</li></ol>\n"
            ]
          },
          "metadata": {
            "tags": []
          }
        },
        {
          "output_type": "stream",
          "text": [
            "Parse with reader=readr : Adult/Autism-Adult-Data.arff\n",
            "\n",
            "header: 0.030000; preproc: 0.001000; data: 0.003000; postproc: 0.002000; total: 0.036000\n",
            "\n"
          ],
          "name": "stderr"
        },
        {
          "output_type": "display_data",
          "data": {
            "text/plain": [
              "  A1_Score A2_Score A3_Score A4_Score A5_Score A6_Score A7_Score A8_Score\n",
              "1 1        1        1        1        0        0        1        1       \n",
              "2 1        1        0        1        0        0        0        1       \n",
              "3 1        1        0        1        1        0        1        1       \n",
              "4 1        1        0        1        0        0        1        1       \n",
              "5 1        0        0        0        0        0        0        1       \n",
              "  A9_Score A10_Score\n",
              "1 0        0        \n",
              "2 0        1        \n",
              "3 1        1        \n",
              "4 0        1        \n",
              "5 0        0        "
            ],
            "text/latex": "A data.frame: 5 × 10\n\\begin{tabular}{r|llllllllll}\n  & A1\\_Score & A2\\_Score & A3\\_Score & A4\\_Score & A5\\_Score & A6\\_Score & A7\\_Score & A8\\_Score & A9\\_Score & A10\\_Score\\\\\n  & <fct> & <fct> & <fct> & <fct> & <fct> & <fct> & <fct> & <fct> & <fct> & <fct>\\\\\n\\hline\n\t1 & 1 & 1 & 1 & 1 & 0 & 0 & 1 & 1 & 0 & 0\\\\\n\t2 & 1 & 1 & 0 & 1 & 0 & 0 & 0 & 1 & 0 & 1\\\\\n\t3 & 1 & 1 & 0 & 1 & 1 & 0 & 1 & 1 & 1 & 1\\\\\n\t4 & 1 & 1 & 0 & 1 & 0 & 0 & 1 & 1 & 0 & 1\\\\\n\t5 & 1 & 0 & 0 & 0 & 0 & 0 & 0 & 1 & 0 & 0\\\\\n\\end{tabular}\n",
            "text/markdown": "\nA data.frame: 5 × 10\n\n| <!--/--> | A1_Score &lt;fct&gt; | A2_Score &lt;fct&gt; | A3_Score &lt;fct&gt; | A4_Score &lt;fct&gt; | A5_Score &lt;fct&gt; | A6_Score &lt;fct&gt; | A7_Score &lt;fct&gt; | A8_Score &lt;fct&gt; | A9_Score &lt;fct&gt; | A10_Score &lt;fct&gt; |\n|---|---|---|---|---|---|---|---|---|---|---|\n| 1 | 1 | 1 | 1 | 1 | 0 | 0 | 1 | 1 | 0 | 0 |\n| 2 | 1 | 1 | 0 | 1 | 0 | 0 | 0 | 1 | 0 | 1 |\n| 3 | 1 | 1 | 0 | 1 | 1 | 0 | 1 | 1 | 1 | 1 |\n| 4 | 1 | 1 | 0 | 1 | 0 | 0 | 1 | 1 | 0 | 1 |\n| 5 | 1 | 0 | 0 | 0 | 0 | 0 | 0 | 1 | 0 | 0 |\n\n",
            "text/html": [
              "<table>\n",
              "<caption>A data.frame: 5 × 10</caption>\n",
              "<thead>\n",
              "\t<tr><th></th><th scope=col>A1_Score</th><th scope=col>A2_Score</th><th scope=col>A3_Score</th><th scope=col>A4_Score</th><th scope=col>A5_Score</th><th scope=col>A6_Score</th><th scope=col>A7_Score</th><th scope=col>A8_Score</th><th scope=col>A9_Score</th><th scope=col>A10_Score</th></tr>\n",
              "\t<tr><th></th><th scope=col>&lt;fct&gt;</th><th scope=col>&lt;fct&gt;</th><th scope=col>&lt;fct&gt;</th><th scope=col>&lt;fct&gt;</th><th scope=col>&lt;fct&gt;</th><th scope=col>&lt;fct&gt;</th><th scope=col>&lt;fct&gt;</th><th scope=col>&lt;fct&gt;</th><th scope=col>&lt;fct&gt;</th><th scope=col>&lt;fct&gt;</th></tr>\n",
              "</thead>\n",
              "<tbody>\n",
              "\t<tr><th scope=row>1</th><td>1</td><td>1</td><td>1</td><td>1</td><td>0</td><td>0</td><td>1</td><td>1</td><td>0</td><td>0</td></tr>\n",
              "\t<tr><th scope=row>2</th><td>1</td><td>1</td><td>0</td><td>1</td><td>0</td><td>0</td><td>0</td><td>1</td><td>0</td><td>1</td></tr>\n",
              "\t<tr><th scope=row>3</th><td>1</td><td>1</td><td>0</td><td>1</td><td>1</td><td>0</td><td>1</td><td>1</td><td>1</td><td>1</td></tr>\n",
              "\t<tr><th scope=row>4</th><td>1</td><td>1</td><td>0</td><td>1</td><td>0</td><td>0</td><td>1</td><td>1</td><td>0</td><td>1</td></tr>\n",
              "\t<tr><th scope=row>5</th><td>1</td><td>0</td><td>0</td><td>0</td><td>0</td><td>0</td><td>0</td><td>1</td><td>0</td><td>0</td></tr>\n",
              "</tbody>\n",
              "</table>\n"
            ]
          },
          "metadata": {
            "tags": []
          }
        },
        {
          "output_type": "stream",
          "text": [
            "'data.frame':\t704 obs. of  21 variables:\n",
            " $ A1_Score       : Factor w/ 2 levels \"0\",\"1\": 2 2 2 2 2 2 1 2 2 2 ...\n",
            " $ A2_Score       : Factor w/ 2 levels \"0\",\"1\": 2 2 2 2 1 2 2 2 2 2 ...\n",
            " $ A3_Score       : Factor w/ 2 levels \"0\",\"1\": 2 1 1 1 1 2 1 2 1 2 ...\n",
            " $ A4_Score       : Factor w/ 2 levels \"0\",\"1\": 2 2 2 2 1 2 1 2 1 2 ...\n",
            " $ A5_Score       : Factor w/ 2 levels \"0\",\"1\": 1 1 2 1 1 2 1 1 2 1 ...\n",
            " $ A6_Score       : Factor w/ 2 levels \"0\",\"1\": 1 1 1 1 1 1 1 1 1 2 ...\n",
            " $ A7_Score       : Factor w/ 2 levels \"0\",\"1\": 2 1 2 2 1 2 1 1 1 2 ...\n",
            " $ A8_Score       : Factor w/ 2 levels \"0\",\"1\": 2 2 2 2 2 2 2 1 2 2 ...\n",
            " $ A9_Score       : Factor w/ 2 levels \"0\",\"1\": 1 1 2 1 1 2 1 2 2 2 ...\n",
            " $ A10_Score      : Factor w/ 2 levels \"0\",\"1\": 1 2 2 2 1 2 1 1 2 1 ...\n",
            " $ age            : num  26 24 27 35 40 36 17 64 29 17 ...\n",
            " $ gender         : Factor w/ 2 levels \"f\",\"m\": 1 2 2 1 1 2 1 2 2 2 ...\n",
            " $ ethnicity      : Factor w/ 11 levels \"White-European\",..: 1 2 2 1 NA 3 4 1 1 5 ...\n",
            " $ jundice        : Factor w/ 2 levels \"no\",\"yes\": 1 1 2 1 1 2 1 1 1 2 ...\n",
            " $ austim         : Factor w/ 2 levels \"no\",\"yes\": 1 2 2 2 1 1 1 1 1 2 ...\n",
            " $ contry_of_res  : Factor w/ 67 levels \"United States\",..: 1 2 3 1 4 1 1 5 1 6 ...\n",
            " $ used_app_before: Factor w/ 2 levels \"no\",\"yes\": 1 1 1 1 1 1 1 1 1 1 ...\n",
            " $ result         : num  6 5 8 6 2 9 2 5 6 8 ...\n",
            " $ age_desc       : Factor w/ 1 level \"18 and more\": 1 1 1 1 1 1 1 1 1 1 ...\n",
            " $ relation       : Factor w/ 5 levels \"Self\",\"Parent\",..: 1 1 2 1 NA 1 1 2 1 3 ...\n",
            " $ Class/ASD      : Factor w/ 2 levels \"NO\",\"YES\": 1 1 2 1 1 2 1 1 1 2 ...\n"
          ],
          "name": "stdout"
        },
        {
          "output_type": "display_data",
          "data": {
            "text/plain": [
              "[1] 704  21"
            ],
            "text/latex": "\\begin{enumerate*}\n\\item 704\n\\item 21\n\\end{enumerate*}\n",
            "text/markdown": "1. 704\n2. 21\n\n\n",
            "text/html": [
              "<style>\n",
              ".list-inline {list-style: none; margin:0; padding: 0}\n",
              ".list-inline>li {display: inline-block}\n",
              ".list-inline>li:not(:last-child)::after {content: \"\\00b7\"; padding: 0 .5ex}\n",
              "</style>\n",
              "<ol class=list-inline><li>704</li><li>21</li></ol>\n"
            ]
          },
          "metadata": {
            "tags": []
          }
        }
      ]
    },
    {
      "cell_type": "code",
      "metadata": {
        "id": "pEg1Q9PZRJE5",
        "colab_type": "code",
        "colab": {}
      },
      "source": [
        "#----- Step 1: Load the data sets-----#\n",
        "\n",
        "##Load Data \n",
        "#The data was from the UCI Machine Learning Repository\n",
        "#https://archive.ics.uci.edu/ml/datasets/Autistic+Spectrum+Disorder+Screening+Data+for+Children++#\n",
        "#https://archive.ics.uci.edu/ml/datasets/Autistic+Spectrum+Disorder+Screening+Data+for+Adolescent+++\n",
        "#https://archive.ics.uci.edu/ml/datasets/Autism+Screening+Adult\n",
        "\n",
        "#rawdata\n",
        "#filepath = 'F:/School/Syracuse University/MS Data Sciences/School Work/IST/IST 707/Project/Data/Austism-Child-Data.arff'\n",
        "#Autism_Child_Data <- readARFF(\"F:/School/Syracuse University/MS Data Sciences/School Work/IST/IST 707/Project/Data/Autism-Child-Data.arff\")\n",
        "#Autism_Adult_Data <- readARFF(\"F:/School/Syracuse University/MS Data Sciences/School Work/IST/IST 707/Project/Data/Autism-Adult-Data.arff\")\n",
        "#Autism_Adolescent_Data <- readARFF(\"F:/School/Syracuse University/MS Data Sciences/School Work/IST/IST 707/Project/Data/Autism-Adolescent-Data.arff\")\n",
        "\n",
        "#sets for editing\n",
        "AutChild <- Autism_Child_Data\n",
        "AutTeen <- Autism_Adolescent_Data\n",
        "AutAdult <- Autism_Adult_Data"
      ],
      "execution_count": 0,
      "outputs": []
    },
    {
      "cell_type": "code",
      "metadata": {
        "id": "N1kc1ptIRloW",
        "colab_type": "code",
        "outputId": "de44cfbf-8c6b-41ba-8860-67253090e771",
        "colab": {
          "base_uri": "https://localhost:8080/",
          "height": 1000
        }
      },
      "source": [
        "#----- Reorganizing Data -----#\n",
        "\n",
        "#I will reoganize my set columns to match the attribute information document provided\n",
        "AutChild <- AutChild[,c(21,11:15,20,16,17,19,1:10,18)]\n",
        "AutTeen <- AutTeen[,c(21,11:15,20,16,17,19,1:10,18)]\n",
        "AutAdult <- AutAdult[,c(21,11:15,20,16,17,19,1:10,18)]\n",
        "\n",
        "#Cleansing errors\n",
        "  #AutAdult\n",
        "  AutAdult$ethnicity <- as.character(AutAdult$ethnicity)\n",
        "  AutAdult$ethnicity[is.na(AutAdult$ethnicity)] <- \"Unknown\"\n",
        "  AutAdult$ethnicity <- as.factor(AutAdult$ethnicity)\n",
        "  AutAdult$relation <- as.character(AutAdult$relation)\n",
        "  AutAdult$relation[is.na(AutAdult$relation)] <- \"Unknown\"\n",
        "  AutAdult$relation <- as.factor(AutAdult$relation)\n",
        "  \n",
        "  #AutChild\n",
        "  AutChild$ethnicity <- as.character(AutChild$ethnicity)\n",
        "  AutChild$ethnicity[is.na(AutChild$ethnicity)] <- \"Unknown\"\n",
        "  AutChild$ethnicity <- as.factor(AutChild$ethnicity)\n",
        "  AutChild$relation <- as.character(AutChild$relation)\n",
        "  AutChild$relation[is.na(AutChild$relation)] <- \"Unknown\"\n",
        "  AutChild$relation <- as.factor(AutChild$relation)\n",
        "  AutChild$relation <- gsub(\"self\", \"Self\", AutChild$relation)\n",
        "\n",
        "  #AutTeen\n",
        "  AutTeen$ethnicity <- as.character(AutTeen$ethnicity)\n",
        "  AutTeen$ethnicity[is.na(AutTeen$ethnicity)] <- \"Unknown\"\n",
        "  AutTeen$ethnicity <- as.factor(AutTeen$ethnicity)\n",
        "  AutTeen$relation <- as.character(AutTeen$relation)\n",
        "  AutTeen$relation[is.na(AutTeen$relation)] <- \"Unknown\"\n",
        "  AutTeen$relation <- as.factor(AutTeen$relation)\n",
        "  AutTeen$age_desc <- as.factor(\"12-17 years\")\n",
        "  \n",
        "  #Replace NAs in age column with mean value\n",
        "  AutAdult$age[is.na(AutAdult$age)] <- mean(AutAdult$age, na.rm=TRUE)\n",
        "  AutChild$age[is.na(AutChild$age)] <- mean(AutChild$age, na.rm=TRUE)\n",
        "  AutTeen$age[is.na(AutTeen$age)] <- mean(AutTeen$age, na.rm=TRUE)\n",
        "\n",
        "  #change col classification\n",
        "  cols = c(11:21);    \n",
        "  AutAdult[,cols] = apply(AutAdult[,cols], 2, function(x) as.numeric(as.character(x)));\n",
        "  AutChild[,cols] = apply(AutChild[,cols], 2, function(x) as.numeric(as.character(x)));\n",
        "  AutTeen[,cols] = apply(AutTeen[,cols], 2, function(x) as.numeric(as.character(x)));\n",
        "\n",
        "  #combining the three sets into one total set\n",
        "  AutTotal <- rbind(AutChild,AutTeen,AutAdult)\n",
        "  colnames(AutTotal)[1] <- \"ClassASD\"\n",
        "  colnames(AutTotal)[6] <- \"AutismInFamily\"\n",
        "  colnames(AutTotal)[8] <- \"country\"\n",
        "  colnames(AutTotal)[9] <- \"used_app\"\n",
        "  summary(AutTotal)\n",
        "  str(AutTotal)"
      ],
      "execution_count": 0,
      "outputs": [
        {
          "output_type": "display_data",
          "data": {
            "text/plain": [
              " ClassASD       age         gender            ethnicity   jundice  \n",
              " NO :707   Min.   :  4.00   m:625   White-European :381   no :935  \n",
              " YES:393   1st Qu.: 11.00   f:475   Asian          :185   yes:165  \n",
              "           Median : 21.00           Unknown        :144            \n",
              "           Mean   : 22.03           Middle Eastern :128            \n",
              "           3rd Qu.: 30.00           Black          : 65            \n",
              "           Max.   :383.00           South Asian    : 60            \n",
              "                                    (Other)        :137            \n",
              " AutismInFamily   relation                         country    used_app  \n",
              " no :946        Length:1100        United States       :167   no :1073  \n",
              " yes:154        Class :character   United Kingdom      :155   yes:  27  \n",
              "                Mode  :character   India               :130             \n",
              "                                   New Zealand         : 95             \n",
              "                                   United Arab Emirates: 90             \n",
              "                                   Jordan              : 68             \n",
              "                                   (Other)             :395             \n",
              "        age_desc      A1_Score         A2_Score         A3_Score     \n",
              " 4-11 years :292   Min.   :0.0000   Min.   :0.0000   Min.   :0.0000  \n",
              " 12-17 years:104   1st Qu.:0.0000   1st Qu.:0.0000   1st Qu.:0.0000  \n",
              " 18 and more:704   Median :1.0000   Median :0.0000   Median :1.0000  \n",
              "                   Mean   :0.6991   Mean   :0.4827   Mean   :0.5518  \n",
              "                   3rd Qu.:1.0000   3rd Qu.:1.0000   3rd Qu.:1.0000  \n",
              "                   Max.   :1.0000   Max.   :1.0000   Max.   :1.0000  \n",
              "                                                                     \n",
              "    A4_Score       A5_Score         A6_Score         A7_Score     \n",
              " Min.   :0.00   Min.   :0.0000   Min.   :0.0000   Min.   :0.0000  \n",
              " 1st Qu.:0.00   1st Qu.:0.0000   1st Qu.:0.0000   1st Qu.:0.0000  \n",
              " Median :1.00   Median :1.0000   Median :0.0000   Median :0.0000  \n",
              " Mean   :0.53   Mean   :0.5873   Mean   :0.4436   Mean   :0.4773  \n",
              " 3rd Qu.:1.00   3rd Qu.:1.0000   3rd Qu.:1.0000   3rd Qu.:1.0000  \n",
              " Max.   :1.00   Max.   :1.0000   Max.   :1.0000   Max.   :1.0000  \n",
              "                                                                  \n",
              "    A8_Score         A9_Score        A10_Score          result      \n",
              " Min.   :0.0000   Min.   :0.0000   Min.   :0.0000   Min.   : 0.000  \n",
              " 1st Qu.:0.0000   1st Qu.:0.0000   1st Qu.:0.0000   1st Qu.: 3.000  \n",
              " Median :1.0000   Median :0.0000   Median :1.0000   Median : 5.000  \n",
              " Mean   :0.6055   Mean   :0.4127   Mean   :0.6218   Mean   : 5.412  \n",
              " 3rd Qu.:1.0000   3rd Qu.:1.0000   3rd Qu.:1.0000   3rd Qu.: 7.250  \n",
              " Max.   :1.0000   Max.   :1.0000   Max.   :1.0000   Max.   :10.000  \n",
              "                                                                    "
            ]
          },
          "metadata": {
            "tags": []
          }
        },
        {
          "output_type": "stream",
          "text": [
            "'data.frame':\t1100 obs. of  21 variables:\n",
            " $ ClassASD      : Factor w/ 2 levels \"NO\",\"YES\": 1 1 1 1 2 1 2 2 2 1 ...\n",
            " $ age           : num  6 6 6 5 5 4 5 5 11 11 ...\n",
            " $ gender        : Factor w/ 2 levels \"m\",\"f\": 1 1 1 2 1 1 1 2 2 2 ...\n",
            " $ ethnicity     : Factor w/ 12 levels \"Asian\",\"Black\",..: 6 5 10 10 6 10 11 5 5 10 ...\n",
            " $ jundice       : Factor w/ 2 levels \"no\",\"yes\": 1 1 1 2 2 1 1 1 1 1 ...\n",
            " $ AutismInFamily: Factor w/ 2 levels \"no\",\"yes\": 1 1 1 1 1 2 1 1 1 2 ...\n",
            " $ relation      : chr  \"Parent\" \"Parent\" \"Unknown\" \"Unknown\" ...\n",
            " $ country       : Factor w/ 89 levels \"Jordan\",\"United States\",..: 1 1 1 1 2 3 4 5 5 6 ...\n",
            " $ used_app      : Factor w/ 2 levels \"no\",\"yes\": 1 1 2 1 1 1 1 1 1 1 ...\n",
            " $ age_desc      : Factor w/ 3 levels \"4-11 years\",\"12-17 years\",..: 1 1 1 1 1 1 1 1 1 1 ...\n",
            " $ A1_Score      : num  1 1 1 0 1 0 1 1 1 0 ...\n",
            " $ A2_Score      : num  1 1 1 1 1 0 0 1 1 0 ...\n",
            " $ A3_Score      : num  0 0 0 0 1 1 1 1 1 1 ...\n",
            " $ A4_Score      : num  0 0 0 0 1 0 1 1 1 1 ...\n",
            " $ A5_Score      : num  1 1 0 1 1 1 1 1 1 1 ...\n",
            " $ A6_Score      : num  1 1 1 1 1 1 1 1 1 0 ...\n",
            " $ A7_Score      : num  0 0 1 0 1 0 0 1 1 1 ...\n",
            " $ A8_Score      : num  1 1 1 0 1 1 1 1 0 1 ...\n",
            " $ A9_Score      : num  0 0 0 0 1 0 0 0 0 0 ...\n",
            " $ A10_Score     : num  0 0 0 1 1 1 1 0 0 0 ...\n",
            " $ result        : num  5 5 5 4 10 5 7 8 7 5 ...\n"
          ],
          "name": "stdout"
        }
      ]
    },
    {
      "cell_type": "code",
      "metadata": {
        "id": "ohXVdTiIRoc1",
        "colab_type": "code",
        "colab": {}
      },
      "source": [
        "#----- Look At ethnicity-----# \n",
        "  List <- NA\n",
        "  List <- sqldf(\"select \n",
        "                          ethnicity\n",
        "                          from AutTotal\n",
        "                          group by ethnicity\")\n",
        "  # I ran List here and observed 12 ethnicities"
      ],
      "execution_count": 0,
      "outputs": []
    },
    {
      "cell_type": "code",
      "metadata": {
        "id": "7IIKNDV3RrNW",
        "colab_type": "code",
        "colab": {}
      },
      "source": [
        "#----- Look At countries-----# \n",
        "  List <- NA\n",
        "  List <- sqldf(\"select \n",
        "                          country\n",
        "                          from AutTotal\n",
        "                          group by country\")\n",
        "  # I ran List here and observed 89 countries"
      ],
      "execution_count": 0,
      "outputs": []
    },
    {
      "cell_type": "code",
      "metadata": {
        "id": "B-zZj9Z-RuXm",
        "colab_type": "code",
        "colab": {}
      },
      "source": [
        "#Merge Duplicate Classifications\n",
        "  #AutTotal$gender <- gsub(\"m\", \"Gender-M\", AutTotal$gender)\n",
        "  #AutTotal$gender <- gsub(\"f\", \"Gender-F\", AutTotal$gender)\n",
        "  AutTotal$ethnicity <- gsub(\"Hispanic\", \"Latino\", AutTotal$ethnicity)\n",
        "  AutTotal$ethnicity <- gsub(\"Hispanic\", \"Latino\", AutTotal$ethnicity)\n",
        "  AutTotal$ethnicity <- gsub(\"others\", \"Others\", AutTotal$ethnicity)\n",
        "  AutTotal$ethnicity <- gsub(\"Others\", \"Other-Ethnicity\", AutTotal$ethnicity)\n",
        "  AutTotal$ethnicity <- gsub(\"Unknown\", \"Unknown-Ethnicity\", AutTotal$ethnicity)\n",
        "  AutTotal$jundice <- gsub(\"yes\", \"JundiceY\", AutTotal$jundice)\n",
        "  AutTotal$jundice <- gsub(\"no\", \"JundiceN\", AutTotal$jundice)\n",
        "  AutTotal$AutismInFamily <- gsub(\"yes\", \"FamAutismY\", AutTotal$AutismInFamily)\n",
        "  AutTotal$AutismInFamily <- gsub(\"no\", \"FamAutismN\", AutTotal$AutismInFamily)\n",
        "  AutTotal$relation <- gsub(\"Health care professional\", \"RelationHealthcarePro\", AutTotal$relation)\n",
        "  AutTotal$relation <- gsub(\"Others\", \"RelationOther\", AutTotal$relation)\n",
        "  AutTotal$relation <- gsub(\"Parent\", \"RelationParent\", AutTotal$relation)\n",
        "  AutTotal$relation <- gsub(\"Relative\", \"RelationRelative\", AutTotal$relation)\n",
        "  AutTotal$relation <- gsub(\"Self\", \"RelationSelf\", AutTotal$relation)\n",
        "  AutTotal$relation <- gsub(\"Unknown\", \"RelationUnkown\", AutTotal$relation)\n",
        "  AutTotal$country <- gsub(\"Viet Nam\", \"Vietnam\", AutTotal$country)\n",
        "  AutTotal$used_app <- gsub(\"yes\", \"UsedAppY\", AutTotal$used_app)\n",
        "  AutTotal$used_app <- gsub(\"no\", \"UsedAppN\", AutTotal$used_app)\n",
        "  AutTotal$age_desc <- gsub(\"4-11 years\", \"4to11\", AutTotal$age_desc)\n",
        "  AutTotal$age_desc <- gsub(\"12-17 years\", \"12to17\", AutTotal$age_desc)\n",
        "  AutTotal$age_desc <- gsub(\"18 and more\", \"18Plus\", AutTotal$age_desc)"
      ],
      "execution_count": 0,
      "outputs": []
    },
    {
      "cell_type": "code",
      "metadata": {
        "id": "DBek6oR8RxfY",
        "colab_type": "code",
        "outputId": "2be84baf-0451-43e8-831f-99741187a493",
        "colab": {
          "base_uri": "https://localhost:8080/",
          "height": 66
        }
      },
      "source": [
        "#New Continent Column created\n",
        "  AutTotal$continent <- countrycode(sourcevar = AutTotal[, \"country\"], origin = \"country.name\", destination = \"continent\")\n",
        "  AutTotal[15, 22] <- \"Europe\"\n",
        "  AutTotal[196, 22] <- \"Americas\"\n",
        "  AutTotal <- AutTotal[,c(1,3,5:7,9:21)]"
      ],
      "execution_count": 0,
      "outputs": [
        {
          "output_type": "stream",
          "text": [
            "Warning message in countrycode(sourcevar = AutTotal[, \"country\"], origin = \"country.name\", :\n",
            "“Some values were not matched unambiguously: Europe, U.S. Outlying Islands\n",
            "”\n"
          ],
          "name": "stderr"
        }
      ]
    },
    {
      "cell_type": "code",
      "metadata": {
        "id": "ajLry-gDR0Xx",
        "colab_type": "code",
        "outputId": "46ba089f-e825-4661-d492-ccb6be820682",
        "colab": {
          "base_uri": "https://localhost:8080/",
          "height": 1000
        }
      },
      "source": [
        "#----- Creating Training and Test Sets FOR ONLY Questionaire-----#\n",
        "          #Model shows 100% accuracy in decision tree.\n",
        "          #Predicting factor is a score >6 (results)\n",
        "          Total1 <- AutTotal[,c(1, 8:18)] \n",
        "          #create sets using caret library\n",
        "          inTraining <- createDataPartition(Total1$ClassASD, times = 1, p = .66, list = FALSE)\n",
        "          trainAut <- Total1[ inTraining,]\n",
        "          trainAut$ClassASD <- droplevels( trainAut)$ClassASD\n",
        "          testAut  <- Total1[-inTraining,]\n",
        "          testAut$ClassASD <- droplevels(testAut)$ClassASD\n",
        "          \n",
        "          #building Model using c50 Algorithim (c50 library)\n",
        "          dt_model <- C5.0(trainAut[-1], trainAut$ClassASD)\n",
        "          dt_model\n",
        "          \n",
        "          summary(dt_model) \n",
        "          \n",
        "          #evaluating performance\n",
        "          pred_model <- predict(dt_model, testAut)\n",
        "          CrossTable(testAut$ClassASD, pred_model, prop.chisq = FALSE, prop.c = FALSE, prop.r = FALSE, dnn = c('actual diagnosis', 'predicted diagnosis') )"
      ],
      "execution_count": 0,
      "outputs": [
        {
          "output_type": "display_data",
          "data": {
            "text/plain": [
              "\n",
              "Call:\n",
              "C5.0.default(x = trainAut[-1], y = trainAut$ClassASD)\n",
              "\n",
              "Classification Tree\n",
              "Number of samples: 727 \n",
              "Number of predictors: 11 \n",
              "\n",
              "Tree size: 2 \n",
              "\n",
              "Non-standard options: attempt to group attributes\n"
            ]
          },
          "metadata": {
            "tags": []
          }
        },
        {
          "output_type": "display_data",
          "data": {
            "text/plain": [
              "\n",
              "Call:\n",
              "C5.0.default(x = trainAut[-1], y = trainAut$ClassASD)\n",
              "\n",
              "\n",
              "C5.0 [Release 2.07 GPL Edition]  \tTue Apr 28 03:51:58 2020\n",
              "-------------------------------\n",
              "\n",
              "Class specified by attribute `outcome'\n",
              "\n",
              "Read 727 cases (12 attributes) from undefined.data\n",
              "\n",
              "Decision tree:\n",
              "\n",
              "result <= 6: NO (467)\n",
              "result > 6: YES (260)\n",
              "\n",
              "\n",
              "Evaluation on training data (727 cases):\n",
              "\n",
              "\t    Decision Tree   \n",
              "\t  ----------------  \n",
              "\t  Size      Errors  \n",
              "\n",
              "\t     2    0( 0.0%)   <<\n",
              "\n",
              "\n",
              "\t   (a)   (b)    <-classified as\n",
              "\t  ----  ----\n",
              "\t   467          (a): class NO\n",
              "\t         260    (b): class YES\n",
              "\n",
              "\n",
              "\tAttribute usage:\n",
              "\n",
              "\t100.00%\tresult\n",
              "\n",
              "\n",
              "Time: 0.0 secs\n"
            ]
          },
          "metadata": {
            "tags": []
          }
        },
        {
          "output_type": "stream",
          "text": [
            "\n",
            " \n",
            "   Cell Contents\n",
            "|-------------------------|\n",
            "|                       N |\n",
            "|         N / Table Total |\n",
            "|-------------------------|\n",
            "\n",
            " \n",
            "Total Observations in Table:  373 \n",
            "\n",
            " \n",
            "                 | predicted diagnosis \n",
            "actual diagnosis |        NO |       YES | Row Total | \n",
            "-----------------|-----------|-----------|-----------|\n",
            "              NO |       240 |         0 |       240 | \n",
            "                 |     0.643 |     0.000 |           | \n",
            "-----------------|-----------|-----------|-----------|\n",
            "             YES |         0 |       133 |       133 | \n",
            "                 |     0.000 |     0.357 |           | \n",
            "-----------------|-----------|-----------|-----------|\n",
            "    Column Total |       240 |       133 |       373 | \n",
            "-----------------|-----------|-----------|-----------|\n",
            "\n",
            " \n"
          ],
          "name": "stdout"
        }
      ]
    },
    {
      "cell_type": "code",
      "metadata": {
        "id": "emwq5NLfR4Yt",
        "colab_type": "code",
        "colab": {}
      },
      "source": [
        "#Create Expanded  Set for more DM\n",
        "  #help from https://www.r-statistics.com/tag/transpose/\n",
        "  AutExp <- AutTotal\n",
        "                      #----- Step 1: Gender-----# \n",
        "                      List <- NA\n",
        "                      List <- sqldf(\"select \n",
        "                                          Gender\n",
        "                                          from AutExp\n",
        "                                          group by Gender\")\n",
        "                      List1 <- List\n",
        "                      Column <- NA\n",
        "                      Column <- t(List1)\n",
        "                      colnames(Column) <- Column[1,]\n",
        "                      NewDF <- Column\n",
        "                      #Part2\n",
        "                      B <- NA\n",
        "                      B <- matrix(NA, nrow = (length(AutExp$ClassASD)), ncol = (length(List$gender)))\n",
        "                      B <- as.data.frame (B)\n",
        "                      colnames(B) <- Column\n",
        "                      colnames(B) <- Column[1,]\n",
        "                      \n",
        "                      #Combine\n",
        "              NewAutDF <- cbind(AutExp,B)\n",
        "                     #----- Step 2: Jundice-----# \n",
        "                      List <- NA\n",
        "                      List <- sqldf(\"select \n",
        "                                                          jundice\n",
        "                                                          from AutExp\n",
        "                                                          group by jundice\")\n",
        "                      List1 <- List\n",
        "                      Column <- NA\n",
        "                      Column <- t(List1)\n",
        "                      colnames(Column) <- Column[1,]\n",
        "                      NewDF <- Column\n",
        "                      #Part2\n",
        "                      B <- NA\n",
        "                      B <- matrix(NA, nrow = (length(AutExp$ClassASD)), ncol = (length(List$jundice)))\n",
        "                      B <- as.data.frame (B)\n",
        "                      colnames(B) <- Column\n",
        "                      colnames(B) <- Column[1,]\n",
        "                      #Combine\n",
        "              NewAutDF <- cbind(NewAutDF,B)\n",
        "                      #----- Step 3: AutismInFamily -----# \n",
        "                      List <- NA\n",
        "                      List <- sqldf(\"select \n",
        "                                                                  AutismInFamily \n",
        "                                                                  from AutExp\n",
        "                                                                  group by AutismInFamily\")\n",
        "                      List1 <- List\n",
        "                      Column <- NA\n",
        "                      Column <- t(List1)\n",
        "                      colnames(Column) <- Column[1,]\n",
        "                      NewDF <- Column\n",
        "                      #Part2\n",
        "                      B <- NA\n",
        "                      B <- matrix(NA, nrow = (length(AutExp$ClassASD)), ncol = (length(List$AutismInFamily )))\n",
        "                      B <- as.data.frame (B)\n",
        "                      colnames(B) <- Column\n",
        "                      colnames(B) <- Column[1,]\n",
        "                      #Part3\n",
        "              NewAutDF <- cbind(NewAutDF,B)        \n",
        "                      #----- Step 4: Relation -----# \n",
        "                      List <- NA\n",
        "                      List <- sqldf(\"select \n",
        "                                                    relation\n",
        "                                                    from AutExp\n",
        "                                                    group by relation\")\n",
        "                      List1 <- List\n",
        "                      Column <- NA\n",
        "                      Column <- t(List1)\n",
        "                      colnames(Column) <- Column[1,]\n",
        "                      NewDF <- Column\n",
        "                      #Part2\n",
        "                      B <- NA\n",
        "                      B <- matrix(NA, nrow = (length(AutExp$ClassASD)), ncol = (length(List$relation)))\n",
        "                      B <- as.data.frame (B)\n",
        "                      colnames(B) <- Column\n",
        "                      colnames(B) <- Column[1,]\n",
        "                      #Part3\n",
        "            NewAutDF <- cbind(NewAutDF,B)  \n",
        "                      #----- Step 5: Used App-----# \n",
        "                      List <- NA\n",
        "                      List <- sqldf(\"select \n",
        "                                                                    used_app\n",
        "                                                                    from AutExp\n",
        "                                                                    group by used_app\")\n",
        "                      List1 <- List\n",
        "                      Column <- NA\n",
        "                      Column <- t(List1)\n",
        "                      colnames(Column) <- Column[1,]\n",
        "                      NewDF <- Column\n",
        "                      #Part2\n",
        "                      B <- NA\n",
        "                      B <- matrix(NA, nrow = (length(AutExp$ClassASD)), ncol = (length(List$used_app)))\n",
        "                      B <- as.data.frame (B)\n",
        "                      colnames(B) <- Column\n",
        "                      colnames(B) <- Column[1,]\n",
        "                      #Part3\n",
        "              NewAutDF <- cbind(NewAutDF,B)  \n",
        "                    #----- Step 5: Age Desc-----# \n",
        "                    List <- NA\n",
        "                    List <- sqldf(\"select \n",
        "                                                                          age_desc\n",
        "                                                                          from AutExp\n",
        "                                                                          group by age_desc\")\n",
        "                    List1 <- List\n",
        "                    Column <- NA\n",
        "                    Column <- t(List1)\n",
        "                    colnames(Column) <- Column[1,]\n",
        "                    NewDF <- Column\n",
        "                    #Part2\n",
        "                    B <- NA\n",
        "                    B <- matrix(NA, nrow = (length(AutExp$ClassASD)), ncol = (length(List$age_desc)))\n",
        "                    B <- as.data.frame (B)\n",
        "                    colnames(B) <- Column\n",
        "                    colnames(B) <- Column[1,]\n",
        "                    #Part3\n",
        "              NewAutDF <- cbind(NewAutDF,B)  \n",
        "  AutExp2 <- NewAutDF"
      ],
      "execution_count": 0,
      "outputs": []
    },
    {
      "cell_type": "code",
      "metadata": {
        "id": "GHVX81v7SAsw",
        "colab_type": "code",
        "outputId": "6441d7b6-306d-4d67-b0e8-06da7146f3c8",
        "colab": {
          "base_uri": "https://localhost:8080/",
          "height": 50
        }
      },
      "source": [
        "#2 Fill in Rows for DM\n",
        "  #From https://www.listendata.com/2017/03/if-else-in-r.html\n",
        "  #mydata$x4 = ifelse(mydata$x2>150,1,0)\n",
        "          colnames(AutExp2)\n",
        "\n",
        "          AutExp2[,19] = ifelse((AutExp2[,2])==(colnames(AutExp2[19])),1,0)\n",
        "          AutExp2[,20] = ifelse((AutExp2[,2])==(colnames(AutExp2[20])),1,0)\n",
        "          AutExp2[,21] = ifelse((AutExp2[,3])==(colnames(AutExp2[21])),1,0)\n",
        "          AutExp2[,22] = ifelse((AutExp2[,3])==(colnames(AutExp2[22])),1,0)\n",
        "          AutExp2[,23] = ifelse((AutExp2[,4])==(colnames(AutExp2[23])),1,0)\n",
        "          AutExp2[,24] = ifelse((AutExp2[,4])==(colnames(AutExp2[24])),1,0)\n",
        "          AutExp2[,25] = ifelse((AutExp2[,5])==(colnames(AutExp2[25])),1,0)\n",
        "          AutExp2[,26] = ifelse((AutExp2[,5])==(colnames(AutExp2[26])),1,0)\n",
        "          AutExp2[,27] = ifelse((AutExp2[,5])==(colnames(AutExp2[27])),1,0)\n",
        "          AutExp2[,28] = ifelse((AutExp2[,5])==(colnames(AutExp2[28])),1,0)\n",
        "          AutExp2[,29] = ifelse((AutExp2[,5])==(colnames(AutExp2[29])),1,0)\n",
        "          AutExp2[,30] = ifelse((AutExp2[,5])==(colnames(AutExp2[30])),1,0)\n",
        "          AutExp2[,31] = ifelse((AutExp2[,6])==(colnames(AutExp2[31])),1,0)\n",
        "          AutExp2[,32] = ifelse((AutExp2[,6])==(colnames(AutExp2[32])),1,0)\n",
        "          AutExp2[,33] = ifelse((AutExp2[,7])==(colnames(AutExp2[33])),1,0)\n",
        "          AutExp2[,34] = ifelse((AutExp2[,7])==(colnames(AutExp2[34])),1,0)\n",
        "          AutExp2[,35] = ifelse((AutExp2[,7])==(colnames(AutExp2[35])),1,0)"
      ],
      "execution_count": 0,
      "outputs": [
        {
          "output_type": "display_data",
          "data": {
            "text/plain": [
              " [1] \"ClassASD\"              \"gender\"                \"jundice\"              \n",
              " [4] \"AutismInFamily\"        \"relation\"              \"used_app\"             \n",
              " [7] \"age_desc\"              \"A1_Score\"              \"A2_Score\"             \n",
              "[10] \"A3_Score\"              \"A4_Score\"              \"A5_Score\"             \n",
              "[13] \"A6_Score\"              \"A7_Score\"              \"A8_Score\"             \n",
              "[16] \"A9_Score\"              \"A10_Score\"             \"result\"               \n",
              "[19] \"f\"                     \"m\"                     \"JundiceN\"             \n",
              "[22] \"JundiceY\"              \"FamAutismN\"            \"FamAutismY\"           \n",
              "[25] \"RelationHealthcarePro\" \"RelationOther\"         \"RelationParent\"       \n",
              "[28] \"RelationRelative\"      \"RelationSelf\"          \"RelationUnkown\"       \n",
              "[31] \"UsedAppN\"              \"UsedAppY\"              \"12to17\"               \n",
              "[34] \"18Plus\"                \"4to11\"                "
            ],
            "text/latex": "\\begin{enumerate*}\n\\item 'ClassASD'\n\\item 'gender'\n\\item 'jundice'\n\\item 'AutismInFamily'\n\\item 'relation'\n\\item 'used\\_app'\n\\item 'age\\_desc'\n\\item 'A1\\_Score'\n\\item 'A2\\_Score'\n\\item 'A3\\_Score'\n\\item 'A4\\_Score'\n\\item 'A5\\_Score'\n\\item 'A6\\_Score'\n\\item 'A7\\_Score'\n\\item 'A8\\_Score'\n\\item 'A9\\_Score'\n\\item 'A10\\_Score'\n\\item 'result'\n\\item 'f'\n\\item 'm'\n\\item 'JundiceN'\n\\item 'JundiceY'\n\\item 'FamAutismN'\n\\item 'FamAutismY'\n\\item 'RelationHealthcarePro'\n\\item 'RelationOther'\n\\item 'RelationParent'\n\\item 'RelationRelative'\n\\item 'RelationSelf'\n\\item 'RelationUnkown'\n\\item 'UsedAppN'\n\\item 'UsedAppY'\n\\item '12to17'\n\\item '18Plus'\n\\item '4to11'\n\\end{enumerate*}\n",
            "text/markdown": "1. 'ClassASD'\n2. 'gender'\n3. 'jundice'\n4. 'AutismInFamily'\n5. 'relation'\n6. 'used_app'\n7. 'age_desc'\n8. 'A1_Score'\n9. 'A2_Score'\n10. 'A3_Score'\n11. 'A4_Score'\n12. 'A5_Score'\n13. 'A6_Score'\n14. 'A7_Score'\n15. 'A8_Score'\n16. 'A9_Score'\n17. 'A10_Score'\n18. 'result'\n19. 'f'\n20. 'm'\n21. 'JundiceN'\n22. 'JundiceY'\n23. 'FamAutismN'\n24. 'FamAutismY'\n25. 'RelationHealthcarePro'\n26. 'RelationOther'\n27. 'RelationParent'\n28. 'RelationRelative'\n29. 'RelationSelf'\n30. 'RelationUnkown'\n31. 'UsedAppN'\n32. 'UsedAppY'\n33. '12to17'\n34. '18Plus'\n35. '4to11'\n\n\n",
            "text/html": [
              "<style>\n",
              ".list-inline {list-style: none; margin:0; padding: 0}\n",
              ".list-inline>li {display: inline-block}\n",
              ".list-inline>li:not(:last-child)::after {content: \"\\00b7\"; padding: 0 .5ex}\n",
              "</style>\n",
              "<ol class=list-inline><li>'ClassASD'</li><li>'gender'</li><li>'jundice'</li><li>'AutismInFamily'</li><li>'relation'</li><li>'used_app'</li><li>'age_desc'</li><li>'A1_Score'</li><li>'A2_Score'</li><li>'A3_Score'</li><li>'A4_Score'</li><li>'A5_Score'</li><li>'A6_Score'</li><li>'A7_Score'</li><li>'A8_Score'</li><li>'A9_Score'</li><li>'A10_Score'</li><li>'result'</li><li>'f'</li><li>'m'</li><li>'JundiceN'</li><li>'JundiceY'</li><li>'FamAutismN'</li><li>'FamAutismY'</li><li>'RelationHealthcarePro'</li><li>'RelationOther'</li><li>'RelationParent'</li><li>'RelationRelative'</li><li>'RelationSelf'</li><li>'RelationUnkown'</li><li>'UsedAppN'</li><li>'UsedAppY'</li><li>'12to17'</li><li>'18Plus'</li><li>'4to11'</li></ol>\n"
            ]
          },
          "metadata": {
            "tags": []
          }
        }
      ]
    },
    {
      "cell_type": "code",
      "metadata": {
        "id": "JUmWfGAtSD6_",
        "colab_type": "code",
        "outputId": "a850bb67-cab0-4616-fe0d-ba77ddca1448",
        "colab": {
          "base_uri": "https://localhost:8080/",
          "height": 1000
        }
      },
      "source": [
        "#----- Creating Traing and Test Sets FOR ALL FACTORS (No quetionaire)-----#\n",
        "        #Total2 <- AutExp2[,c(1, 2, 11:137)] \n",
        "        #Total2 <- AutExp2[,c(1, 2, 22:53)] \n",
        "        Total2 <- AutExp2[,c(1,19:35)]\n",
        "        \n",
        "        #create sets using caret library\n",
        "        inTraining <- createDataPartition(Total2$ClassASD, times = 1, p = .66, list = FALSE)\n",
        "        trainAut <- Total2[ inTraining,]\n",
        "        trainAut$ClassASD <- droplevels( trainAut)$ClassASD\n",
        "        testAut  <- Total2[-inTraining,]\n",
        "        testAut$ClassASD <- droplevels(testAut)$ClassASD\n",
        "        \n",
        "        #building Model using c50 Algorithim (c50 library)\n",
        "        dt_model <- C5.0(trainAut[-1], trainAut$ClassASD)\n",
        "        dt_model #use summary(dt_model) to get the % accuracy and tree\n",
        "        \n",
        "        summary(dt_model) \n",
        "        \n",
        "        #evaluating performance\n",
        "        pred_model <- predict(dt_model, testAut)\n",
        "        CrossTable(testAut$ClassASD, pred_model, prop.chisq = FALSE, prop.c = FALSE, prop.r = FALSE, dnn = c('actual diagnosis', 'predicted diagnosis') )\n",
        "        \n",
        "        #improving model performance\n",
        "        dt_boost10 <- C5.0(trainAut[-1], trainAut$ClassASD, trials= 10)\n",
        "        dt_boost10 #use summary(dt_boost10) to get the % accuracy and tree\n",
        "        summary(dt_boost10)\n",
        "        \n",
        "        #evaluating boosted performance\n",
        "        pred_model_boost  <- predict(dt_boost10, testAut)\n",
        "        CrossTable(testAut$ClassASD, pred_model_boost, prop.chisq = FALSE, prop.c = FALSE, prop.r = FALSE, dnn = c('actual diagnosis', 'predicted diagnosis') )"
      ],
      "execution_count": 0,
      "outputs": [
        {
          "output_type": "display_data",
          "data": {
            "text/plain": [
              "\n",
              "Call:\n",
              "C5.0.default(x = trainAut[-1], y = trainAut$ClassASD)\n",
              "\n",
              "Classification Tree\n",
              "Number of samples: 727 \n",
              "Number of predictors: 17 \n",
              "\n",
              "Tree size: 8 \n",
              "\n",
              "Non-standard options: attempt to group attributes\n"
            ]
          },
          "metadata": {
            "tags": []
          }
        },
        {
          "output_type": "display_data",
          "data": {
            "text/plain": [
              "\n",
              "Call:\n",
              "C5.0.default(x = trainAut[-1], y = trainAut$ClassASD)\n",
              "\n",
              "\n",
              "C5.0 [Release 2.07 GPL Edition]  \tTue Apr 28 03:51:59 2020\n",
              "-------------------------------\n",
              "\n",
              "Class specified by attribute `outcome'\n",
              "\n",
              "Read 727 cases (18 attributes) from undefined.data\n",
              "\n",
              "Decision tree:\n",
              "\n",
              "18Plus > 0: NO (456/119)\n",
              "18Plus <= 0:\n",
              ":...RelationHealthcarePro > 0: YES (14/4)\n",
              "    RelationHealthcarePro <= 0:\n",
              "    :...RelationSelf > 0: YES (31/11)\n",
              "        RelationSelf <= 0:\n",
              "        :...RelationParent <= 0: NO (53/22)\n",
              "            RelationParent > 0:\n",
              "            :...FamAutismN <= 0:\n",
              "                :...JundiceN <= 0: NO (6/1)\n",
              "                :   JundiceN > 0: YES (25/9)\n",
              "                FamAutismN > 0:\n",
              "                :...JundiceN <= 0: YES (28/11)\n",
              "                    JundiceN > 0: NO (114/55)\n",
              "\n",
              "\n",
              "Evaluation on training data (727 cases):\n",
              "\n",
              "\t    Decision Tree   \n",
              "\t  ----------------  \n",
              "\t  Size      Errors  \n",
              "\n",
              "\t     8  232(31.9%)   <<\n",
              "\n",
              "\n",
              "\t   (a)   (b)    <-classified as\n",
              "\t  ----  ----\n",
              "\t   432    35    (a): class NO\n",
              "\t   197    63    (b): class YES\n",
              "\n",
              "\n",
              "\tAttribute usage:\n",
              "\n",
              "\t100.00%\t18Plus\n",
              "\t 37.28%\tRelationHealthcarePro\n",
              "\t 35.35%\tRelationSelf\n",
              "\t 31.09%\tRelationParent\n",
              "\t 23.80%\tJundiceN\n",
              "\t 23.80%\tFamAutismN\n",
              "\n",
              "\n",
              "Time: 0.0 secs\n"
            ]
          },
          "metadata": {
            "tags": []
          }
        },
        {
          "output_type": "stream",
          "text": [
            "\n",
            " \n",
            "   Cell Contents\n",
            "|-------------------------|\n",
            "|                       N |\n",
            "|         N / Table Total |\n",
            "|-------------------------|\n",
            "\n",
            " \n",
            "Total Observations in Table:  373 \n",
            "\n",
            " \n",
            "                 | predicted diagnosis \n",
            "actual diagnosis |        NO |       YES | Row Total | \n",
            "-----------------|-----------|-----------|-----------|\n",
            "              NO |       217 |        23 |       240 | \n",
            "                 |     0.582 |     0.062 |           | \n",
            "-----------------|-----------|-----------|-----------|\n",
            "             YES |       106 |        27 |       133 | \n",
            "                 |     0.284 |     0.072 |           | \n",
            "-----------------|-----------|-----------|-----------|\n",
            "    Column Total |       323 |        50 |       373 | \n",
            "-----------------|-----------|-----------|-----------|\n",
            "\n",
            " \n"
          ],
          "name": "stdout"
        },
        {
          "output_type": "display_data",
          "data": {
            "text/plain": [
              "\n",
              "Call:\n",
              "C5.0.default(x = trainAut[-1], y = trainAut$ClassASD, trials = 10)\n",
              "\n",
              "Classification Tree\n",
              "Number of samples: 727 \n",
              "Number of predictors: 17 \n",
              "\n",
              "Number of boosting iterations: 10 requested;  1 used due to early stopping\n",
              "\n",
              "Non-standard options: attempt to group attributes\n"
            ]
          },
          "metadata": {
            "tags": []
          }
        },
        {
          "output_type": "display_data",
          "data": {
            "text/plain": [
              "\n",
              "Call:\n",
              "C5.0.default(x = trainAut[-1], y = trainAut$ClassASD, trials = 10)\n",
              "\n",
              "\n",
              "C5.0 [Release 2.07 GPL Edition]  \tTue Apr 28 03:51:59 2020\n",
              "-------------------------------\n",
              "\n",
              "Class specified by attribute `outcome'\n",
              "\n",
              "Read 727 cases (18 attributes) from undefined.data\n",
              "\n",
              "-----  Trial 0:  -----\n",
              "\n",
              "Decision tree:\n",
              "\n",
              "18Plus > 0: NO (456/119)\n",
              "18Plus <= 0:\n",
              ":...RelationHealthcarePro > 0: YES (14/4)\n",
              "    RelationHealthcarePro <= 0:\n",
              "    :...RelationSelf > 0: YES (31/11)\n",
              "        RelationSelf <= 0:\n",
              "        :...RelationParent <= 0: NO (53/22)\n",
              "            RelationParent > 0:\n",
              "            :...FamAutismN <= 0:\n",
              "                :...JundiceN <= 0: NO (6/1)\n",
              "                :   JundiceN > 0: YES (25/9)\n",
              "                FamAutismN > 0:\n",
              "                :...JundiceN <= 0: YES (28/11)\n",
              "                    JundiceN > 0: NO (114/55)\n",
              "\n",
              "-----  Trial 1:  -----\n",
              "\n",
              "Decision tree:\n",
              "\n",
              "18Plus <= 0: YES (282/127.3)\n",
              "18Plus > 0:\n",
              ":...FamAutismN <= 0: YES (67.1/26)\n",
              "    FamAutismN > 0: NO (377.9/111.7)\n",
              "\n",
              "-----  Trial 2:  -----\n",
              "\n",
              "Decision tree:\n",
              " NO (727/303.9)\n",
              "\n",
              "*** boosting reduced to 2 trials since last classifier is very inaccurate\n",
              "\n",
              "*** boosting abandoned (too few classifiers)\n",
              "\n",
              "\n",
              "Evaluation on training data (727 cases):\n",
              "\n",
              "\t    Decision Tree   \n",
              "\t  ----------------  \n",
              "\t  Size      Errors  \n",
              "\n",
              "\t     8  232(31.9%)   <<\n",
              "\n",
              "\n",
              "\t   (a)   (b)    <-classified as\n",
              "\t  ----  ----\n",
              "\t   432    35    (a): class NO\n",
              "\t   197    63    (b): class YES\n",
              "\n",
              "\n",
              "\tAttribute usage:\n",
              "\n",
              "\t100.00%\t18Plus\n",
              "\t 37.28%\tRelationHealthcarePro\n",
              "\t 35.35%\tRelationSelf\n",
              "\t 31.09%\tRelationParent\n",
              "\t 23.80%\tJundiceN\n",
              "\t 23.80%\tFamAutismN\n",
              "\n",
              "\n",
              "Time: 0.0 secs\n"
            ]
          },
          "metadata": {
            "tags": []
          }
        },
        {
          "output_type": "stream",
          "text": [
            "\n",
            " \n",
            "   Cell Contents\n",
            "|-------------------------|\n",
            "|                       N |\n",
            "|         N / Table Total |\n",
            "|-------------------------|\n",
            "\n",
            " \n",
            "Total Observations in Table:  373 \n",
            "\n",
            " \n",
            "                 | predicted diagnosis \n",
            "actual diagnosis |        NO |       YES | Row Total | \n",
            "-----------------|-----------|-----------|-----------|\n",
            "              NO |       217 |        23 |       240 | \n",
            "                 |     0.582 |     0.062 |           | \n",
            "-----------------|-----------|-----------|-----------|\n",
            "             YES |       106 |        27 |       133 | \n",
            "                 |     0.284 |     0.072 |           | \n",
            "-----------------|-----------|-----------|-----------|\n",
            "    Column Total |       323 |        50 |       373 | \n",
            "-----------------|-----------|-----------|-----------|\n",
            "\n",
            " \n"
          ],
          "name": "stdout"
        }
      ]
    },
    {
      "cell_type": "code",
      "metadata": {
        "id": "HrUI51ezSIgP",
        "colab_type": "code",
        "outputId": "1809d689-216b-45ca-f816-c3b3d89aa8fd",
        "colab": {
          "base_uri": "https://localhost:8080/",
          "height": 1000
        }
      },
      "source": [
        "#----- Use Na?ve Bayes Model-----# \n",
        "        #build the classifiers\n",
        "        Autclassifier<- naiveBayes(trainAut, trainAut$ClassASD)\n",
        "        Autclassifier\n",
        "        \n",
        "        #evaluate model classfier\n",
        "        Auttestpredicter <- predict(Autclassifier, testAut)\n",
        "      \n",
        "        #compare predictions to true values\n",
        "        CrossTable(testAut$ClassASD, Auttestpredicter, prop.chisq = FALSE, prop.t = FALSE, dnn = c('actual diagnosis', 'predicted diagnosis') )\n",
        "      \n",
        "        #create confusion matrix\n",
        "        cMatrix <- table(Auttestpredicter, testAut$ClassASD)\n",
        "        plot(cMatrix)\n",
        "        confusionMatrix(cMatrix)\n",
        "        \n",
        "        #build improved model\n",
        "        Autclassifier2<- naiveBayes(trainAut, trainAut$ClassASD, laplace = 3)\n",
        "        Autclassifier2\n",
        "        \n",
        "        #evaluate improved model\n",
        "        Auttestpredicter2 <- predict(Autclassifier2, testAut)\n",
        "        \n",
        "        #compare improved predictions to true values\n",
        "        CrossTable(testAut$ClassASD, Auttestpredicter2, prop.chisq = FALSE, prop.t = FALSE, dnn = c('actual diagnosis', 'predicted diagnosis') )"
      ],
      "execution_count": 0,
      "outputs": [
        {
          "output_type": "display_data",
          "data": {
            "text/plain": [
              "\n",
              "Naive Bayes Classifier for Discrete Predictors\n",
              "\n",
              "Call:\n",
              "naiveBayes.default(x = trainAut, y = trainAut$ClassASD)\n",
              "\n",
              "A-priori probabilities:\n",
              "trainAut$ClassASD\n",
              "       NO       YES \n",
              "0.6423659 0.3576341 \n",
              "\n",
              "Conditional probabilities:\n",
              "                 ClassASD\n",
              "trainAut$ClassASD NO YES\n",
              "              NO   1   0\n",
              "              YES  0   1\n",
              "\n",
              "                 f\n",
              "trainAut$ClassASD      [,1]      [,2]\n",
              "              NO  0.4089936 0.4921753\n",
              "              YES 0.4115385 0.4930614\n",
              "\n",
              "                 m\n",
              "trainAut$ClassASD      [,1]      [,2]\n",
              "              NO  0.5910064 0.4921753\n",
              "              YES 0.5884615 0.4930614\n",
              "\n",
              "                 JundiceN\n",
              "trainAut$ClassASD      [,1]      [,2]\n",
              "              NO  0.8650964 0.3419870\n",
              "              YES 0.8076923 0.3948736\n",
              "\n",
              "                 JundiceY\n",
              "trainAut$ClassASD      [,1]      [,2]\n",
              "              NO  0.1349036 0.3419870\n",
              "              YES 0.1923077 0.3948736\n",
              "\n",
              "                 FamAutismN\n",
              "trainAut$ClassASD      [,1]      [,2]\n",
              "              NO  0.9014989 0.2983105\n",
              "              YES 0.7923077 0.4064377\n",
              "\n",
              "                 FamAutismY\n",
              "trainAut$ClassASD       [,1]      [,2]\n",
              "              NO  0.09850107 0.2983105\n",
              "              YES 0.20769231 0.4064377\n",
              "\n",
              "                 RelationHealthcarePro\n",
              "trainAut$ClassASD       [,1]      [,2]\n",
              "              NO  0.01284797 0.1127391\n",
              "              YES 0.03846154 0.1926786\n",
              "\n",
              "                 RelationOther\n",
              "trainAut$ClassASD        [,1]       [,2]\n",
              "              NO  0.010706638 0.10302784\n",
              "              YES 0.007692308 0.08753632\n",
              "\n",
              "                 RelationParent\n",
              "trainAut$ClassASD      [,1]      [,2]\n",
              "              NO  0.2291221 0.4207186\n",
              "              YES 0.3769231 0.4855500\n",
              "\n",
              "                 RelationRelative\n",
              "trainAut$ClassASD       [,1]      [,2]\n",
              "              NO  0.05139186 0.2210325\n",
              "              YES 0.05384615 0.2261492\n",
              "\n",
              "                 RelationSelf\n",
              "trainAut$ClassASD      [,1]      [,2]\n",
              "              NO  0.5289079 0.4996989\n",
              "              YES 0.4423077 0.4976183\n",
              "\n",
              "                 RelationUnkown\n",
              "trainAut$ClassASD       [,1]      [,2]\n",
              "              NO  0.16702355 0.3733969\n",
              "              YES 0.08076923 0.2730059\n",
              "\n",
              "                 UsedAppN\n",
              "trainAut$ClassASD      [,1]      [,2]\n",
              "              NO  0.9721627 0.1646828\n",
              "              YES 0.9769231 0.1504374\n",
              "\n",
              "                 UsedAppY\n",
              "trainAut$ClassASD       [,1]      [,2]\n",
              "              NO  0.02783726 0.1646828\n",
              "              YES 0.02307692 0.1504374\n",
              "\n",
              "                 12to17\n",
              "trainAut$ClassASD       [,1]      [,2]\n",
              "              NO  0.05567452 0.2295380\n",
              "              YES 0.16153846 0.3687367\n",
              "\n",
              "                 18Plus\n",
              "trainAut$ClassASD      [,1]      [,2]\n",
              "              NO  0.7216274 0.4486785\n",
              "              YES 0.4576923 0.4991677\n",
              "\n",
              "                 4to11\n",
              "trainAut$ClassASD      [,1]      [,2]\n",
              "              NO  0.2226981 0.4165034\n",
              "              YES 0.3807692 0.4865125\n"
            ]
          },
          "metadata": {
            "tags": []
          }
        },
        {
          "output_type": "stream",
          "text": [
            "\n",
            " \n",
            "   Cell Contents\n",
            "|-------------------------|\n",
            "|                       N |\n",
            "|           N / Row Total |\n",
            "|           N / Col Total |\n",
            "|-------------------------|\n",
            "\n",
            " \n",
            "Total Observations in Table:  373 \n",
            "\n",
            " \n",
            "                 | predicted diagnosis \n",
            "actual diagnosis |        NO |       YES | Row Total | \n",
            "-----------------|-----------|-----------|-----------|\n",
            "              NO |       229 |        11 |       240 | \n",
            "                 |     0.954 |     0.046 |     0.643 | \n",
            "                 |     0.991 |     0.077 |           | \n",
            "-----------------|-----------|-----------|-----------|\n",
            "             YES |         2 |       131 |       133 | \n",
            "                 |     0.015 |     0.985 |     0.357 | \n",
            "                 |     0.009 |     0.923 |           | \n",
            "-----------------|-----------|-----------|-----------|\n",
            "    Column Total |       231 |       142 |       373 | \n",
            "                 |     0.619 |     0.381 |           | \n",
            "-----------------|-----------|-----------|-----------|\n",
            "\n",
            " \n"
          ],
          "name": "stdout"
        },
        {
          "output_type": "display_data",
          "data": {
            "text/plain": [
              "Confusion Matrix and Statistics\n",
              "\n",
              "                \n",
              "Auttestpredicter  NO YES\n",
              "             NO  229   2\n",
              "             YES  11 131\n",
              "                                          \n",
              "               Accuracy : 0.9651          \n",
              "                 95% CI : (0.9411, 0.9813)\n",
              "    No Information Rate : 0.6434          \n",
              "    P-Value [Acc > NIR] : <2e-16          \n",
              "                                          \n",
              "                  Kappa : 0.9252          \n",
              "                                          \n",
              " Mcnemar's Test P-Value : 0.0265          \n",
              "                                          \n",
              "            Sensitivity : 0.9542          \n",
              "            Specificity : 0.9850          \n",
              "         Pos Pred Value : 0.9913          \n",
              "         Neg Pred Value : 0.9225          \n",
              "             Prevalence : 0.6434          \n",
              "         Detection Rate : 0.6139          \n",
              "   Detection Prevalence : 0.6193          \n",
              "      Balanced Accuracy : 0.9696          \n",
              "                                          \n",
              "       'Positive' Class : NO              \n",
              "                                          "
            ]
          },
          "metadata": {
            "tags": []
          }
        },
        {
          "output_type": "display_data",
          "data": {
            "text/plain": [
              "\n",
              "Naive Bayes Classifier for Discrete Predictors\n",
              "\n",
              "Call:\n",
              "naiveBayes.default(x = trainAut, y = trainAut$ClassASD, laplace = 3)\n",
              "\n",
              "A-priori probabilities:\n",
              "trainAut$ClassASD\n",
              "       NO       YES \n",
              "0.6423659 0.3576341 \n",
              "\n",
              "Conditional probabilities:\n",
              "                 ClassASD\n",
              "trainAut$ClassASD          NO         YES\n",
              "              NO  0.993657505 0.006342495\n",
              "              YES 0.011278195 0.988721805\n",
              "\n",
              "                 f\n",
              "trainAut$ClassASD      [,1]      [,2]\n",
              "              NO  0.4089936 0.4921753\n",
              "              YES 0.4115385 0.4930614\n",
              "\n",
              "                 m\n",
              "trainAut$ClassASD      [,1]      [,2]\n",
              "              NO  0.5910064 0.4921753\n",
              "              YES 0.5884615 0.4930614\n",
              "\n",
              "                 JundiceN\n",
              "trainAut$ClassASD      [,1]      [,2]\n",
              "              NO  0.8650964 0.3419870\n",
              "              YES 0.8076923 0.3948736\n",
              "\n",
              "                 JundiceY\n",
              "trainAut$ClassASD      [,1]      [,2]\n",
              "              NO  0.1349036 0.3419870\n",
              "              YES 0.1923077 0.3948736\n",
              "\n",
              "                 FamAutismN\n",
              "trainAut$ClassASD      [,1]      [,2]\n",
              "              NO  0.9014989 0.2983105\n",
              "              YES 0.7923077 0.4064377\n",
              "\n",
              "                 FamAutismY\n",
              "trainAut$ClassASD       [,1]      [,2]\n",
              "              NO  0.09850107 0.2983105\n",
              "              YES 0.20769231 0.4064377\n",
              "\n",
              "                 RelationHealthcarePro\n",
              "trainAut$ClassASD       [,1]      [,2]\n",
              "              NO  0.01284797 0.1127391\n",
              "              YES 0.03846154 0.1926786\n",
              "\n",
              "                 RelationOther\n",
              "trainAut$ClassASD        [,1]       [,2]\n",
              "              NO  0.010706638 0.10302784\n",
              "              YES 0.007692308 0.08753632\n",
              "\n",
              "                 RelationParent\n",
              "trainAut$ClassASD      [,1]      [,2]\n",
              "              NO  0.2291221 0.4207186\n",
              "              YES 0.3769231 0.4855500\n",
              "\n",
              "                 RelationRelative\n",
              "trainAut$ClassASD       [,1]      [,2]\n",
              "              NO  0.05139186 0.2210325\n",
              "              YES 0.05384615 0.2261492\n",
              "\n",
              "                 RelationSelf\n",
              "trainAut$ClassASD      [,1]      [,2]\n",
              "              NO  0.5289079 0.4996989\n",
              "              YES 0.4423077 0.4976183\n",
              "\n",
              "                 RelationUnkown\n",
              "trainAut$ClassASD       [,1]      [,2]\n",
              "              NO  0.16702355 0.3733969\n",
              "              YES 0.08076923 0.2730059\n",
              "\n",
              "                 UsedAppN\n",
              "trainAut$ClassASD      [,1]      [,2]\n",
              "              NO  0.9721627 0.1646828\n",
              "              YES 0.9769231 0.1504374\n",
              "\n",
              "                 UsedAppY\n",
              "trainAut$ClassASD       [,1]      [,2]\n",
              "              NO  0.02783726 0.1646828\n",
              "              YES 0.02307692 0.1504374\n",
              "\n",
              "                 12to17\n",
              "trainAut$ClassASD       [,1]      [,2]\n",
              "              NO  0.05567452 0.2295380\n",
              "              YES 0.16153846 0.3687367\n",
              "\n",
              "                 18Plus\n",
              "trainAut$ClassASD      [,1]      [,2]\n",
              "              NO  0.7216274 0.4486785\n",
              "              YES 0.4576923 0.4991677\n",
              "\n",
              "                 4to11\n",
              "trainAut$ClassASD      [,1]      [,2]\n",
              "              NO  0.2226981 0.4165034\n",
              "              YES 0.3807692 0.4865125\n"
            ]
          },
          "metadata": {
            "tags": []
          }
        },
        {
          "output_type": "stream",
          "text": [
            "\n",
            " \n",
            "   Cell Contents\n",
            "|-------------------------|\n",
            "|                       N |\n",
            "|           N / Row Total |\n",
            "|           N / Col Total |\n",
            "|-------------------------|\n",
            "\n",
            " \n",
            "Total Observations in Table:  373 \n",
            "\n",
            " \n",
            "                 | predicted diagnosis \n",
            "actual diagnosis |        NO |       YES | Row Total | \n",
            "-----------------|-----------|-----------|-----------|\n",
            "              NO |       221 |        19 |       240 | \n",
            "                 |     0.921 |     0.079 |     0.643 | \n",
            "                 |     0.987 |     0.128 |           | \n",
            "-----------------|-----------|-----------|-----------|\n",
            "             YES |         3 |       130 |       133 | \n",
            "                 |     0.023 |     0.977 |     0.357 | \n",
            "                 |     0.013 |     0.872 |           | \n",
            "-----------------|-----------|-----------|-----------|\n",
            "    Column Total |       224 |       149 |       373 | \n",
            "                 |     0.601 |     0.399 |           | \n",
            "-----------------|-----------|-----------|-----------|\n",
            "\n",
            " \n"
          ],
          "name": "stdout"
        },
        {
          "output_type": "display_data",
          "data": {
            "image/png": "[encoded data removed]",
            "text/plain": [
              "Plot with title “cMatrix”"
            ]
          },
          "metadata": {
            "tags": [],
            "image/png": {
              "width": 420,
              "height": 420
            },
            "text/plain": {
              "width": 420,
              "height": 420
            }
          }
        }
      ]
    },
    {
      "cell_type": "code",
      "metadata": {
        "id": "3Ff4dodwSM_F",
        "colab_type": "code",
        "outputId": "4be1c867-b98b-48cc-f7d4-8490af5da973",
        "colab": {
          "base_uri": "https://localhost:8080/",
          "height": 1000
        }
      },
      "source": [
        "#----- Use k-NN Model-----# \n",
        "        #model training\n",
        "        trainAutlabel <- trainAut[,1]\n",
        "        testAutlabel <- testAut [,1]\n",
        "        knnAutSpread <- knn(train=trainAut[,-1], testAut [,-1], cl=trainAutlabel, k=7)\n",
        "        summary(knnAutSpread)\n",
        "        CrossTable(x=testAutlabel, y=knnAutSpread, prop.chisq = FALSE)\n",
        "        \n",
        "        #improved performance using z-score standardization\n",
        "        #new model training\n",
        "        Total2z <- as.data.frame(scale(Total2[,-1]))\n",
        "        Total2z_train <- Total2z[1:733,]\n",
        "        Total2z_test <- Total2z[734:1100,]\n",
        "        Total2z_train_label <- Total2[1:733,1]\n",
        "        Total2z_test_label <- Total2[734:1100,1]\n",
        "        \n",
        "        #new performance\n",
        "        knnAutPrediction <- knn(train=Total2z_train, Total2z_test, cl=Total2z_train_label, k=11)\n",
        "        summary(knnAutPrediction)\n",
        "        CrossTable(x=Total2z_test_label, y=knnAutPrediction, prop.chisq = FALSE)"
      ],
      "execution_count": 0,
      "outputs": [
        {
          "output_type": "display_data",
          "data": {
            "text/plain": [
              " NO YES \n",
              "298  75 "
            ],
            "text/latex": "\\begin{description*}\n\\item[NO] 298\n\\item[YES] 75\n\\end{description*}\n",
            "text/markdown": "NO\n:   298YES\n:   75\n\n",
            "text/html": [
              "<style>\n",
              ".dl-inline {width: auto; margin:0; padding: 0}\n",
              ".dl-inline>dt, .dl-inline>dd {float: none; width: auto; display: inline-block}\n",
              ".dl-inline>dt::after {content: \":\\0020\"; padding-right: .5ex}\n",
              ".dl-inline>dt:not(:first-of-type) {padding-left: .5ex}\n",
              "</style><dl class=dl-inline><dt>NO</dt><dd>298</dd><dt>YES</dt><dd>75</dd></dl>\n"
            ]
          },
          "metadata": {
            "tags": []
          }
        },
        {
          "output_type": "stream",
          "text": [
            "\n",
            " \n",
            "   Cell Contents\n",
            "|-------------------------|\n",
            "|                       N |\n",
            "|           N / Row Total |\n",
            "|           N / Col Total |\n",
            "|         N / Table Total |\n",
            "|-------------------------|\n",
            "\n",
            " \n",
            "Total Observations in Table:  373 \n",
            "\n",
            " \n",
            "             | knnAutSpread \n",
            "testAutlabel |        NO |       YES | Row Total | \n",
            "-------------|-----------|-----------|-----------|\n",
            "          NO |       201 |        39 |       240 | \n",
            "             |     0.838 |     0.163 |     0.643 | \n",
            "             |     0.674 |     0.520 |           | \n",
            "             |     0.539 |     0.105 |           | \n",
            "-------------|-----------|-----------|-----------|\n",
            "         YES |        97 |        36 |       133 | \n",
            "             |     0.729 |     0.271 |     0.357 | \n",
            "             |     0.326 |     0.480 |           | \n",
            "             |     0.260 |     0.097 |           | \n",
            "-------------|-----------|-----------|-----------|\n",
            "Column Total |       298 |        75 |       373 | \n",
            "             |     0.799 |     0.201 |           | \n",
            "-------------|-----------|-----------|-----------|\n",
            "\n",
            " \n"
          ],
          "name": "stdout"
        },
        {
          "output_type": "display_data",
          "data": {
            "text/plain": [
              " NO YES \n",
              "332  35 "
            ],
            "text/latex": "\\begin{description*}\n\\item[NO] 332\n\\item[YES] 35\n\\end{description*}\n",
            "text/markdown": "NO\n:   332YES\n:   35\n\n",
            "text/html": [
              "<style>\n",
              ".dl-inline {width: auto; margin:0; padding: 0}\n",
              ".dl-inline>dt, .dl-inline>dd {float: none; width: auto; display: inline-block}\n",
              ".dl-inline>dt::after {content: \":\\0020\"; padding-right: .5ex}\n",
              ".dl-inline>dt:not(:first-of-type) {padding-left: .5ex}\n",
              "</style><dl class=dl-inline><dt>NO</dt><dd>332</dd><dt>YES</dt><dd>35</dd></dl>\n"
            ]
          },
          "metadata": {
            "tags": []
          }
        },
        {
          "output_type": "stream",
          "text": [
            "\n",
            " \n",
            "   Cell Contents\n",
            "|-------------------------|\n",
            "|                       N |\n",
            "|           N / Row Total |\n",
            "|           N / Col Total |\n",
            "|         N / Table Total |\n",
            "|-------------------------|\n",
            "\n",
            " \n",
            "Total Observations in Table:  367 \n",
            "\n",
            " \n",
            "                   | knnAutPrediction \n",
            "Total2z_test_label |        NO |       YES | Row Total | \n",
            "-------------------|-----------|-----------|-----------|\n",
            "                NO |       247 |        26 |       273 | \n",
            "                   |     0.905 |     0.095 |     0.744 | \n",
            "                   |     0.744 |     0.743 |           | \n",
            "                   |     0.673 |     0.071 |           | \n",
            "-------------------|-----------|-----------|-----------|\n",
            "               YES |        85 |         9 |        94 | \n",
            "                   |     0.904 |     0.096 |     0.256 | \n",
            "                   |     0.256 |     0.257 |           | \n",
            "                   |     0.232 |     0.025 |           | \n",
            "-------------------|-----------|-----------|-----------|\n",
            "      Column Total |       332 |        35 |       367 | \n",
            "                   |     0.905 |     0.095 |           | \n",
            "-------------------|-----------|-----------|-----------|\n",
            "\n",
            " \n"
          ],
          "name": "stdout"
        }
      ]
    },
    {
      "cell_type": "code",
      "metadata": {
        "id": "z_wA-5HfSRUd",
        "colab_type": "code",
        "outputId": "beb70cfc-1f6b-4dd6-d181-fbbd622b552f",
        "colab": {
          "base_uri": "https://localhost:8080/",
          "height": 1000
        }
      },
      "source": [
        "#----- Use SVM Model-----#      \n",
        "        #build the model classifier\n",
        "        ksvmmodelclassifier <- ksvm(ClassASD ~ ., data=trainAut, kernel =\"vanilladot\")\n",
        "        ksvmmodelclassifier\n",
        "        \n",
        "        #evaluate performance\n",
        "        ksmvmodelpredictions  <- predict(ksvmmodelclassifier, testAut)\n",
        "        CrossTable(testAut$ClassASD, ksmvmodelpredictions, prop.chisq = FALSE, prop.c = FALSE, prop.r = FALSE, dnn = c('actual number', 'predicted number') )\n",
        "        #model predicted 236 / 373 (63.27%)\n",
        "        \n",
        "        #improved performance\n",
        "        ksvmmodelclassifierrbf <- ksvm(ClassASD ~ ., data=trainAut, kernel =\"rbfdot\")\n",
        "        ksvmmodelclassifierrbf\n",
        "        ksmvmodelpredictionsrbf  <- predict(ksvmmodelclassifierrbf, testAut)\n",
        "        CrossTable(testAut$ClassASD, ksmvmodelpredictionsrbf, prop.chisq = FALSE, prop.c = FALSE, prop.r = FALSE, dnn = c('actual number', 'predicted number') )\n",
        "        #model predicted 247/ 373 (66.21%)"
      ],
      "execution_count": 0,
      "outputs": [
        {
          "output_type": "stream",
          "text": [
            " Setting default kernel parameters  \n"
          ],
          "name": "stdout"
        },
        {
          "output_type": "display_data",
          "data": {
            "text/plain": [
              "Support Vector Machine object of class \"ksvm\" \n",
              "\n",
              "SV type: C-svc  (classification) \n",
              " parameter : cost C = 1 \n",
              "\n",
              "Linear (vanilla) kernel function. \n",
              "\n",
              "Number of Support Vectors : 501 \n",
              "\n",
              "Objective Function Value : -486.261 \n",
              "Training error : 0.331499 "
            ]
          },
          "metadata": {
            "tags": []
          }
        },
        {
          "output_type": "stream",
          "text": [
            "\n",
            " \n",
            "   Cell Contents\n",
            "|-------------------------|\n",
            "|                       N |\n",
            "|         N / Table Total |\n",
            "|-------------------------|\n",
            "\n",
            " \n",
            "Total Observations in Table:  373 \n",
            "\n",
            " \n",
            "              | predicted number \n",
            "actual number |        NO |       YES | Row Total | \n",
            "--------------|-----------|-----------|-----------|\n",
            "           NO |       193 |        47 |       240 | \n",
            "              |     0.517 |     0.126 |           | \n",
            "--------------|-----------|-----------|-----------|\n",
            "          YES |        95 |        38 |       133 | \n",
            "              |     0.255 |     0.102 |           | \n",
            "--------------|-----------|-----------|-----------|\n",
            " Column Total |       288 |        85 |       373 | \n",
            "--------------|-----------|-----------|-----------|\n",
            "\n",
            " \n"
          ],
          "name": "stdout"
        },
        {
          "output_type": "display_data",
          "data": {
            "text/plain": [
              "Support Vector Machine object of class \"ksvm\" \n",
              "\n",
              "SV type: C-svc  (classification) \n",
              " parameter : cost C = 1 \n",
              "\n",
              "Gaussian Radial Basis kernel function. \n",
              " Hyperparameter : sigma =  0.0467541392769905 \n",
              "\n",
              "Number of Support Vectors : 509 \n",
              "\n",
              "Objective Function Value : -463.1704 \n",
              "Training error : 0.292985 "
            ]
          },
          "metadata": {
            "tags": []
          }
        },
        {
          "output_type": "stream",
          "text": [
            "\n",
            " \n",
            "   Cell Contents\n",
            "|-------------------------|\n",
            "|                       N |\n",
            "|         N / Table Total |\n",
            "|-------------------------|\n",
            "\n",
            " \n",
            "Total Observations in Table:  373 \n",
            "\n",
            " \n",
            "              | predicted number \n",
            "actual number |        NO |       YES | Row Total | \n",
            "--------------|-----------|-----------|-----------|\n",
            "           NO |       201 |        39 |       240 | \n",
            "              |     0.539 |     0.105 |           | \n",
            "--------------|-----------|-----------|-----------|\n",
            "          YES |        98 |        35 |       133 | \n",
            "              |     0.263 |     0.094 |           | \n",
            "--------------|-----------|-----------|-----------|\n",
            " Column Total |       299 |        74 |       373 | \n",
            "--------------|-----------|-----------|-----------|\n",
            "\n",
            " \n"
          ],
          "name": "stdout"
        }
      ]
    }
  ]
}