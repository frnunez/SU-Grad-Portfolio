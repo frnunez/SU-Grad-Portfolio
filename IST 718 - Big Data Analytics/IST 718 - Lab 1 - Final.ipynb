{
  "nbformat": 4,
  "nbformat_minor": 0,
  "metadata": {
    "kernelspec": {
      "display_name": "Python 3",
      "language": "python",
      "name": "python3"
    },
    "language_info": {
      "codemirror_mode": {
        "name": "ipython",
        "version": 3
      },
      "file_extension": ".py",
      "mimetype": "text/x-python",
      "name": "python",
      "nbconvert_exporter": "python",
      "pygments_lexer": "ipython3",
      "version": "3.7.6"
    },
    "colab": {
      "name": "IST 718 - Lab 1- Final.ipynb",
      "provenance": [],
      "include_colab_link": true
    }
  },
  "cells": [
    {
      "cell_type": "markdown",
      "metadata": {
        "id": "view-in-github",
        "colab_type": "text"
      },
      "source": [
        "<a href=\"https://colab.research.google.com/github/frnunez/SU-Grad-Portfolio/blob/master/IST%20718%20-%20Big%20Data%20Analytics/IST%20718%20-%20Lab%201%20-%20Final.ipynb\" target=\"_parent\"><img src=\"https://colab.research.google.com/assets/colab-badge.svg\" alt=\"Open In Colab\"/></a>"
      ]
    },
    {
      "cell_type": "markdown",
      "metadata": {
        "id": "4BrP584mvs8s",
        "colab_type": "text"
      },
      "source": [
        "# NCAA FOOTBALL SALARY RECOMMENDATIONS"
      ]
    },
    {
      "cell_type": "code",
      "metadata": {
        "id": "-WN2jlTZ9U3T",
        "colab_type": "code",
        "outputId": "0ac9096c-0284-4485-921d-e61bd86d823c",
        "colab": {
          "base_uri": "https://localhost:8080/",
          "height": 50
        }
      },
      "source": [
        "# import packages for analysis and modeling\n",
        "import pandas as pd #data frame operations\n",
        "import numpy as np #arrays and math functions\n",
        "from scipy.stats import uniform #for training and test splits\n",
        "import statsmodels.api as sm  # statistical models (including regression)\n",
        "import statsmodels.formula.api as smf  # R-like model specification\n",
        "import matplotlib.pyplot as plt #2D plotting\n",
        "import seaborn as sns #seaborn for plotting\n",
        "from sklearn.linear_model import LinearRegression\n",
        "from sklearn.metrics import mean_squared_error\n",
        "from sklearn.metrics import r2_score"
      ],
      "execution_count": 0,
      "outputs": [
        {
          "output_type": "stream",
          "text": [
            "/usr/local/lib/python3.6/dist-packages/statsmodels/tools/_testing.py:19: FutureWarning: pandas.util.testing is deprecated. Use the functions in the public API at pandas.testing instead.\n",
            "  import pandas.util.testing as tm\n"
          ],
          "name": "stderr"
        }
      ]
    },
    {
      "cell_type": "markdown",
      "metadata": {
        "id": "YOxxnT8R9U3X",
        "colab_type": "text"
      },
      "source": [
        "### Coaches Data\n"
      ]
    },
    {
      "cell_type": "code",
      "metadata": {
        "id": "9ffg1ooa9U3Y",
        "colab_type": "code",
        "outputId": "a3dab974-0721-40bb-f4e4-ed62aafead51",
        "colab": {
          "base_uri": "https://localhost:8080/",
          "height": 391
        }
      },
      "source": [
        "# read in Coaches data\n",
        "coaches = pd.read_csv(\"https://github.com/frnunez/SU-IST-718/raw/master/data/Coaches9.csv\")\n",
        "coaches.sort_values('School', inplace=True, ascending=True)\n",
        "\n",
        "# compute descriptive statistics for original variables\n",
        "print(coaches.describe())\n",
        "\n",
        "#check for null values in the dataframe\n",
        "print(\"*\"*80)\n",
        "are_null_values = coaches.isnull().values.any()\n",
        "num_nulls = coaches.isnull().sum()\n",
        "print(\"Are there any null values?\",are_null_values)\n",
        "print(\"*\"*80)\n",
        "print(\"Columns with null values:\\n\",num_nulls)\n",
        "print(\"Number of observations:\\n\",len(coaches))"
      ],
      "execution_count": 0,
      "outputs": [
        {
          "output_type": "stream",
          "text": [
            "                School Conference       Coach  ... BonusPaid AssistantPay Buyout\n",
            "count              129        129         129  ...       129          129    129\n",
            "unique             129         11         129  ...        51            1    102\n",
            "top     San Jose State    Big Ten  Sean Lewis  ...        --          $0      --\n",
            "freq                 1         14           1  ...        41          129     22\n",
            "\n",
            "[4 rows x 9 columns]\n",
            "********************************************************************************\n",
            "Are there any null values? False\n",
            "********************************************************************************\n",
            "Columns with null values:\n",
            " School          0\n",
            "Conference      0\n",
            "Coach           0\n",
            "SchoolPay       0\n",
            "TotalPay        0\n",
            "Bonus           0\n",
            "BonusPaid       0\n",
            "AssistantPay    0\n",
            "Buyout          0\n",
            "dtype: int64\n",
            "Number of observations:\n",
            " 129\n"
          ],
          "name": "stdout"
        }
      ]
    },
    {
      "cell_type": "code",
      "metadata": {
        "id": "KUSWQZ3wEuOH",
        "colab_type": "code",
        "outputId": "60d6c5a7-bd6a-4ff9-aaa9-168214181e39",
        "colab": {
          "base_uri": "https://localhost:8080/",
          "height": 191
        }
      },
      "source": [
        "coaches.head()"
      ],
      "execution_count": 0,
      "outputs": [
        {
          "output_type": "execute_result",
          "data": {
            "text/html": [
              "<div>\n",
              "<style scoped>\n",
              "    .dataframe tbody tr th:only-of-type {\n",
              "        vertical-align: middle;\n",
              "    }\n",
              "\n",
              "    .dataframe tbody tr th {\n",
              "        vertical-align: top;\n",
              "    }\n",
              "\n",
              "    .dataframe thead th {\n",
              "        text-align: right;\n",
              "    }\n",
              "</style>\n",
              "<table border=\"1\" class=\"dataframe\">\n",
              "  <thead>\n",
              "    <tr style=\"text-align: right;\">\n",
              "      <th></th>\n",
              "      <th>School</th>\n",
              "      <th>Conference</th>\n",
              "      <th>Coach</th>\n",
              "      <th>SchoolPay</th>\n",
              "      <th>TotalPay</th>\n",
              "      <th>Bonus</th>\n",
              "      <th>BonusPaid</th>\n",
              "      <th>AssistantPay</th>\n",
              "      <th>Buyout</th>\n",
              "    </tr>\n",
              "  </thead>\n",
              "  <tbody>\n",
              "    <tr>\n",
              "      <th>0</th>\n",
              "      <td>Air Force</td>\n",
              "      <td>Mt. West</td>\n",
              "      <td>Troy Calhoun</td>\n",
              "      <td>885000</td>\n",
              "      <td>885000</td>\n",
              "      <td>247000</td>\n",
              "      <td>--</td>\n",
              "      <td>$0</td>\n",
              "      <td>--</td>\n",
              "    </tr>\n",
              "    <tr>\n",
              "      <th>1</th>\n",
              "      <td>Akron</td>\n",
              "      <td>MAC</td>\n",
              "      <td>Terry Bowden</td>\n",
              "      <td>$411,000</td>\n",
              "      <td>$412,500</td>\n",
              "      <td>$225,000</td>\n",
              "      <td>$50,000</td>\n",
              "      <td>$0</td>\n",
              "      <td>$688,500</td>\n",
              "    </tr>\n",
              "    <tr>\n",
              "      <th>2</th>\n",
              "      <td>Alabama</td>\n",
              "      <td>SEC</td>\n",
              "      <td>Nick Saban</td>\n",
              "      <td>$8,307,000</td>\n",
              "      <td>$8,307,000</td>\n",
              "      <td>$1,100,000</td>\n",
              "      <td>$500,000</td>\n",
              "      <td>$0</td>\n",
              "      <td>$33,600,000</td>\n",
              "    </tr>\n",
              "    <tr>\n",
              "      <th>3</th>\n",
              "      <td>Alabama at Birmingham</td>\n",
              "      <td>C-USA</td>\n",
              "      <td>Bill Clark</td>\n",
              "      <td>$900,000</td>\n",
              "      <td>$900,000</td>\n",
              "      <td>$950,000</td>\n",
              "      <td>$165,471</td>\n",
              "      <td>$0</td>\n",
              "      <td>$3,847,500</td>\n",
              "    </tr>\n",
              "    <tr>\n",
              "      <th>4</th>\n",
              "      <td>Appalachian State</td>\n",
              "      <td>Sun Belt</td>\n",
              "      <td>Scott Satterfield</td>\n",
              "      <td>$712,500</td>\n",
              "      <td>$712,500</td>\n",
              "      <td>$295,000</td>\n",
              "      <td>$145,000</td>\n",
              "      <td>$0</td>\n",
              "      <td>$2,160,417</td>\n",
              "    </tr>\n",
              "  </tbody>\n",
              "</table>\n",
              "</div>"
            ],
            "text/plain": [
              "                  School Conference  ... AssistantPay        Buyout\n",
              "0              Air Force   Mt. West  ...          $0             --\n",
              "1                  Akron        MAC  ...          $0      $688,500 \n",
              "2                Alabama        SEC  ...          $0   $33,600,000 \n",
              "3  Alabama at Birmingham      C-USA  ...          $0    $3,847,500 \n",
              "4      Appalachian State   Sun Belt  ...          $0    $2,160,417 \n",
              "\n",
              "[5 rows x 9 columns]"
            ]
          },
          "metadata": {
            "tags": []
          },
          "execution_count": 3
        }
      ]
    },
    {
      "cell_type": "code",
      "metadata": {
        "id": "OU4sH_5D9U3c",
        "colab_type": "code",
        "outputId": "571bad07-47d5-48ee-834a-71811bc2e7fe",
        "colab": {
          "base_uri": "https://localhost:8080/",
          "height": 191
        }
      },
      "source": [
        "# Clean up: convert dollar amounts from object to numeric\n",
        "# Code Courtesy of Allan Flores\n",
        "\n",
        "# Set a function to clean the data\n",
        "# Function replaces commas, dollar signs, extra spaces, and dashes for numeric variables\n",
        "# Function also replaces NaN with 0\n",
        "def cleaner(data_column):\n",
        "    col = data_column.str.replace(',','')\n",
        "    col = col.str.replace('$','')\n",
        "    col = col.str.replace(\" \",\"\")\n",
        "    col = col.str.replace(\"--\",\"0\")\n",
        "    col = col.fillna(0)\n",
        "    col = col.astype(float)\n",
        "    return col\n",
        "\n",
        "# Run the 'cleaner' function for columns of interest\n",
        "coaches['SchoolPay'] = cleaner(coaches['SchoolPay']) #may not want this one\n",
        "coaches['TotalPay'] = cleaner(coaches['TotalPay'])\n",
        "coaches['Bonus'] = cleaner(coaches['Bonus'])\n",
        "coaches['BonusPaid'] = cleaner(coaches['BonusPaid'])\n",
        "coaches['AssistantPay'] = cleaner(coaches['AssistantPay']) #may not want this one\n",
        "coaches['Buyout'] = cleaner(coaches['Buyout']) #may not want this one\n",
        "\n",
        "coaches.head()"
      ],
      "execution_count": 0,
      "outputs": [
        {
          "output_type": "execute_result",
          "data": {
            "text/html": [
              "<div>\n",
              "<style scoped>\n",
              "    .dataframe tbody tr th:only-of-type {\n",
              "        vertical-align: middle;\n",
              "    }\n",
              "\n",
              "    .dataframe tbody tr th {\n",
              "        vertical-align: top;\n",
              "    }\n",
              "\n",
              "    .dataframe thead th {\n",
              "        text-align: right;\n",
              "    }\n",
              "</style>\n",
              "<table border=\"1\" class=\"dataframe\">\n",
              "  <thead>\n",
              "    <tr style=\"text-align: right;\">\n",
              "      <th></th>\n",
              "      <th>School</th>\n",
              "      <th>Conference</th>\n",
              "      <th>Coach</th>\n",
              "      <th>SchoolPay</th>\n",
              "      <th>TotalPay</th>\n",
              "      <th>Bonus</th>\n",
              "      <th>BonusPaid</th>\n",
              "      <th>AssistantPay</th>\n",
              "      <th>Buyout</th>\n",
              "    </tr>\n",
              "  </thead>\n",
              "  <tbody>\n",
              "    <tr>\n",
              "      <th>0</th>\n",
              "      <td>Air Force</td>\n",
              "      <td>Mt. West</td>\n",
              "      <td>Troy Calhoun</td>\n",
              "      <td>885000.0</td>\n",
              "      <td>885000.0</td>\n",
              "      <td>247000.0</td>\n",
              "      <td>0.0</td>\n",
              "      <td>0.0</td>\n",
              "      <td>0.0</td>\n",
              "    </tr>\n",
              "    <tr>\n",
              "      <th>1</th>\n",
              "      <td>Akron</td>\n",
              "      <td>MAC</td>\n",
              "      <td>Terry Bowden</td>\n",
              "      <td>411000.0</td>\n",
              "      <td>412500.0</td>\n",
              "      <td>225000.0</td>\n",
              "      <td>50000.0</td>\n",
              "      <td>0.0</td>\n",
              "      <td>688500.0</td>\n",
              "    </tr>\n",
              "    <tr>\n",
              "      <th>2</th>\n",
              "      <td>Alabama</td>\n",
              "      <td>SEC</td>\n",
              "      <td>Nick Saban</td>\n",
              "      <td>8307000.0</td>\n",
              "      <td>8307000.0</td>\n",
              "      <td>1100000.0</td>\n",
              "      <td>500000.0</td>\n",
              "      <td>0.0</td>\n",
              "      <td>33600000.0</td>\n",
              "    </tr>\n",
              "    <tr>\n",
              "      <th>3</th>\n",
              "      <td>Alabama at Birmingham</td>\n",
              "      <td>C-USA</td>\n",
              "      <td>Bill Clark</td>\n",
              "      <td>900000.0</td>\n",
              "      <td>900000.0</td>\n",
              "      <td>950000.0</td>\n",
              "      <td>165471.0</td>\n",
              "      <td>0.0</td>\n",
              "      <td>3847500.0</td>\n",
              "    </tr>\n",
              "    <tr>\n",
              "      <th>4</th>\n",
              "      <td>Appalachian State</td>\n",
              "      <td>Sun Belt</td>\n",
              "      <td>Scott Satterfield</td>\n",
              "      <td>712500.0</td>\n",
              "      <td>712500.0</td>\n",
              "      <td>295000.0</td>\n",
              "      <td>145000.0</td>\n",
              "      <td>0.0</td>\n",
              "      <td>2160417.0</td>\n",
              "    </tr>\n",
              "  </tbody>\n",
              "</table>\n",
              "</div>"
            ],
            "text/plain": [
              "                  School Conference  ... AssistantPay      Buyout\n",
              "0              Air Force   Mt. West  ...          0.0         0.0\n",
              "1                  Akron        MAC  ...          0.0    688500.0\n",
              "2                Alabama        SEC  ...          0.0  33600000.0\n",
              "3  Alabama at Birmingham      C-USA  ...          0.0   3847500.0\n",
              "4      Appalachian State   Sun Belt  ...          0.0   2160417.0\n",
              "\n",
              "[5 rows x 9 columns]"
            ]
          },
          "metadata": {
            "tags": []
          },
          "execution_count": 4
        }
      ]
    },
    {
      "cell_type": "markdown",
      "metadata": {
        "id": "ADEQuXhf9U3f",
        "colab_type": "text"
      },
      "source": [
        "### Webscraping Stadium Capacity Data\n",
        "##### Curtesy of Syed Nazrul's PokeScraper Tutorial\n",
        "https://www.youtube.com/watch?list=PLuVTNX0oceI87L2sPUTODZmwn-ORos-9Z&v=egYVP-TeSg8\n"
      ]
    },
    {
      "cell_type": "code",
      "metadata": {
        "id": "rHQwmNMM9U3g",
        "colab_type": "code",
        "outputId": "1e1477e0-bf55-4803-814e-f194a33bab9c",
        "colab": {
          "base_uri": "https://localhost:8080/",
          "height": 98
        }
      },
      "source": [
        "# Webscrapping curtesy of Syed Nazrul's PokeScraper Tutorial\",\n",
        "# https://www.youtube.com/watch?list=PLuVTNX0oceI87L2sPUTODZmwn-ORos-9Z&v=egYVP-TeSg8\",\n",
        "\n",
        "import requests, six\n",
        "import lxml.html as lh\n",
        "from itertools import cycle, islice\n",
        "\n",
        "#create url\n",
        "url='https://www.collegegridirons.com/comparisons-by-capacity/'\n",
        "\n",
        "#Create a handle, page, to handle the contents of the website\n",
        "page = requests.get(url)\n",
        "\n",
        "#Store the contents of the website under doc\n",
        "doc = lh.fromstring(page.content)\n",
        "\n",
        "#Parse data that are stored between <tr>..</tr> of the site's HTML code\n",
        "tr_elements = doc.xpath('//tr')\n",
        "\n",
        "#Create empty list\n",
        "col=[]\n",
        "i=0\n",
        "\n",
        "#For each row, store each first element (header) and an empty list\n",
        "for t in tr_elements[0]:\n",
        "    i+=1\n",
        "    name=t.text_content()\n",
        "    print ('%d:\\\"%s\\\"'%(i,name))\n",
        "    col.append((name,[]))\n"
      ],
      "execution_count": 0,
      "outputs": [
        {
          "output_type": "stream",
          "text": [
            "1:\"Stadium\"\n",
            "2:\"College\"\n",
            "3:\"Conference\"\n",
            "4:\"Capacity\"\n",
            "5:\"Opened\"\n"
          ],
          "name": "stdout"
        }
      ]
    },
    {
      "cell_type": "code",
      "metadata": {
        "id": "uDU4_tS69U3k",
        "colab_type": "code",
        "outputId": "cce6a662-acfa-4b64-c25b-d60f84692db4",
        "colab": {
          "base_uri": "https://localhost:8080/",
          "height": 33
        }
      },
      "source": [
        "#Since out first row is the header, data is stored on the second row onwards\n",
        "for j in range(1,len(tr_elements)):\n",
        "    #T is our j'th row\n",
        "    T=tr_elements[j]\n",
        "    \n",
        "    #If row is not of size 5, the //tr data is not from our table \n",
        "    if len(T)!=5:\n",
        "        break\n",
        "    \n",
        "    #i is the index of our column\n",
        "    i=0\n",
        "    \n",
        "    #Iterate through each element of the row\n",
        "    for t in T.iterchildren():\n",
        "        data=t.text_content() \n",
        "        #Check if row is empty\n",
        "        if i>0:\n",
        "        #Convert any numerical value to integers\n",
        "            try:\n",
        "                data=int(data)\n",
        "            except:\n",
        "                pass\n",
        "        #Append the data to the empty list of the i'th column\n",
        "        col[i][1].append(data)\n",
        "        #Increment i for the next column\n",
        "        i+=1\n",
        "        \n",
        "#check to see if data came into all 5 columns\n",
        "[len(C) for (title,C) in col]"
      ],
      "execution_count": 0,
      "outputs": [
        {
          "output_type": "execute_result",
          "data": {
            "text/plain": [
              "[131, 131, 131, 131, 131]"
            ]
          },
          "metadata": {
            "tags": []
          },
          "execution_count": 6
        }
      ]
    },
    {
      "cell_type": "code",
      "metadata": {
        "id": "YvVYmCOD9U3o",
        "colab_type": "code",
        "outputId": "e6d0d534-4933-43f3-d7bc-0fe57f546ffe",
        "colab": {
          "base_uri": "https://localhost:8080/",
          "height": 191
        }
      },
      "source": [
        "# create Stadiums df\n",
        "Dict={title:column for (title,column) in col}\n",
        "stadiums=pd.DataFrame(Dict)\n",
        "stadiums.rename(columns={'College':'School'},inplace=True)\n",
        "stadiums.sort_values('School', inplace=True, ascending=True)\n",
        "\n",
        "# clean up\n",
        "stadiums['School'] = stadiums['School'].str.replace('BYU', 'Brigham Young').str.strip()\n",
        "stadiums['School'] = stadiums['School'].str.replace('UNC Charlotte', 'Charlotte').str.strip()\n",
        "stadiums['School'] = stadiums['School'].str.replace('Miami', 'Miami (Fla.)').str.strip()\n",
        "stadiums['School'] = stadiums['School'].str.replace('Miami \\\\(Fla\\\\.\\\\)-OH', 'Miami (Ohio)').str.strip()\n",
        "stadiums['School'] = stadiums['School'].str.replace('NC State', 'North Carolina State').str.strip()\n",
        "stadiums['School'] = stadiums['School'].str.replace('SMU', 'Southern Methodist').str.strip()\n",
        "stadiums['School'] = stadiums['School'].str.replace('Southern Miss', 'Southern Mississippi').str.strip()\n",
        "stadiums['School'] = stadiums['School'].str.replace('TCU', 'Texas Christian').str.strip()\n",
        "stadiums['School'] = stadiums['School'].str.replace('UAB', 'Alabama at Birmingham').str.strip()\n",
        "stadiums['School'] = stadiums['School'].str.replace('UMass', 'Massachusetts').str.strip()\n",
        "stadiums['School'] = stadiums['School'].str.replace('UNLV', 'Nevada-Las Vegas').str.strip()\n",
        "stadiums['School'] = stadiums['School'].str.replace('USC', 'Southern California').str.strip()\n",
        "stadiums['School'] = stadiums['School'].str.replace('UTEP', 'Texas-El Paso').str.strip()\n",
        "stadiums['School'] = stadiums['School'].str.replace('UTSA', 'Texas-San Antonio').str.strip()\n",
        "#note umass plays in 2 stadiums\n",
        "\n",
        "# Run the 'cleaner' function for columns of interest\n",
        "stadiums['Capacity'] = cleaner(stadiums['Capacity'])\n",
        "\n",
        "stadiums.head()"
      ],
      "execution_count": 0,
      "outputs": [
        {
          "output_type": "execute_result",
          "data": {
            "text/html": [
              "<div>\n",
              "<style scoped>\n",
              "    .dataframe tbody tr th:only-of-type {\n",
              "        vertical-align: middle;\n",
              "    }\n",
              "\n",
              "    .dataframe tbody tr th {\n",
              "        vertical-align: top;\n",
              "    }\n",
              "\n",
              "    .dataframe thead th {\n",
              "        text-align: right;\n",
              "    }\n",
              "</style>\n",
              "<table border=\"1\" class=\"dataframe\">\n",
              "  <thead>\n",
              "    <tr style=\"text-align: right;\">\n",
              "      <th></th>\n",
              "      <th>Stadium</th>\n",
              "      <th>School</th>\n",
              "      <th>Conference</th>\n",
              "      <th>Capacity</th>\n",
              "      <th>Opened</th>\n",
              "    </tr>\n",
              "  </thead>\n",
              "  <tbody>\n",
              "    <tr>\n",
              "      <th>58</th>\n",
              "      <td>Falcon Stadium</td>\n",
              "      <td>Air Force</td>\n",
              "      <td>Mountain West</td>\n",
              "      <td>52237.0</td>\n",
              "      <td>1962</td>\n",
              "    </tr>\n",
              "    <tr>\n",
              "      <th>107</th>\n",
              "      <td>InfoCision Stadium</td>\n",
              "      <td>Akron</td>\n",
              "      <td>MAC</td>\n",
              "      <td>30000.0</td>\n",
              "      <td>2009</td>\n",
              "    </tr>\n",
              "    <tr>\n",
              "      <th>5</th>\n",
              "      <td>Bryant Denny Stadium</td>\n",
              "      <td>Alabama</td>\n",
              "      <td>SEC</td>\n",
              "      <td>101821.0</td>\n",
              "      <td>1929</td>\n",
              "    </tr>\n",
              "    <tr>\n",
              "      <th>118</th>\n",
              "      <td>Kidd Brewer Stadium</td>\n",
              "      <td>Appalachian State</td>\n",
              "      <td>Sun Belt</td>\n",
              "      <td>24150.0</td>\n",
              "      <td>1962</td>\n",
              "    </tr>\n",
              "    <tr>\n",
              "      <th>50</th>\n",
              "      <td>Arizona Stadium</td>\n",
              "      <td>Arizona</td>\n",
              "      <td>Pac 12</td>\n",
              "      <td>56037.0</td>\n",
              "      <td>1928</td>\n",
              "    </tr>\n",
              "  </tbody>\n",
              "</table>\n",
              "</div>"
            ],
            "text/plain": [
              "                  Stadium             School     Conference  Capacity  Opened\n",
              "58         Falcon Stadium          Air Force  Mountain West   52237.0    1962\n",
              "107    InfoCision Stadium              Akron            MAC   30000.0    2009\n",
              "5    Bryant Denny Stadium            Alabama            SEC  101821.0    1929\n",
              "118   Kidd Brewer Stadium  Appalachian State       Sun Belt   24150.0    1962\n",
              "50        Arizona Stadium            Arizona         Pac 12   56037.0    1928"
            ]
          },
          "metadata": {
            "tags": []
          },
          "execution_count": 7
        }
      ]
    },
    {
      "cell_type": "markdown",
      "metadata": {
        "id": "2mQenK2h9U3s",
        "colab_type": "text"
      },
      "source": [
        "### Import Graduation Rates Data\n",
        "From Bleacher report September 4, 2013 <br>\n",
        "https://bleacherreport.com/articles/1731218-college-football-schools-with-the-best-and-worst-graduation-rates#slide0\n",
        "\n",
        "* FGR - Federal Graduation Rate - This method keeps track of first-time freshmen who are full-time students. It follows those students over the course of a six-year period to see if they graduate at the same institution at which they began their secondary education. This method does not account for students who transfer.\n",
        "\n",
        "* GSR - Graduation Success Rate - Uses the same type of data as the FGR, but the GSR data also takes into account students who transfer into a school and graduate from that same school. It also doesn't count against a school's rate when a student-athlete in good standing transfers out of that institution to attend another."
      ]
    },
    {
      "cell_type": "markdown",
      "metadata": {
        "id": "DMeysp6I0tE4",
        "colab_type": "text"
      },
      "source": [
        "The 2013 Graduation Rate data was obtained using the 2006 cohort graduation rates for both GSR and FGR"
      ]
    },
    {
      "cell_type": "code",
      "metadata": {
        "id": "PRHCPwyl9U3t",
        "colab_type": "code",
        "outputId": "9471fff2-36c3-4d8f-ebd9-708084ae159b",
        "colab": {
          "base_uri": "https://localhost:8080/",
          "height": 191
        }
      },
      "source": [
        "# import graduation rate data\n",
        "# obtained from https://web3.ncaa.org/aprsearch/gsrsearch\n",
        "# Sport = Football, Year = 2012-2013\n",
        "\n",
        "# read in Coaches data and create DF\n",
        "gradrates = pd.read_csv(\"https://github.com/frnunez/SU-IST-718/raw/master/data/gradrates.csv\")\n",
        "\n",
        "#Clean Up School Names - Remove \"University of\"\n",
        "import re\n",
        "gradrates['School'] = gradrates['School'].str.replace('The University of ', '').str.strip()\n",
        "gradrates['School'] = gradrates['School'].str.replace('University of ', '').str.strip()\n",
        "gradrates['School'] = gradrates['School'].str.replace('University at ', '').str.strip()\n",
        "gradrates['School'] = gradrates['School'].str.replace(', the State New York', '').str.strip()\n",
        "gradrates['School'] = gradrates['School'].str.replace('University', '').str.strip()\n",
        "gradrates['School'] = gradrates['School'].str.replace('U.S. Air Force Academy', 'Air Force').str.strip()\n",
        "gradrates['School'] = gradrates['School'].str.replace('U.S. Naval Academy', 'Navy').str.strip()\n",
        "gradrates['School'] = gradrates['School'].str.replace('U.S. Military Academy', 'Army').str.strip()\n",
        "gradrates['School'] = gradrates['School'].str.replace('Wisconsin-Madison', 'Wisconsin').str.strip()\n",
        "gradrates['School'] = gradrates['School'].str.replace('Bowling Green State', 'Bowling Green').str.strip()\n",
        "gradrates['School'] = gradrates['School'].str.replace('Arkansas, Fayetteville', 'Arkansas').str.strip()\n",
        "gradrates['School'] = gradrates['School'].str.replace('The Ohio State', 'Ohio State').str.strip()\n",
        "gradrates['School'] = gradrates['School'].str.replace('California, Berkeley', 'California').str.strip()\n",
        "gradrates['School'] = gradrates['School'].str.replace('Colorado, Boulder', 'Colorado').str.strip()\n",
        "gradrates['School'] = gradrates['School'].str.replace('California State , Fresno', 'Fresno State').str.strip()\n",
        "gradrates['School'] = gradrates['School'].str.replace('Georgia Institute of Technology', 'Georgia Tech').str.strip()\n",
        "gradrates['School'] = gradrates['School'].str.replace('Hawaii, Manoa', 'Hawaii').str.strip()\n",
        "gradrates['School'] = gradrates['School'].str.replace('Illinois Urbana-Champaign', 'Illinois').str.strip()\n",
        "gradrates['School'] = gradrates['School'].str.replace('Indiana , Bloomington', 'Indiana').str.strip()\n",
        "gradrates['School'] = gradrates['School'].str.replace('Louisiana Monroe', 'Louisiana-Monroe').str.strip()\n",
        "gradrates['School'] = gradrates['School'].str.replace('Louisiana State', 'LSU').str.strip()\n",
        "gradrates['School'] = gradrates['School'].str.replace('Louisiana at Lafayette', 'Louisiana-Lafayette').str.strip()\n",
        "gradrates['School'] = gradrates['School'].str.replace('Maryland, College Park', 'Maryland').str.strip()\n",
        "gradrates['School'] = gradrates['School'].str.replace('Massachusetts, Amherst', 'Massachusetts').str.strip()\n",
        "gradrates['School'] = gradrates['School'].str.replace('Miami \\\\(Florida\\\\)', 'Miami (Fla.)').str.strip()\n",
        "gradrates['School'] = gradrates['School'].str.replace('Miami  \\\\(Ohio\\\\)', 'Miami (Ohio)').str.strip()\n",
        "gradrates['School'] = gradrates['School'].str.replace('Middle Tennessee State', 'Middle Tennessee').str.strip()\n",
        "gradrates['School'] = gradrates['School'].str.replace('Minnesota, Twin Cities', 'Minnesota').str.strip()\n",
        "gradrates['School'] = gradrates['School'].str.replace('Missouri, Columbia', 'Missouri').str.strip()\n",
        "gradrates['School'] = gradrates['School'].str.replace('Nebraska, Lincoln', 'Nebraska').str.strip()\n",
        "gradrates['School'] = gradrates['School'].str.replace('Nevada, Las Vegas', 'Nevada-Las Vegas').str.strip()\n",
        "gradrates['School'] = gradrates['School'].str.replace('Nevada, Reno', 'Nevada').str.strip()\n",
        "gradrates['School'] = gradrates['School'].str.replace('Pennsylvania State', 'Penn State').str.strip()\n",
        "gradrates['School'] = gradrates['School'].str.replace('Rutgers, The State New Jersey, New Brunswick', 'Rutgers').str.strip()\n",
        "gradrates['School'] = gradrates['School'].str.replace('South Carolina, Columbia', 'South Carolina').str.strip()\n",
        "gradrates['School'] = gradrates['School'].str.replace('Tennessee, Knoxville', 'Tennessee').str.strip()\n",
        "gradrates['School'] = gradrates['School'].str.replace('Texas at Austin', 'Texas').str.strip()\n",
        "gradrates['School'] = gradrates['School'].str.replace('Texas at El Paso', 'Texas-El Paso').str.strip()\n",
        "gradrates['School'] = gradrates['School'].str.replace('Texas A&M , College Station', 'Texas A&M').str.strip()\n",
        "gradrates['School'] = gradrates['School'].str.replace('Virginia Polytechnic Institute and State', 'Virginia Tech').str.strip()\n",
        "gradrates['School'] = gradrates['School'].str.replace('North Carolina, Chapel Hill', 'North Carolina').str.strip()\n",
        "gradrates['School'] = gradrates['School'].str.replace('California, Los Angeles', 'UCLA').str.strip()\n",
        "\n",
        "# sort alphabeticlly\n",
        "gradrates.sort_values('School', inplace=True, ascending=True)\n",
        "\n",
        "# convert State & Conference to categorical\n",
        "gradrates['State'] = gradrates.State.astype('category')\n",
        "gradrates['Conference'] = gradrates.Conference.astype('category')\n",
        "\n",
        "gradrates.head()"
      ],
      "execution_count": 0,
      "outputs": [
        {
          "output_type": "execute_result",
          "data": {
            "text/html": [
              "<div>\n",
              "<style scoped>\n",
              "    .dataframe tbody tr th:only-of-type {\n",
              "        vertical-align: middle;\n",
              "    }\n",
              "\n",
              "    .dataframe tbody tr th {\n",
              "        vertical-align: top;\n",
              "    }\n",
              "\n",
              "    .dataframe thead th {\n",
              "        text-align: right;\n",
              "    }\n",
              "</style>\n",
              "<table border=\"1\" class=\"dataframe\">\n",
              "  <thead>\n",
              "    <tr style=\"text-align: right;\">\n",
              "      <th></th>\n",
              "      <th>Cohort Year</th>\n",
              "      <th>School</th>\n",
              "      <th>Conference</th>\n",
              "      <th>Sport</th>\n",
              "      <th>State</th>\n",
              "      <th>GSR</th>\n",
              "      <th>FGR</th>\n",
              "    </tr>\n",
              "  </thead>\n",
              "  <tbody>\n",
              "    <tr>\n",
              "      <th>210</th>\n",
              "      <td>2006</td>\n",
              "      <td>Air Force</td>\n",
              "      <td>Mountain West Conference</td>\n",
              "      <td>Football</td>\n",
              "      <td>CO</td>\n",
              "      <td>93</td>\n",
              "      <td>NaN</td>\n",
              "    </tr>\n",
              "    <tr>\n",
              "      <th>0</th>\n",
              "      <td>2006</td>\n",
              "      <td>Akron</td>\n",
              "      <td>Mid-American Conference</td>\n",
              "      <td>Football</td>\n",
              "      <td>OH</td>\n",
              "      <td>58</td>\n",
              "      <td>52.0</td>\n",
              "    </tr>\n",
              "    <tr>\n",
              "      <th>3</th>\n",
              "      <td>2006</td>\n",
              "      <td>Alabama</td>\n",
              "      <td>Southeastern Conference</td>\n",
              "      <td>Football</td>\n",
              "      <td>AL</td>\n",
              "      <td>73</td>\n",
              "      <td>57.0</td>\n",
              "    </tr>\n",
              "    <tr>\n",
              "      <th>1</th>\n",
              "      <td>2006</td>\n",
              "      <td>Alabama A&amp;M</td>\n",
              "      <td>Southwestern Athletic Conf.</td>\n",
              "      <td>Football</td>\n",
              "      <td>AL</td>\n",
              "      <td>40</td>\n",
              "      <td>45.0</td>\n",
              "    </tr>\n",
              "    <tr>\n",
              "      <th>2</th>\n",
              "      <td>2006</td>\n",
              "      <td>Alabama State</td>\n",
              "      <td>Southwestern Athletic Conf.</td>\n",
              "      <td>Football</td>\n",
              "      <td>AL</td>\n",
              "      <td>81</td>\n",
              "      <td>59.0</td>\n",
              "    </tr>\n",
              "  </tbody>\n",
              "</table>\n",
              "</div>"
            ],
            "text/plain": [
              "     Cohort Year         School                   Conference  ... State GSR   FGR\n",
              "210         2006      Air Force     Mountain West Conference  ...    CO  93   NaN\n",
              "0           2006          Akron      Mid-American Conference  ...    OH  58  52.0\n",
              "3           2006        Alabama      Southeastern Conference  ...    AL  73  57.0\n",
              "1           2006    Alabama A&M  Southwestern Athletic Conf.  ...    AL  40  45.0\n",
              "2           2006  Alabama State  Southwestern Athletic Conf.  ...    AL  81  59.0\n",
              "\n",
              "[5 rows x 7 columns]"
            ]
          },
          "metadata": {
            "tags": []
          },
          "execution_count": 8
        }
      ]
    },
    {
      "cell_type": "markdown",
      "metadata": {
        "id": "aVCzneAY9U3w",
        "colab_type": "text"
      },
      "source": [
        "### Win Loss Record"
      ]
    },
    {
      "cell_type": "code",
      "metadata": {
        "id": "VH2HTGot9U3w",
        "colab_type": "code",
        "outputId": "22dab032-335e-4e0b-b383-4e7f53719092",
        "colab": {
          "base_uri": "https://localhost:8080/",
          "height": 98
        }
      },
      "source": [
        "#Scrape 2019 Win-Loss Records\n",
        "\n",
        "#create url\n",
        "url='https://www.teamrankings.com/ncf/trends/win_trends/?range=yearly_2019'\n",
        "\n",
        "#Create a handle, page, to handle the contents of the website\n",
        "page = requests.get(url)\n",
        "\n",
        "#Store the contents of the website under doc\n",
        "doc = lh.fromstring(page.content)\n",
        "\n",
        "#Parse data that are stored between <tr>..</tr> of the site's HTML code\n",
        "tr_elements = doc.xpath('//tr')\n",
        "\n",
        "#Create empty list\n",
        "col=[]\n",
        "i=0\n",
        "\n",
        "#For each row, store each first element (header) and an empty list\n",
        "for t in tr_elements[0]:\n",
        "    i+=1\n",
        "    name=t.text_content()\n",
        "    print ('%d:\\\"%s\\\"'%(i,name))\n",
        "    col.append((name,[]))\n",
        "    \n",
        "#Since out first row is the header, data is stored on the second row onwards\n",
        "for j in range(1,len(tr_elements)):\n",
        "    #T is our j'th row\n",
        "    T=tr_elements[j]\n",
        "    \n",
        "    #If row is not of size 5, the //tr data is not from our table \n",
        "    if len(T)!=5:\n",
        "        break\n",
        "    \n",
        "    #i is the index of our column\n",
        "    i=0\n",
        "    \n",
        "    #Iterate through each element of the row\n",
        "    for t in T.iterchildren():\n",
        "        data=t.text_content() \n",
        "        #Check if row is empty\n",
        "        if i>0:\n",
        "        #Convert any numerical value to integers\n",
        "            try:\n",
        "                data=int(data)\n",
        "            except:\n",
        "                pass\n",
        "        #Append the data to the empty list of the i'th column\n",
        "        col[i][1].append(data)\n",
        "        #Increment i for the next column\n",
        "        i+=1"
      ],
      "execution_count": 0,
      "outputs": [
        {
          "output_type": "stream",
          "text": [
            "1:\"Team\"\n",
            "2:\"Win-Loss Record\"\n",
            "3:\"Win %\"\n",
            "4:\"MOV\"\n",
            "5:\"ATS +/-\"\n"
          ],
          "name": "stdout"
        }
      ]
    },
    {
      "cell_type": "code",
      "metadata": {
        "id": "ha3G7e9g9U3z",
        "colab_type": "code",
        "colab": {}
      },
      "source": [
        "# create WinLoss dataframe\n",
        "Dict={title:column for (title,column) in col}\n",
        "WinLoss=pd.DataFrame(Dict)\n",
        "WinLoss.rename(columns={'Team':'School'},inplace=True)\n",
        "WinLoss.rename(columns={'Win %':'WinPercentage2019'},inplace=True)\n",
        "WinLoss.rename(columns={'Win-Loss Record':'Win-Loss Record2019'},inplace=True)\n",
        "WinLoss.rename(columns={'ATS +/-':'ATS'},inplace=True)\n",
        "WinLoss.sort_values('School', inplace=True, ascending=True)"
      ],
      "execution_count": 0,
      "outputs": []
    },
    {
      "cell_type": "code",
      "metadata": {
        "scrolled": true,
        "id": "fRWn9SFv9U33",
        "colab_type": "code",
        "outputId": "fb392800-2d77-4f64-e67f-6cfe75169200",
        "colab": {
          "base_uri": "https://localhost:8080/",
          "height": 191
        }
      },
      "source": [
        "#Clean up\n",
        "\n",
        "# Convert Win Percentage into a float\n",
        "WinLoss[\"WinPer2019\"] = WinLoss['WinPercentage2019'].str.replace('%', '').str.strip()\n",
        "WinLoss[\"WinPer2019\"] = WinLoss.WinPer2019.astype(float)\n",
        "# using apply function to convert to percentage\n",
        "WinLoss[\"WinPer2019\"] = WinLoss.apply(lambda row: (row.WinPer2019 * 0.01), axis = 1) \n",
        "\n",
        "# Fix Names\n",
        "WinLoss['School'] = WinLoss['School'].str.replace('App State', 'Appalachian State').str.strip()\n",
        "WinLoss['School'] = WinLoss['School'].str.replace('Arizona St', 'Arizona State').str.strip()\n",
        "WinLoss['School'] = WinLoss['School'].str.replace('Arkansas St', 'Arkansas State').str.strip()\n",
        "WinLoss['School'] = WinLoss['School'].str.replace('BYU', 'Brigham Young').str.strip()\n",
        "WinLoss['School'] = WinLoss['School'].str.replace('Boston Col', 'Boston College').str.strip()\n",
        "WinLoss['School'] = WinLoss['School'].str.replace('Bowling Grn', 'Bowling Green').str.strip()\n",
        "WinLoss['School'] = WinLoss['School'].str.replace('Central FL', 'Central Florida').str.strip()\n",
        "WinLoss['School'] = WinLoss['School'].str.replace('Central Mich', 'Central Michigan').str.strip()\n",
        "WinLoss['School'] = WinLoss['School'].str.replace('Coastal Car', 'Coastal Carolina').str.strip()\n",
        "WinLoss['School'] = WinLoss['School'].str.replace('Colorado St', 'Colorado State').str.strip()\n",
        "WinLoss['School'] = WinLoss['School'].str.replace('E Carolina', 'East Carolina').str.strip()\n",
        "WinLoss['School'] = WinLoss['School'].str.replace('E Michigan', 'Eastern Michigan').str.strip()\n",
        "WinLoss['School'] = WinLoss['School'].str.replace('Fla Atlantic', 'Florida Atlantic').str.strip()\n",
        "WinLoss['School'] = WinLoss['School'].str.replace('Florida Intl', 'Florida International').str.strip()\n",
        "WinLoss['School'] = WinLoss['School'].str.replace('Florida St', 'Florida State').str.strip()\n",
        "WinLoss['School'] = WinLoss['School'].str.replace('Fresno St', 'Fresno State').str.strip()\n",
        "WinLoss['School'] = WinLoss['School'].str.replace('GA Southern', 'Georgia Southern').str.strip()\n",
        "WinLoss['School'] = WinLoss['School'].str.replace('GA Tech', 'Georgia Tech').str.strip()\n",
        "WinLoss['School'] = WinLoss['School'].str.replace('Kansas St', 'Kansas State').str.strip()\n",
        "WinLoss['School'] = WinLoss['School'].str.replace('LA Lafayette', 'Louisiana-Lafayette').str.strip()\n",
        "WinLoss['School'] = WinLoss['School'].str.replace('LA Tech', 'Louisiana Tech').str.strip()\n",
        "WinLoss['School'] = WinLoss['School'].str.replace('LA Monroe', 'Louisiana-Monroe').str.strip()\n",
        "WinLoss['School'] = WinLoss['School'].str.replace('Miami \\\\(FL\\\\)', 'Miami (Fla.)').str.strip()\n",
        "WinLoss['School'] = WinLoss['School'].str.replace('Miami \\\\(OH\\\\)', 'Miami (Ohio)').str.strip()\n",
        "WinLoss['School'] = WinLoss['School'].str.replace('Michigan St', 'Michigan State').str.strip()\n",
        "WinLoss['School'] = WinLoss['School'].str.replace('Middle Tenn', 'Middle Tennessee').str.strip()\n",
        "WinLoss['School'] = WinLoss['School'].str.replace('Miss State', 'Mississippi State').str.strip()\n",
        "WinLoss['School'] = WinLoss['School'].str.replace('N Carolina', 'North Carolina').str.strip()\n",
        "WinLoss['School'] = WinLoss['School'].str.replace('N Illinois', 'Northern Illinois').str.strip()\n",
        "WinLoss['School'] = WinLoss['School'].str.replace('N Mex State', 'New Mexico State').str.strip()\n",
        "WinLoss['School'] = WinLoss['School'].str.replace('NC State', 'North Carolina State').str.strip()\n",
        "WinLoss['School'] = WinLoss['School'].str.replace('Oklahoma St', 'Oklahoma State').str.strip()\n",
        "WinLoss['School'] = WinLoss['School'].str.replace('Oregon St', 'Oregon State').str.strip()\n",
        "WinLoss['School'] = WinLoss['School'].str.replace('S Alabama', 'South Alabama').str.strip()\n",
        "WinLoss['School'] = WinLoss['School'].str.replace('S Carolina', 'South Carolina').str.strip()\n",
        "WinLoss['School'] = WinLoss['School'].str.replace('S Florida', 'South Florida').str.strip()\n",
        "WinLoss['School'] = WinLoss['School'].str.replace('S Methodist', 'Southern Methodist').str.strip()\n",
        "WinLoss['School'] = WinLoss['School'].str.replace('S Mississippi', 'Southern Mississippi').str.strip()\n",
        "WinLoss['School'] = WinLoss['School'].str.replace('San Diego St', 'San Diego State').str.strip()\n",
        "WinLoss['School'] = WinLoss['School'].str.replace('San Jose St', 'San Jose State').str.strip()\n",
        "WinLoss['School'] = WinLoss['School'].str.replace('TX Christian', 'Texas Christian').str.strip()\n",
        "WinLoss['School'] = WinLoss['School'].str.replace('TX-San Ant', 'Texas-San Antonio').str.strip()\n",
        "WinLoss['School'] = WinLoss['School'].str.replace('TX El Paso', 'Texas-El Paso').str.strip()\n",
        "WinLoss['School'] = WinLoss['School'].str.replace('U Mass', 'Massachusetts').str.strip()\n",
        "WinLoss['School'] = WinLoss['School'].str.replace('UAB', 'Alabama at Birmingham').str.strip()\n",
        "WinLoss['School'] = WinLoss['School'].str.replace('UNLV', 'Nevada-Las Vegas').str.strip()\n",
        "WinLoss['School'] = WinLoss['School'].str.replace('USC', 'Southern California').str.strip()\n",
        "WinLoss['School'] = WinLoss['School'].str.replace('VA Tech', 'Virginia Tech').str.strip()\n",
        "WinLoss['School'] = WinLoss['School'].str.replace('W Kentucky', 'Western Kentucky').str.strip()\n",
        "WinLoss['School'] = WinLoss['School'].str.replace('W Michigan', 'Western Michigan').str.strip()\n",
        "WinLoss['School'] = WinLoss['School'].str.replace('W Virginia', 'West Virginia').str.strip()\n",
        "WinLoss['School'] = WinLoss['School'].str.replace('Wash State', 'Washington State').str.strip()\n",
        "WinLoss['School'] = WinLoss['School'].str.replace('W Virginia', 'West Virginia').str.strip()\n",
        "WinLoss['School'] = WinLoss['School'].str.replace('W Virginia', 'West Virginia').str.strip()\n",
        "\n",
        "WinLoss.head()"
      ],
      "execution_count": 0,
      "outputs": [
        {
          "output_type": "execute_result",
          "data": {
            "text/html": [
              "<div>\n",
              "<style scoped>\n",
              "    .dataframe tbody tr th:only-of-type {\n",
              "        vertical-align: middle;\n",
              "    }\n",
              "\n",
              "    .dataframe tbody tr th {\n",
              "        vertical-align: top;\n",
              "    }\n",
              "\n",
              "    .dataframe thead th {\n",
              "        text-align: right;\n",
              "    }\n",
              "</style>\n",
              "<table border=\"1\" class=\"dataframe\">\n",
              "  <thead>\n",
              "    <tr style=\"text-align: right;\">\n",
              "      <th></th>\n",
              "      <th>School</th>\n",
              "      <th>Win-Loss Record2019</th>\n",
              "      <th>WinPercentage2019</th>\n",
              "      <th>MOV</th>\n",
              "      <th>ATS</th>\n",
              "      <th>WinPer2019</th>\n",
              "    </tr>\n",
              "  </thead>\n",
              "  <tbody>\n",
              "    <tr>\n",
              "      <th>14</th>\n",
              "      <td>Air Force</td>\n",
              "      <td>11-2-0</td>\n",
              "      <td>84.6%</td>\n",
              "      <td>14.2</td>\n",
              "      <td>+5.7</td>\n",
              "      <td>0.846</td>\n",
              "    </tr>\n",
              "    <tr>\n",
              "      <th>129</th>\n",
              "      <td>Akron</td>\n",
              "      <td>0-12-0</td>\n",
              "      <td>0.0%</td>\n",
              "      <td>-25.8</td>\n",
              "      <td>-11.6</td>\n",
              "      <td>0.000</td>\n",
              "    </tr>\n",
              "    <tr>\n",
              "      <th>12</th>\n",
              "      <td>Alabama</td>\n",
              "      <td>11-2-0</td>\n",
              "      <td>84.6%</td>\n",
              "      <td>28.6</td>\n",
              "      <td>+0.6</td>\n",
              "      <td>0.846</td>\n",
              "    </tr>\n",
              "    <tr>\n",
              "      <th>2</th>\n",
              "      <td>Appalachian State</td>\n",
              "      <td>13-1-0</td>\n",
              "      <td>92.9%</td>\n",
              "      <td>18.8</td>\n",
              "      <td>+4.9</td>\n",
              "      <td>0.929</td>\n",
              "    </tr>\n",
              "    <tr>\n",
              "      <th>99</th>\n",
              "      <td>Arizona</td>\n",
              "      <td>4-8-0</td>\n",
              "      <td>33.3%</td>\n",
              "      <td>-8.8</td>\n",
              "      <td>-5.5</td>\n",
              "      <td>0.333</td>\n",
              "    </tr>\n",
              "  </tbody>\n",
              "</table>\n",
              "</div>"
            ],
            "text/plain": [
              "                School Win-Loss Record2019  ...    ATS WinPer2019\n",
              "14           Air Force              11-2-0  ...   +5.7      0.846\n",
              "129              Akron              0-12-0  ...  -11.6      0.000\n",
              "12             Alabama              11-2-0  ...   +0.6      0.846\n",
              "2    Appalachian State              13-1-0  ...   +4.9      0.929\n",
              "99             Arizona               4-8-0  ...   -5.5      0.333\n",
              "\n",
              "[5 rows x 6 columns]"
            ]
          },
          "metadata": {
            "tags": []
          },
          "execution_count": 11
        }
      ]
    },
    {
      "cell_type": "code",
      "metadata": {
        "id": "85mY2BQf9U38",
        "colab_type": "code",
        "outputId": "060d062c-8add-4837-b243-da3bb54a11d2",
        "colab": {
          "base_uri": "https://localhost:8080/",
          "height": 342
        }
      },
      "source": [
        "# Merge all dfs to create finalcoaches\n",
        "merge1 = coaches.merge(stadiums, on='School', how='left') #Add stadium data to coaches, match on School to create merge1\n",
        "merge2 = merge1.merge(gradrates, on='School', how='left') #Add gradrates data to merge1, match on School to create merge2\n",
        "finalcoaches = merge2.merge(WinLoss, on='School', how='left') #Add WinLoss data to merge2, match on School to create finalcoaches\n",
        "\n",
        "#drop uneeded columns\n",
        "finalcoaches = finalcoaches.drop(['Stadium', 'Conference_y', 'Conference',\n",
        "                                  'Sport',\n",
        "                                  'Opened','MOV','ATS'], axis=1)\n",
        "\n",
        "# rename\n",
        "finalcoaches.rename(columns={'Conference_x':'Conference'}, inplace=True)\n",
        "\n",
        "# using apply function to create a new column for graphing purposes (thousands)\n",
        "finalcoaches['TotalPayThousands'] = finalcoaches.apply(lambda row: (row.TotalPay * 0.001), axis = 1) \n",
        "\n",
        "# compute descriptive statistics for original variables\n",
        "print(finalcoaches.describe())\n",
        "print(\"*\"*80)\n",
        "print(finalcoaches.head())"
      ],
      "execution_count": 0,
      "outputs": [
        {
          "output_type": "stream",
          "text": [
            "          SchoolPay      TotalPay  ...  WinPer2019  TotalPayThousands\n",
            "count  1.290000e+02  1.290000e+02  ...  129.000000         129.000000\n",
            "mean   2.335563e+06  2.342113e+06  ...    0.521217        2342.113140\n",
            "std    1.898654e+06  1.903114e+06  ...    0.217709        1903.113765\n",
            "min    0.000000e+00  0.000000e+00  ...    0.000000           0.000000\n",
            "25%    7.625700e+05  7.625700e+05  ...    0.333000         762.570000\n",
            "50%    1.800000e+06  1.830000e+06  ...    0.538000        1830.000000\n",
            "75%    3.550000e+06  3.550000e+06  ...    0.643000        3550.000000\n",
            "max    8.307000e+06  8.307000e+06  ...    1.000000        8307.000000\n",
            "\n",
            "[8 rows x 12 columns]\n",
            "********************************************************************************\n",
            "                  School Conference  ... WinPer2019  TotalPayThousands\n",
            "0              Air Force   Mt. West  ...      0.846              885.0\n",
            "1                  Akron        MAC  ...      0.000              412.5\n",
            "2                Alabama        SEC  ...      0.846             8307.0\n",
            "3  Alabama at Birmingham      C-USA  ...      0.643              900.0\n",
            "4      Appalachian State   Sun Belt  ...      0.929              712.5\n",
            "\n",
            "[5 rows x 18 columns]\n"
          ],
          "name": "stdout"
        }
      ]
    },
    {
      "cell_type": "code",
      "metadata": {
        "id": "7_tp1Lf_9U3_",
        "colab_type": "code",
        "outputId": "67545760-9ed4-4aed-eccb-d45f0914a519",
        "colab": {
          "base_uri": "https://localhost:8080/",
          "height": 391
        }
      },
      "source": [
        "#check for null values in the dataframe\n",
        "are_null_values = finalcoaches.isnull().values.any()\n",
        "num_nulls = finalcoaches.isnull().sum()\n",
        "print(\"*\"*80)\n",
        "print(\"Are there any null values?\",are_null_values)\n",
        "print(\"*\"*80)\n",
        "print(\"Columns with null values: \",num_nulls)\n",
        "print(\"Number of observations: \",len(finalcoaches))"
      ],
      "execution_count": 0,
      "outputs": [
        {
          "output_type": "stream",
          "text": [
            "********************************************************************************\n",
            "Are there any null values? True\n",
            "********************************************************************************\n",
            "Columns with null values:  School                 0\n",
            "Conference             0\n",
            "Coach                  0\n",
            "SchoolPay              0\n",
            "TotalPay               0\n",
            "Bonus                  0\n",
            "BonusPaid              0\n",
            "AssistantPay           0\n",
            "Buyout                 0\n",
            "Capacity               1\n",
            "Cohort Year            4\n",
            "State                  4\n",
            "GSR                    4\n",
            "FGR                    8\n",
            "Win-Loss Record2019    0\n",
            "WinPercentage2019      0\n",
            "WinPer2019             0\n",
            "TotalPayThousands      0\n",
            "dtype: int64\n",
            "Number of observations:  129\n"
          ],
          "name": "stdout"
        }
      ]
    },
    {
      "cell_type": "code",
      "metadata": {
        "id": "fvZP5lG19U4C",
        "colab_type": "code",
        "outputId": "82f7b9a3-e2ac-4078-9f48-5b893db4f7b3",
        "colab": {
          "base_uri": "https://localhost:8080/",
          "height": 277
        }
      },
      "source": [
        "# Schools missing FGR (Federal Graduation Rate) and GSR (Graduate Success Rate)\n",
        "finalcoaches[finalcoaches['FGR'].isna()]\n",
        "\n",
        "# We will use GSR instead of FGR will give us more data and is the method being used by NCAA"
      ],
      "execution_count": 0,
      "outputs": [
        {
          "output_type": "execute_result",
          "data": {
            "text/html": [
              "<div>\n",
              "<style scoped>\n",
              "    .dataframe tbody tr th:only-of-type {\n",
              "        vertical-align: middle;\n",
              "    }\n",
              "\n",
              "    .dataframe tbody tr th {\n",
              "        vertical-align: top;\n",
              "    }\n",
              "\n",
              "    .dataframe thead th {\n",
              "        text-align: right;\n",
              "    }\n",
              "</style>\n",
              "<table border=\"1\" class=\"dataframe\">\n",
              "  <thead>\n",
              "    <tr style=\"text-align: right;\">\n",
              "      <th></th>\n",
              "      <th>School</th>\n",
              "      <th>Conference</th>\n",
              "      <th>Coach</th>\n",
              "      <th>SchoolPay</th>\n",
              "      <th>TotalPay</th>\n",
              "      <th>Bonus</th>\n",
              "      <th>BonusPaid</th>\n",
              "      <th>AssistantPay</th>\n",
              "      <th>Buyout</th>\n",
              "      <th>Capacity</th>\n",
              "      <th>Cohort Year</th>\n",
              "      <th>State</th>\n",
              "      <th>GSR</th>\n",
              "      <th>FGR</th>\n",
              "      <th>Win-Loss Record2019</th>\n",
              "      <th>WinPercentage2019</th>\n",
              "      <th>WinPer2019</th>\n",
              "      <th>TotalPayThousands</th>\n",
              "    </tr>\n",
              "  </thead>\n",
              "  <tbody>\n",
              "    <tr>\n",
              "      <th>0</th>\n",
              "      <td>Air Force</td>\n",
              "      <td>Mt. West</td>\n",
              "      <td>Troy Calhoun</td>\n",
              "      <td>885000.0</td>\n",
              "      <td>885000.0</td>\n",
              "      <td>247000.0</td>\n",
              "      <td>0.0</td>\n",
              "      <td>0.0</td>\n",
              "      <td>0.0</td>\n",
              "      <td>52237.0</td>\n",
              "      <td>2006.0</td>\n",
              "      <td>CO</td>\n",
              "      <td>93.0</td>\n",
              "      <td>NaN</td>\n",
              "      <td>11-2-0</td>\n",
              "      <td>84.6%</td>\n",
              "      <td>0.846</td>\n",
              "      <td>885.000</td>\n",
              "    </tr>\n",
              "    <tr>\n",
              "      <th>9</th>\n",
              "      <td>Army</td>\n",
              "      <td>Ind.</td>\n",
              "      <td>Jeff Monken</td>\n",
              "      <td>932521.0</td>\n",
              "      <td>932521.0</td>\n",
              "      <td>0.0</td>\n",
              "      <td>0.0</td>\n",
              "      <td>0.0</td>\n",
              "      <td>0.0</td>\n",
              "      <td>38000.0</td>\n",
              "      <td>2006.0</td>\n",
              "      <td>NY</td>\n",
              "      <td>89.0</td>\n",
              "      <td>NaN</td>\n",
              "      <td>5-8-0</td>\n",
              "      <td>38.5%</td>\n",
              "      <td>0.385</td>\n",
              "      <td>932.521</td>\n",
              "    </tr>\n",
              "    <tr>\n",
              "      <th>21</th>\n",
              "      <td>Charlotte</td>\n",
              "      <td>C-USA</td>\n",
              "      <td>Brad Lambert</td>\n",
              "      <td>625000.0</td>\n",
              "      <td>625000.0</td>\n",
              "      <td>120000.0</td>\n",
              "      <td>0.0</td>\n",
              "      <td>0.0</td>\n",
              "      <td>556389.0</td>\n",
              "      <td>15314.0</td>\n",
              "      <td>NaN</td>\n",
              "      <td>NaN</td>\n",
              "      <td>NaN</td>\n",
              "      <td>NaN</td>\n",
              "      <td>7-6-0</td>\n",
              "      <td>53.8%</td>\n",
              "      <td>0.538</td>\n",
              "      <td>625.000</td>\n",
              "    </tr>\n",
              "    <tr>\n",
              "      <th>38</th>\n",
              "      <td>Georgia State</td>\n",
              "      <td>Sun Belt</td>\n",
              "      <td>Shawn Elliott</td>\n",
              "      <td>569000.0</td>\n",
              "      <td>569000.0</td>\n",
              "      <td>220000.0</td>\n",
              "      <td>60000.0</td>\n",
              "      <td>0.0</td>\n",
              "      <td>1500000.0</td>\n",
              "      <td>23000.0</td>\n",
              "      <td>NaN</td>\n",
              "      <td>NaN</td>\n",
              "      <td>NaN</td>\n",
              "      <td>NaN</td>\n",
              "      <td>7-6-0</td>\n",
              "      <td>53.8%</td>\n",
              "      <td>0.538</td>\n",
              "      <td>569.000</td>\n",
              "    </tr>\n",
              "    <tr>\n",
              "      <th>69</th>\n",
              "      <td>Navy</td>\n",
              "      <td>AAC</td>\n",
              "      <td>Ken Niumatalolo</td>\n",
              "      <td>2163000.0</td>\n",
              "      <td>2163000.0</td>\n",
              "      <td>0.0</td>\n",
              "      <td>0.0</td>\n",
              "      <td>0.0</td>\n",
              "      <td>0.0</td>\n",
              "      <td>34000.0</td>\n",
              "      <td>2006.0</td>\n",
              "      <td>MD</td>\n",
              "      <td>84.0</td>\n",
              "      <td>NaN</td>\n",
              "      <td>11-2-0</td>\n",
              "      <td>84.6%</td>\n",
              "      <td>0.846</td>\n",
              "      <td>2163.000</td>\n",
              "    </tr>\n",
              "    <tr>\n",
              "      <th>85</th>\n",
              "      <td>Old Dominion</td>\n",
              "      <td>C-USA</td>\n",
              "      <td>Bobby Wilder</td>\n",
              "      <td>654667.0</td>\n",
              "      <td>654667.0</td>\n",
              "      <td>504895.0</td>\n",
              "      <td>0.0</td>\n",
              "      <td>0.0</td>\n",
              "      <td>1200000.0</td>\n",
              "      <td>20118.0</td>\n",
              "      <td>2006.0</td>\n",
              "      <td>VA</td>\n",
              "      <td>50.0</td>\n",
              "      <td>NaN</td>\n",
              "      <td>1-11-0</td>\n",
              "      <td>8.3%</td>\n",
              "      <td>0.083</td>\n",
              "      <td>654.667</td>\n",
              "    </tr>\n",
              "    <tr>\n",
              "      <th>95</th>\n",
              "      <td>South Alabama</td>\n",
              "      <td>Sun Belt</td>\n",
              "      <td>Steve Campbell</td>\n",
              "      <td>600000.0</td>\n",
              "      <td>600000.0</td>\n",
              "      <td>295000.0</td>\n",
              "      <td>0.0</td>\n",
              "      <td>0.0</td>\n",
              "      <td>918333.0</td>\n",
              "      <td>40646.0</td>\n",
              "      <td>NaN</td>\n",
              "      <td>NaN</td>\n",
              "      <td>NaN</td>\n",
              "      <td>NaN</td>\n",
              "      <td>2-10-0</td>\n",
              "      <td>16.7%</td>\n",
              "      <td>0.167</td>\n",
              "      <td>600.000</td>\n",
              "    </tr>\n",
              "    <tr>\n",
              "      <th>110</th>\n",
              "      <td>Texas-San Antonio</td>\n",
              "      <td>C-USA</td>\n",
              "      <td>Frank Wilson</td>\n",
              "      <td>1100000.0</td>\n",
              "      <td>1100000.0</td>\n",
              "      <td>185000.0</td>\n",
              "      <td>17500.0</td>\n",
              "      <td>0.0</td>\n",
              "      <td>3562500.0</td>\n",
              "      <td>65000.0</td>\n",
              "      <td>NaN</td>\n",
              "      <td>NaN</td>\n",
              "      <td>NaN</td>\n",
              "      <td>NaN</td>\n",
              "      <td>4-8-0</td>\n",
              "      <td>33.3%</td>\n",
              "      <td>0.333</td>\n",
              "      <td>1100.000</td>\n",
              "    </tr>\n",
              "  </tbody>\n",
              "</table>\n",
              "</div>"
            ],
            "text/plain": [
              "                School Conference  ... WinPer2019  TotalPayThousands\n",
              "0            Air Force   Mt. West  ...      0.846            885.000\n",
              "9                 Army       Ind.  ...      0.385            932.521\n",
              "21           Charlotte      C-USA  ...      0.538            625.000\n",
              "38       Georgia State   Sun Belt  ...      0.538            569.000\n",
              "69                Navy        AAC  ...      0.846           2163.000\n",
              "85        Old Dominion      C-USA  ...      0.083            654.667\n",
              "95       South Alabama   Sun Belt  ...      0.167            600.000\n",
              "110  Texas-San Antonio      C-USA  ...      0.333           1100.000\n",
              "\n",
              "[8 rows x 18 columns]"
            ]
          },
          "metadata": {
            "tags": []
          },
          "execution_count": 14
        }
      ]
    },
    {
      "cell_type": "code",
      "metadata": {
        "id": "Ig7eYIa69U4E",
        "colab_type": "code",
        "outputId": "3b26736d-574b-419b-8c14-b73f7ba1ea88",
        "colab": {
          "base_uri": "https://localhost:8080/",
          "height": 162
        }
      },
      "source": [
        "# Schools missing TotalPay\n",
        "finalcoaches.loc[finalcoaches['TotalPay'] == 0]"
      ],
      "execution_count": 0,
      "outputs": [
        {
          "output_type": "execute_result",
          "data": {
            "text/html": [
              "<div>\n",
              "<style scoped>\n",
              "    .dataframe tbody tr th:only-of-type {\n",
              "        vertical-align: middle;\n",
              "    }\n",
              "\n",
              "    .dataframe tbody tr th {\n",
              "        vertical-align: top;\n",
              "    }\n",
              "\n",
              "    .dataframe thead th {\n",
              "        text-align: right;\n",
              "    }\n",
              "</style>\n",
              "<table border=\"1\" class=\"dataframe\">\n",
              "  <thead>\n",
              "    <tr style=\"text-align: right;\">\n",
              "      <th></th>\n",
              "      <th>School</th>\n",
              "      <th>Conference</th>\n",
              "      <th>Coach</th>\n",
              "      <th>SchoolPay</th>\n",
              "      <th>TotalPay</th>\n",
              "      <th>Bonus</th>\n",
              "      <th>BonusPaid</th>\n",
              "      <th>AssistantPay</th>\n",
              "      <th>Buyout</th>\n",
              "      <th>Capacity</th>\n",
              "      <th>Cohort Year</th>\n",
              "      <th>State</th>\n",
              "      <th>GSR</th>\n",
              "      <th>FGR</th>\n",
              "      <th>Win-Loss Record2019</th>\n",
              "      <th>WinPercentage2019</th>\n",
              "      <th>WinPer2019</th>\n",
              "      <th>TotalPayThousands</th>\n",
              "    </tr>\n",
              "  </thead>\n",
              "  <tbody>\n",
              "    <tr>\n",
              "      <th>12</th>\n",
              "      <td>Baylor</td>\n",
              "      <td>Big 12</td>\n",
              "      <td>Matt Rhule</td>\n",
              "      <td>0.0</td>\n",
              "      <td>0.0</td>\n",
              "      <td>0.0</td>\n",
              "      <td>0.0</td>\n",
              "      <td>0.0</td>\n",
              "      <td>0.0</td>\n",
              "      <td>45140.0</td>\n",
              "      <td>2006.0</td>\n",
              "      <td>TX</td>\n",
              "      <td>67.0</td>\n",
              "      <td>48.0</td>\n",
              "      <td>11-3-0</td>\n",
              "      <td>78.6%</td>\n",
              "      <td>0.786</td>\n",
              "      <td>0.0</td>\n",
              "    </tr>\n",
              "    <tr>\n",
              "      <th>16</th>\n",
              "      <td>Brigham Young</td>\n",
              "      <td>Ind.</td>\n",
              "      <td>Kalani Sitake</td>\n",
              "      <td>0.0</td>\n",
              "      <td>0.0</td>\n",
              "      <td>0.0</td>\n",
              "      <td>0.0</td>\n",
              "      <td>0.0</td>\n",
              "      <td>0.0</td>\n",
              "      <td>63725.0</td>\n",
              "      <td>2006.0</td>\n",
              "      <td>UT</td>\n",
              "      <td>57.0</td>\n",
              "      <td>42.0</td>\n",
              "      <td>7-6-0</td>\n",
              "      <td>53.8%</td>\n",
              "      <td>0.538</td>\n",
              "      <td>0.0</td>\n",
              "    </tr>\n",
              "    <tr>\n",
              "      <th>91</th>\n",
              "      <td>Rice</td>\n",
              "      <td>C-USA</td>\n",
              "      <td>Mike Bloomgren</td>\n",
              "      <td>0.0</td>\n",
              "      <td>0.0</td>\n",
              "      <td>0.0</td>\n",
              "      <td>0.0</td>\n",
              "      <td>0.0</td>\n",
              "      <td>0.0</td>\n",
              "      <td>47000.0</td>\n",
              "      <td>2006.0</td>\n",
              "      <td>TX</td>\n",
              "      <td>96.0</td>\n",
              "      <td>89.0</td>\n",
              "      <td>3-9-0</td>\n",
              "      <td>25.0%</td>\n",
              "      <td>0.250</td>\n",
              "      <td>0.0</td>\n",
              "    </tr>\n",
              "    <tr>\n",
              "      <th>99</th>\n",
              "      <td>Southern Methodist</td>\n",
              "      <td>AAC</td>\n",
              "      <td>Sonny Dykes</td>\n",
              "      <td>0.0</td>\n",
              "      <td>0.0</td>\n",
              "      <td>0.0</td>\n",
              "      <td>0.0</td>\n",
              "      <td>0.0</td>\n",
              "      <td>0.0</td>\n",
              "      <td>32000.0</td>\n",
              "      <td>2006.0</td>\n",
              "      <td>TX</td>\n",
              "      <td>75.0</td>\n",
              "      <td>63.0</td>\n",
              "      <td>10-3-0</td>\n",
              "      <td>76.9%</td>\n",
              "      <td>0.769</td>\n",
              "      <td>0.0</td>\n",
              "    </tr>\n",
              "  </tbody>\n",
              "</table>\n",
              "</div>"
            ],
            "text/plain": [
              "                School Conference  ... WinPer2019  TotalPayThousands\n",
              "12              Baylor     Big 12  ...      0.786                0.0\n",
              "16       Brigham Young       Ind.  ...      0.538                0.0\n",
              "91                Rice      C-USA  ...      0.250                0.0\n",
              "99  Southern Methodist        AAC  ...      0.769                0.0\n",
              "\n",
              "[4 rows x 18 columns]"
            ]
          },
          "metadata": {
            "tags": []
          },
          "execution_count": 15
        }
      ]
    },
    {
      "cell_type": "code",
      "metadata": {
        "id": "9ox8qmKj9U4H",
        "colab_type": "code",
        "outputId": "d1050080-ed7e-46fe-b9f0-ba8d8e95987c",
        "colab": {
          "base_uri": "https://localhost:8080/",
          "height": 76
        }
      },
      "source": [
        "# Schools missing Stadium Capacity\n",
        "finalcoaches[finalcoaches['Capacity'].isna()]"
      ],
      "execution_count": 0,
      "outputs": [
        {
          "output_type": "execute_result",
          "data": {
            "text/html": [
              "<div>\n",
              "<style scoped>\n",
              "    .dataframe tbody tr th:only-of-type {\n",
              "        vertical-align: middle;\n",
              "    }\n",
              "\n",
              "    .dataframe tbody tr th {\n",
              "        vertical-align: top;\n",
              "    }\n",
              "\n",
              "    .dataframe thead th {\n",
              "        text-align: right;\n",
              "    }\n",
              "</style>\n",
              "<table border=\"1\" class=\"dataframe\">\n",
              "  <thead>\n",
              "    <tr style=\"text-align: right;\">\n",
              "      <th></th>\n",
              "      <th>School</th>\n",
              "      <th>Conference</th>\n",
              "      <th>Coach</th>\n",
              "      <th>SchoolPay</th>\n",
              "      <th>TotalPay</th>\n",
              "      <th>Bonus</th>\n",
              "      <th>BonusPaid</th>\n",
              "      <th>AssistantPay</th>\n",
              "      <th>Buyout</th>\n",
              "      <th>Capacity</th>\n",
              "      <th>Cohort Year</th>\n",
              "      <th>State</th>\n",
              "      <th>GSR</th>\n",
              "      <th>FGR</th>\n",
              "      <th>Win-Loss Record2019</th>\n",
              "      <th>WinPercentage2019</th>\n",
              "      <th>WinPer2019</th>\n",
              "      <th>TotalPayThousands</th>\n",
              "    </tr>\n",
              "  </thead>\n",
              "  <tbody>\n",
              "    <tr>\n",
              "      <th>51</th>\n",
              "      <td>Liberty</td>\n",
              "      <td>Ind.</td>\n",
              "      <td>Turner Gill</td>\n",
              "      <td>947281.0</td>\n",
              "      <td>947281.0</td>\n",
              "      <td>0.0</td>\n",
              "      <td>0.0</td>\n",
              "      <td>0.0</td>\n",
              "      <td>0.0</td>\n",
              "      <td>NaN</td>\n",
              "      <td>2006.0</td>\n",
              "      <td>VA</td>\n",
              "      <td>65.0</td>\n",
              "      <td>54.0</td>\n",
              "      <td>8-5-0</td>\n",
              "      <td>61.5%</td>\n",
              "      <td>0.615</td>\n",
              "      <td>947.281</td>\n",
              "    </tr>\n",
              "  </tbody>\n",
              "</table>\n",
              "</div>"
            ],
            "text/plain": [
              "     School Conference  ... WinPer2019  TotalPayThousands\n",
              "51  Liberty       Ind.  ...      0.615            947.281\n",
              "\n",
              "[1 rows x 18 columns]"
            ]
          },
          "metadata": {
            "tags": []
          },
          "execution_count": 16
        }
      ]
    },
    {
      "cell_type": "code",
      "metadata": {
        "id": "YdRqIH1W9U4J",
        "colab_type": "code",
        "colab": {}
      },
      "source": [
        "#Cleanup\n",
        "\n",
        "# Drop all schools with 0 TotalPay\n",
        "finalcoaches = finalcoaches.drop(finalcoaches.index[finalcoaches.TotalPay == 0])\n",
        "# DROP GSR null\n",
        "finalcoaches = finalcoaches.dropna(axis=0, subset=['GSR'])\n",
        "# DROP missing Stadium Capacity\n",
        "finalcoaches = finalcoaches.dropna(axis=0, subset=['Capacity'])"
      ],
      "execution_count": 0,
      "outputs": []
    },
    {
      "cell_type": "code",
      "metadata": {
        "id": "gV7RiLbo9U4M",
        "colab_type": "code",
        "colab": {}
      },
      "source": [
        "# Create a \"Power5\" conference column for SEC, Pac-12, ACC, Big 10, Big 12 (For visualizations)\n",
        "\n",
        "\"\"\"\n",
        "In college football, the term Power Five conferences refers to five athletic conferences whose\n",
        "members are part of the Football Bowl Subdivision (FBS) of NCAA Division I, the highest level\n",
        "of collegiate football in the United States. The conferences are:\n",
        "the Atlantic Coast Conference (ACC), Big Ten Conference, Big 12 Conference,\n",
        "Pac-12 Conference, and Southeastern Conference (SEC).\n",
        "The term \"Power Five\" is not defined by the National Collegiate Athletic Association (NCAA),\n",
        "and the origin of the term is unknown. It has been used in its current meaning since at least 2006.\n",
        "https://en.wikipedia.org/wiki/Power_Five_conferences\n",
        "\"\"\"\n",
        "\n",
        "finalcoaches = finalcoaches.assign(Power5 = finalcoaches['Conference'])\n",
        "finalcoaches.Power5 = finalcoaches.Power5.replace({\"SEC\": \"Y\"})\n",
        "finalcoaches.Power5 = finalcoaches.Power5.replace({\"Pac-12\": \"Y\"})\n",
        "finalcoaches.Power5 = finalcoaches.Power5.replace({\"ACC\": \"Y\"})\n",
        "finalcoaches.Power5 = finalcoaches.Power5.replace({\"Big Ten\": \"Y\"})\n",
        "finalcoaches.Power5 = finalcoaches.Power5.replace({\"Big 12\": \"Y\"})\n",
        "finalcoaches.loc[(finalcoaches.Power5 != 'Y'),'Power5']='N'\n",
        "finalcoaches['Power5'].astype('category')\n",
        "\n",
        "# Create Seperate column for each conference\n",
        "finalcoaches = finalcoaches.assign(MtWest = finalcoaches['Conference'])\n",
        "finalcoaches['MtWest'] = finalcoaches['Conference'].apply(lambda x: 1 if x == 'Mt. West' else 0)\n",
        "finalcoaches['MAC'] = finalcoaches['Conference'].apply(lambda x: 1 if x == 'MAC' else 0)\n",
        "finalcoaches['SEC'] = finalcoaches['Conference'].apply(lambda x: 1 if x == 'SEC' else 0)\n",
        "finalcoaches['CUSA'] = finalcoaches['Conference'].apply(lambda x: 1 if x == 'C-USA' else 0)\n",
        "finalcoaches['SunBelt'] = finalcoaches['Conference'].apply(lambda x: 1 if x == 'Sun Belt' else 0)\n",
        "finalcoaches['Pac12'] = finalcoaches['Conference'].apply(lambda x: 1 if x == 'Pac-12' else 0)\n",
        "finalcoaches['Ind'] = finalcoaches['Conference'].apply(lambda x: 1 if x == 'Ind.' else 0)\n",
        "finalcoaches['ACC'] = finalcoaches['Conference'].apply(lambda x: 1 if x == 'ACC' else 0)\n",
        "finalcoaches['AAC'] = finalcoaches['Conference'].apply(lambda x: 1 if x == 'AAC' else 0)\n",
        "finalcoaches['Big10'] = finalcoaches['Conference'].apply(lambda x: 1 if x == 'Big Ten' else 0)\n",
        "finalcoaches['Big12'] = finalcoaches['Conference'].apply(lambda x: 1 if x == 'Big 12' else 0)"
      ],
      "execution_count": 0,
      "outputs": []
    },
    {
      "cell_type": "markdown",
      "metadata": {
        "id": "sxx8LhD-9U4P",
        "colab_type": "text"
      },
      "source": [
        "### Descriptive Visualizations"
      ]
    },
    {
      "cell_type": "code",
      "metadata": {
        "id": "43mKB9GA9U4Q",
        "colab_type": "code",
        "outputId": "b3bfb3c0-775b-4b4f-e21d-d346ef3b09a2",
        "colab": {
          "base_uri": "https://localhost:8080/",
          "height": 545
        }
      },
      "source": [
        "# Create Boxplots By Conference\n",
        "plt.figure(figsize=(12,8))\n",
        "coachesbox = sns.boxplot(x=\"Conference\",\n",
        "                         y=\"TotalPayThousands\",\n",
        "                         data=finalcoaches,\n",
        "                         hue=\"Power5\")\n",
        "\n",
        "#add title, xlabel and y label\n",
        "plt.title('Coaches Total Pay By Conference', fontsize = 18)\n",
        "plt.xlabel('Conferences')\n",
        "plt.ylabel('Total Pay (Thousands)')\n",
        "#rotate day of week (dow) names to reduce overlap\n",
        "coachesbox.set_xticklabels(coachesbox.get_xticklabels(),rotation=45)\n",
        "plt.show()"
      ],
      "execution_count": 0,
      "outputs": [
        {
          "output_type": "display_data",
          "data": {
            "image/png": "[encoded data removed]",
            "text/plain": [
              "<Figure size 864x576 with 1 Axes>"
            ]
          },
          "metadata": {
            "tags": [],
            "needs_background": "light"
          }
        }
      ]
    },
    {
      "cell_type": "code",
      "metadata": {
        "id": "cnLbnEkG9U4S",
        "colab_type": "code",
        "outputId": "a93ca5d0-68b1-4fad-c0f7-3665d2813b02",
        "colab": {
          "base_uri": "https://localhost:8080/",
          "height": 561
        }
      },
      "source": [
        "#https://stackoverflow.com/questions/21912634/how-can-i-sort-a-boxplot-in-pandas-by-the-median-values\n",
        "\n",
        "plt.figure(figsize=(12,8))\n",
        "\n",
        "def boxplot_sorted(df, by, column):\n",
        "  df2 = pd.DataFrame({col:vals[column] for col, vals in df.groupby(by)})\n",
        "  meds = df2.median().sort_values(ascending=True)\n",
        "  df2[meds.index].boxplot(rot=45)\n",
        "\n",
        "boxplot_sorted(finalcoaches, by=[\"Conference\"], column=\"TotalPayThousands\")\n",
        "plt.title('Coaches Total Pay By Conference (Arranged by Median)', fontsize = 18)\n",
        "plt.xlabel('Conferences')\n",
        "plt.ylabel('Total Pay (Thousands)')"
      ],
      "execution_count": 0,
      "outputs": [
        {
          "output_type": "execute_result",
          "data": {
            "text/plain": [
              "Text(0, 0.5, 'Total Pay (Thousands)')"
            ]
          },
          "metadata": {
            "tags": []
          },
          "execution_count": 45
        },
        {
          "output_type": "display_data",
          "data": {
            "image/png": "[encoded data removed]",
            "text/plain": [
              "<Figure size 864x576 with 1 Axes>"
            ]
          },
          "metadata": {
            "tags": [],
            "needs_background": "light"
          }
        }
      ]
    },
    {
      "cell_type": "code",
      "metadata": {
        "id": "O63D1pCe9U4V",
        "colab_type": "code",
        "outputId": "2cdab670-8728-46d4-e0a4-a07f39e9c360",
        "colab": {
          "base_uri": "https://localhost:8080/",
          "height": 517
        }
      },
      "source": [
        "# Create Boxplots By Conference\n",
        "plt.figure(figsize=(12,8))\n",
        "coachesbox2 = sns.boxplot(x=\"Power5\",\n",
        "                         y=\"TotalPayThousands\",\n",
        "                         data=finalcoaches\n",
        "                         )\n",
        "\n",
        "#add title, xlabel and y label\n",
        "plt.title('Coaches Total Power5 vs Non-Power5', fontsize = 18)\n",
        "plt.xlabel('Conferences')\n",
        "plt.ylabel('Total Pay (Thousands)')\n",
        "#rotate day of week (dow) names to reduce overlap\n",
        "coachesbox.set_xticklabels(coachesbox.get_xticklabels(),rotation=45)\n",
        "plt.show()"
      ],
      "execution_count": 0,
      "outputs": [
        {
          "output_type": "display_data",
          "data": {
            "image/png": "[encoded data removed]",
            "text/plain": [
              "<Figure size 864x576 with 1 Axes>"
            ]
          },
          "metadata": {
            "tags": [],
            "needs_background": "light"
          }
        }
      ]
    },
    {
      "cell_type": "code",
      "metadata": {
        "id": "kXmRkAon9U4X",
        "colab_type": "code",
        "outputId": "9c240cb7-a9ac-4211-b423-858fcb9fda4f",
        "colab": {
          "base_uri": "https://localhost:8080/",
          "height": 553
        }
      },
      "source": [
        "# Check Correlation Matrix\n",
        "coachescorr = finalcoaches.drop(['AssistantPay', 'Cohort Year', 'SchoolPay', 'Bonus', 'BonusPaid',\n",
        "                                 'Buyout', 'TotalPayThousands', 'FGR'], axis=1)\n",
        "# create corr df\n",
        "corr = coachescorr.corr()\n",
        "\n",
        "# Generate a mask for the upper triangle\n",
        "mask = np.zeros_like(corr, dtype=np.bool)\n",
        "mask[np.triu_indices_from(mask)] = True\n",
        "\n",
        "# Print heatmap\n",
        "plt.figure(figsize=(12,8))\n",
        "sns.heatmap(coachescorr.corr(), mask=mask,annot = True, vmin=-1, vmax=1, center= 0, cmap= 'coolwarm',\n",
        "           linewidths=.5 #, linecolor='black'\n",
        "           )\n",
        "\n",
        "# Print values\n",
        "#print(coachescorr.corr())                                               "
      ],
      "execution_count": 0,
      "outputs": [
        {
          "output_type": "execute_result",
          "data": {
            "text/plain": [
              "<matplotlib.axes._subplots.AxesSubplot at 0x7f93ba5b39b0>"
            ]
          },
          "metadata": {
            "tags": []
          },
          "execution_count": 22
        },
        {
          "output_type": "display_data",
          "data": {
            "image/png": "[encoded data removed]",
            "text/plain": [
              "<Figure size 864x576 with 2 Axes>"
            ]
          },
          "metadata": {
            "tags": [],
            "needs_background": "light"
          }
        }
      ]
    },
    {
      "cell_type": "code",
      "metadata": {
        "id": "dECMAiFt9U4Z",
        "colab_type": "code",
        "outputId": "a5ee42f0-3a77-449c-f073-ac0525eff8ac",
        "colab": {
          "base_uri": "https://localhost:8080/",
          "height": 328
        }
      },
      "source": [
        "# Plot Total Pay vs Capacity, GSR, Win Percentage(2019)\n",
        "# visualize the relationship between the features and the response using scatterplots\n",
        "g=sns.pairplot(finalcoaches, x_vars=['Capacity','GSR','WinPer2019'],\n",
        "             y_vars='TotalPay', height=4, aspect=1, kind='reg'\n",
        "              )\n",
        "#plt.title('Total Pay vs. Capacity, GSR, 2019 Win Percentage', y=4, fontsize = 16)\n",
        "plt.subplots_adjust(top=.85)\n",
        "g.fig.suptitle('Total Pay vs. Capacity, GSR, 2019 Win Percentage',fontsize = 18)"
      ],
      "execution_count": 0,
      "outputs": [
        {
          "output_type": "execute_result",
          "data": {
            "text/plain": [
              "Text(0.5, 0.98, 'Total Pay vs. Capacity, GSR, 2019 Win Percentage')"
            ]
          },
          "metadata": {
            "tags": []
          },
          "execution_count": 23
        },
        {
          "output_type": "display_data",
          "data": {
            "image/png": "[encoded data removed]",
            "text/plain": [
              "<Figure size 864x288 with 3 Axes>"
            ]
          },
          "metadata": {
            "tags": [],
            "needs_background": "light"
          }
        }
      ]
    },
    {
      "cell_type": "code",
      "metadata": {
        "id": "_a7XDn7B9U4c",
        "colab_type": "code",
        "outputId": "136a60ec-06f9-412a-c32f-af4374d7b81c",
        "colab": {
          "base_uri": "https://localhost:8080/",
          "height": 328
        }
      },
      "source": [
        "# Plot Total Pay vs Capacity, GSR, Win Percentage(2019)\n",
        "# visualize the relationship between the features and the response using scatterplots\n",
        "g=sns.pairplot(finalcoaches, x_vars=['Capacity','GSR','WinPer2019'], hue=\"Power5\",\n",
        "             y_vars='TotalPay', height=4, aspect=1, kind='reg'\n",
        "              )\n",
        "#plt.title('Total Pay vs. Capacity, GSR, 2019 Win Percentage', y=4, fontsize = 16)\n",
        "plt.subplots_adjust(top=.85)\n",
        "g.fig.suptitle('Total Pay vs. Capacity, GSR, 2019 Win Percentage',fontsize = 18)"
      ],
      "execution_count": 0,
      "outputs": [
        {
          "output_type": "execute_result",
          "data": {
            "text/plain": [
              "Text(0.5, 0.98, 'Total Pay vs. Capacity, GSR, 2019 Win Percentage')"
            ]
          },
          "metadata": {
            "tags": []
          },
          "execution_count": 24
        },
        {
          "output_type": "display_data",
          "data": {
            "image/png": "[encoded data removed]",
            "text/plain": [
              "<Figure size 908.375x288 with 3 Axes>"
            ]
          },
          "metadata": {
            "tags": [],
            "needs_background": "light"
          }
        }
      ]
    },
    {
      "cell_type": "code",
      "metadata": {
        "id": "ttntMxaW9U4f",
        "colab_type": "code",
        "outputId": "8a07feb3-25bb-451b-9c99-7927f1edf6e3",
        "colab": {
          "base_uri": "https://localhost:8080/",
          "height": 328
        }
      },
      "source": [
        "# Plot Total Pay vs Capacity, GSR, Win Percentage(2019)\n",
        "# visualize the relationship between the features and the response using scatterplots\n",
        "g=sns.pairplot(finalcoaches, x_vars=['Capacity','GSR','WinPer2019'], hue=\"Power5\",\n",
        "             y_vars='TotalPay', height=4, aspect=1,\n",
        "              )\n",
        "#plt.title('Total Pay vs. Capacity, GSR, 2019 Win Percentage', y=4, fontsize = 16)\n",
        "plt.subplots_adjust(top=.85)\n",
        "g.fig.suptitle('Total Pay vs. Capacity, GSR, 2019 Win Percentage',fontsize = 18)"
      ],
      "execution_count": 0,
      "outputs": [
        {
          "output_type": "execute_result",
          "data": {
            "text/plain": [
              "Text(0.5, 0.98, 'Total Pay vs. Capacity, GSR, 2019 Win Percentage')"
            ]
          },
          "metadata": {
            "tags": []
          },
          "execution_count": 25
        },
        {
          "output_type": "display_data",
          "data": {
            "image/png": "[encoded data removed]",
            "text/plain": [
              "<Figure size 908.375x288 with 3 Axes>"
            ]
          },
          "metadata": {
            "tags": [],
            "needs_background": "light"
          }
        }
      ]
    },
    {
      "cell_type": "code",
      "metadata": {
        "id": "wpKzdrzF9U4i",
        "colab_type": "code",
        "outputId": "6e591418-2b95-4d40-e83c-8eafdd9963ea",
        "colab": {
          "base_uri": "https://localhost:8080/",
          "height": 671
        }
      },
      "source": [
        "#print(\"Total Pay vs. Capacity by Conference\")\n",
        "g = sns.FacetGrid(finalcoaches, col=\"Conference\", col_wrap=4, hue=\"Power5\", )\n",
        "g.map(plt.scatter, \"Capacity\",\"TotalPay\", alpha=1);\n",
        "plt.subplots_adjust(top=0.9)\n",
        "g.fig.suptitle('Total Pay vs. Capacity (by Conference)',fontsize = 18)"
      ],
      "execution_count": 0,
      "outputs": [
        {
          "output_type": "execute_result",
          "data": {
            "text/plain": [
              "Text(0.5, 0.98, 'Total Pay vs. Capacity (by Conference)')"
            ]
          },
          "metadata": {
            "tags": []
          },
          "execution_count": 26
        },
        {
          "output_type": "display_data",
          "data": {
            "image/png": "[encoded data removed]",
            "text/plain": [
              "<Figure size 864x648 with 11 Axes>"
            ]
          },
          "metadata": {
            "tags": [],
            "needs_background": "light"
          }
        }
      ]
    },
    {
      "cell_type": "code",
      "metadata": {
        "id": "qoc0LAj-9U4k",
        "colab_type": "code",
        "outputId": "1290cf5c-2910-4768-f571-fdac342af336",
        "colab": {
          "base_uri": "https://localhost:8080/",
          "height": 671
        }
      },
      "source": [
        "#print(\"Total Pay vs. Capacity by Conference\")\n",
        "g = sns.FacetGrid(finalcoaches, col=\"Conference\", col_wrap=4, hue=\"Power5\")\n",
        "g.map(plt.scatter, \"GSR\",\"TotalPay\", alpha=1);\n",
        "plt.subplots_adjust(top=0.9)\n",
        "g.fig.suptitle('Total Pay vs. GSR (by Conference)',fontsize = 18)"
      ],
      "execution_count": 0,
      "outputs": [
        {
          "output_type": "execute_result",
          "data": {
            "text/plain": [
              "Text(0.5, 0.98, 'Total Pay vs. GSR (by Conference)')"
            ]
          },
          "metadata": {
            "tags": []
          },
          "execution_count": 27
        },
        {
          "output_type": "display_data",
          "data": {
            "image/png": "[encoded data removed]",
            "text/plain": [
              "<Figure size 864x648 with 11 Axes>"
            ]
          },
          "metadata": {
            "tags": [],
            "needs_background": "light"
          }
        }
      ]
    },
    {
      "cell_type": "code",
      "metadata": {
        "id": "dEVq9l7M9U4m",
        "colab_type": "code",
        "outputId": "f0386191-f1bf-437b-98ee-52f8604a084c",
        "colab": {
          "base_uri": "https://localhost:8080/",
          "height": 671
        }
      },
      "source": [
        "#print(\"Total Pay vs. Capacity by Conference\")\n",
        "g = sns.FacetGrid(finalcoaches, col=\"Conference\", col_wrap=4, hue=\"Power5\")\n",
        "g.map(plt.scatter, \"WinPer2019\",\"TotalPay\", alpha=1);\n",
        "plt.subplots_adjust(top=0.9)\n",
        "g.fig.suptitle('Total Pay vs. 2019 Win Percentage (by Conference)',fontsize = 18)"
      ],
      "execution_count": 0,
      "outputs": [
        {
          "output_type": "execute_result",
          "data": {
            "text/plain": [
              "Text(0.5, 0.98, 'Total Pay vs. 2019 Win Percentage (by Conference)')"
            ]
          },
          "metadata": {
            "tags": []
          },
          "execution_count": 28
        },
        {
          "output_type": "display_data",
          "data": {
            "image/png": "[encoded data removed]",
            "text/plain": [
              "<Figure size 864x648 with 11 Axes>"
            ]
          },
          "metadata": {
            "tags": [],
            "needs_background": "light"
          }
        }
      ]
    },
    {
      "cell_type": "markdown",
      "metadata": {
        "id": "FvEJj8Dn9U4o",
        "colab_type": "text"
      },
      "source": [
        "### Create Test/Train sets"
      ]
    },
    {
      "cell_type": "code",
      "metadata": {
        "id": "gj8NVuV09U4p",
        "colab_type": "code",
        "outputId": "01cad183-1a8c-466a-d94e-16fe9826b5de",
        "colab": {
          "base_uri": "https://localhost:8080/"
        }
      },
      "source": [
        "# employ training-and-test regimen for model validation\n",
        "np.random.seed(1234)\n",
        "finalcoaches['runiform'] = uniform.rvs(loc = 0, scale = 1, size = len(finalcoaches))\n",
        "finalcoaches_train = finalcoaches[finalcoaches['runiform'] >= 0.33]\n",
        "finalcoaches_test = finalcoaches[finalcoaches['runiform'] < 0.33]\n",
        "\n",
        "# check training data frame\n",
        "print(\"*\"*80)\n",
        "print('\\nfinalcoaches_train data frame (rows, columns): ',finalcoaches_train.shape)\n",
        "print(\"*\"*80)\n",
        "print(finalcoaches_train.head())\n",
        "\n",
        "# check test data frame\n",
        "print(\"*\"*80)\n",
        "print('\\nfinalcoaches_test data frame (rows, columns): ',finalcoaches_test.shape)\n",
        "print(\"*\"*80)\n",
        "print(finalcoaches_test.head())"
      ],
      "execution_count": 0,
      "outputs": [
        {
          "output_type": "stream",
          "text": [
            "********************************************************************************\n",
            "\n",
            "finalcoaches_train data frame (rows, columns):  (86, 31)\n",
            "********************************************************************************\n",
            "                  School Conference              Coach  ...  Big10  Big12  runiform\n",
            "1                  Akron        MAC       Terry Bowden  ...      0      0  0.622109\n",
            "2                Alabama        SEC         Nick Saban  ...      0      0  0.437728\n",
            "3  Alabama at Birmingham      C-USA         Bill Clark  ...      0      0  0.785359\n",
            "4      Appalachian State   Sun Belt  Scott Satterfield  ...      0      0  0.779976\n",
            "7               Arkansas        SEC        Chad Morris  ...      0      0  0.801872\n",
            "\n",
            "[5 rows x 31 columns]\n",
            "********************************************************************************\n",
            "\n",
            "finalcoaches_test data frame (rows, columns):  (34, 31)\n",
            "********************************************************************************\n",
            "             School Conference           Coach  ...  Big10  Big12  runiform\n",
            "0         Air Force   Mt. West    Troy Calhoun  ...      0      0  0.191519\n",
            "5           Arizona     Pac-12    Kevin Sumlin  ...      0      0  0.272593\n",
            "6     Arizona State     Pac-12    Herm Edwards  ...      0      0  0.276464\n",
            "19  Central Florida        AAC     Josh Heupel  ...      0      0  0.013768\n",
            "25         Colorado     Pac-12  Mike MacIntyre  ...      0      0  0.075381\n",
            "\n",
            "[5 rows x 31 columns]\n"
          ],
          "name": "stdout"
        }
      ]
    },
    {
      "cell_type": "markdown",
      "metadata": {
        "id": "t3wWi1hX9U4s",
        "colab_type": "text"
      },
      "source": [
        "### Model 1: With Conference + Capacity + WinPer2019 + GSR"
      ]
    },
    {
      "cell_type": "code",
      "metadata": {
        "id": "ZsckDn3T9U4t",
        "colab_type": "code",
        "outputId": "6bf33438-a262-463c-b291-8bdfc2754629",
        "colab": {
          "base_uri": "https://localhost:8080/"
        }
      },
      "source": [
        "# specify a simple model with Team Conference\n",
        "conference_model = str('TotalPay ~ SEC + CUSA + SunBelt + Pac12 + Ind + ACC + AAC + Big10 + Big12 + MtWest + MAC + Capacity + WinPer2019 + GSR')\n",
        "\n",
        "# fit the model to the training set\n",
        "train_confmodel_fit = smf.ols(conference_model, data = finalcoaches_train).fit()\n",
        "\n",
        "# summary of model fit to the training set\n",
        "print(train_confmodel_fit.summary())"
      ],
      "execution_count": 0,
      "outputs": [
        {
          "output_type": "stream",
          "text": [
            "                            OLS Regression Results                            \n",
            "==============================================================================\n",
            "Dep. Variable:               TotalPay   R-squared:                       0.810\n",
            "Model:                            OLS   Adj. R-squared:                  0.776\n",
            "Method:                 Least Squares   F-statistic:                     23.60\n",
            "Date:                Wed, 22 Apr 2020   Prob (F-statistic):           7.22e-21\n",
            "Time:                        03:27:52   Log-Likelihood:                -1295.2\n",
            "No. Observations:                  86   AIC:                             2618.\n",
            "Df Residuals:                      72   BIC:                             2653.\n",
            "Df Model:                          13                                         \n",
            "Covariance Type:            nonrobust                                         \n",
            "==============================================================================\n",
            "                 coef    std err          t      P>|t|      [0.025      0.975]\n",
            "------------------------------------------------------------------------------\n",
            "Intercept  -1.591e+06   7.73e+05     -2.059      0.043   -3.13e+06   -5.08e+04\n",
            "SEC         1.175e+06   3.59e+05      3.271      0.002    4.59e+05    1.89e+06\n",
            "CUSA       -8.397e+05   2.87e+05     -2.927      0.005   -1.41e+06   -2.68e+05\n",
            "SunBelt    -6.237e+05   3.74e+05     -1.669      0.100   -1.37e+06    1.21e+05\n",
            "Pac12       3.165e+05   3.23e+05      0.979      0.331   -3.28e+05    9.61e+05\n",
            "Ind        -1.785e+06   6.74e+05     -2.649      0.010   -3.13e+06   -4.42e+05\n",
            "ACC         4.487e+05   3.16e+05      1.422      0.159    -1.8e+05    1.08e+06\n",
            "AAC        -4.176e+05   3.43e+05     -1.217      0.228    -1.1e+06    2.66e+05\n",
            "Big10       6.661e+05   3.86e+05      1.726      0.089   -1.03e+05    1.44e+06\n",
            "Big12       1.087e+06   5.19e+05      2.095      0.040    5.28e+04    2.12e+06\n",
            "MtWest     -9.013e+05   3.24e+05     -2.778      0.007   -1.55e+06   -2.55e+05\n",
            "MAC        -7.173e+05   3.18e+05     -2.255      0.027   -1.35e+06   -8.31e+04\n",
            "Capacity      41.6164      7.175      5.800      0.000      27.314      55.919\n",
            "WinPer2019  9.855e+05   5.38e+05      1.831      0.071   -8.74e+04    2.06e+06\n",
            "GSR         2.083e+04   1.07e+04      1.944      0.056    -527.530    4.22e+04\n",
            "==============================================================================\n",
            "Omnibus:                        1.269   Durbin-Watson:                   1.745\n",
            "Prob(Omnibus):                  0.530   Jarque-Bera (JB):                0.843\n",
            "Skew:                           0.230   Prob(JB):                        0.656\n",
            "Kurtosis:                       3.156   Cond. No.                     1.12e+18\n",
            "==============================================================================\n",
            "\n",
            "Warnings:\n",
            "[1] Standard Errors assume that the covariance matrix of the errors is correctly specified.\n",
            "[2] The smallest eigenvalue is 2.12e-25. This might indicate that there are\n",
            "strong multicollinearity problems or that the design matrix is singular.\n"
          ],
          "name": "stdout"
        }
      ]
    },
    {
      "cell_type": "markdown",
      "metadata": {
        "id": "_Yqf6n7a9U4w",
        "colab_type": "text"
      },
      "source": [
        "### Model 2: Model 1 w/ no Conference"
      ]
    },
    {
      "cell_type": "code",
      "metadata": {
        "id": "NvIOpeaU9U4w",
        "colab_type": "code",
        "outputId": "1cea4aaf-e8bd-4501-c13d-2e6f3211ed21",
        "colab": {
          "base_uri": "https://localhost:8080/"
        }
      },
      "source": [
        "# specify a simple model with Team Conference\n",
        "elite_model = str('TotalPay ~ Capacity + WinPer2019 + GSR')\n",
        "\n",
        "# fit the model to the training set\n",
        "train_elitemodel_fit = smf.ols(elite_model, data = finalcoaches_train).fit()\n",
        "# summary of model fit to the training set\n",
        "print(\"*\"*80)\n",
        "print(train_elitemodel_fit.summary())"
      ],
      "execution_count": 0,
      "outputs": [
        {
          "output_type": "stream",
          "text": [
            "********************************************************************************\n",
            "                            OLS Regression Results                            \n",
            "==============================================================================\n",
            "Dep. Variable:               TotalPay   R-squared:                       0.722\n",
            "Model:                            OLS   Adj. R-squared:                  0.711\n",
            "Method:                 Least Squares   F-statistic:                     70.81\n",
            "Date:                Wed, 22 Apr 2020   Prob (F-statistic):           1.08e-22\n",
            "Time:                        03:27:52   Log-Likelihood:                -1311.6\n",
            "No. Observations:                  86   AIC:                             2631.\n",
            "Df Residuals:                      82   BIC:                             2641.\n",
            "Df Model:                           3                                         \n",
            "Covariance Type:            nonrobust                                         \n",
            "==============================================================================\n",
            "                 coef    std err          t      P>|t|      [0.025      0.975]\n",
            "------------------------------------------------------------------------------\n",
            "Intercept   -2.49e+06    7.1e+05     -3.506      0.001    -3.9e+06   -1.08e+06\n",
            "Capacity      65.4024      4.922     13.287      0.000      55.610      75.195\n",
            "WinPer2019  2.604e+05   5.71e+05      0.456      0.649   -8.75e+05     1.4e+06\n",
            "GSR         2.092e+04   1.01e+04      2.063      0.042     749.416    4.11e+04\n",
            "==============================================================================\n",
            "Omnibus:                        4.660   Durbin-Watson:                   2.057\n",
            "Prob(Omnibus):                  0.097   Jarque-Bera (JB):                4.579\n",
            "Skew:                          -0.304   Prob(JB):                        0.101\n",
            "Kurtosis:                       3.953   Cond. No.                     3.58e+05\n",
            "==============================================================================\n",
            "\n",
            "Warnings:\n",
            "[1] Standard Errors assume that the covariance matrix of the errors is correctly specified.\n",
            "[2] The condition number is large, 3.58e+05. This might indicate that there are\n",
            "strong multicollinearity or other numerical problems.\n"
          ],
          "name": "stdout"
        }
      ]
    },
    {
      "cell_type": "markdown",
      "metadata": {
        "id": "Fw-9-9mz9U4y",
        "colab_type": "text"
      },
      "source": [
        "### Model 3: Model 1 + State"
      ]
    },
    {
      "cell_type": "code",
      "metadata": {
        "id": "-V_SNExV9U4y",
        "colab_type": "code",
        "outputId": "a6ce699a-811a-4c38-aec0-0c29b14a8cb1",
        "colab": {
          "base_uri": "https://localhost:8080/"
        }
      },
      "source": [
        "# specify a simple model with Team Conference\n",
        "state_model = str('TotalPay ~ Conference + Capacity + WinPer2019 + GSR + State')\n",
        "\n",
        "# fit the model to the training set\n",
        "train_stmodel_fit = smf.ols(state_model, data = finalcoaches_train).fit()\n",
        "# summary of model fit to the training set\n",
        "print(\"*\"*80)\n",
        "print(train_stmodel_fit.summary())"
      ],
      "execution_count": 0,
      "outputs": [
        {
          "output_type": "stream",
          "text": [
            "********************************************************************************\n",
            "                            OLS Regression Results                            \n",
            "==============================================================================\n",
            "Dep. Variable:               TotalPay   R-squared:                       0.910\n",
            "Model:                            OLS   Adj. R-squared:                  0.813\n",
            "Method:                 Least Squares   F-statistic:                     9.407\n",
            "Date:                Wed, 22 Apr 2020   Prob (F-statistic):           2.18e-11\n",
            "Time:                        03:27:53   Log-Likelihood:                -1263.1\n",
            "No. Observations:                  86   AIC:                             2616.\n",
            "Df Residuals:                      41   BIC:                             2727.\n",
            "Df Model:                          44                                         \n",
            "Covariance Type:            nonrobust                                         \n",
            "==========================================================================================\n",
            "                             coef    std err          t      P>|t|      [0.025      0.975]\n",
            "------------------------------------------------------------------------------------------\n",
            "Intercept              -1.837e+06   1.17e+06     -1.569      0.124    -4.2e+06    5.28e+05\n",
            "Conference[T.ACC]       1.037e+06   5.94e+05      1.746      0.088   -1.63e+05    2.24e+06\n",
            "Conference[T.Big 12]    9.164e+05   8.17e+05      1.121      0.269   -7.34e+05    2.57e+06\n",
            "Conference[T.Big Ten]   1.494e+06   7.82e+05      1.910      0.063   -8.59e+04    3.07e+06\n",
            "Conference[T.C-USA]    -9.452e+05   5.33e+05     -1.775      0.083   -2.02e+06     1.3e+05\n",
            "Conference[T.Ind.]     -1.109e+06   1.02e+06     -1.085      0.284   -3.17e+06    9.56e+05\n",
            "Conference[T.MAC]      -6.375e+05    6.6e+05     -0.966      0.340   -1.97e+06    6.95e+05\n",
            "Conference[T.Mt. West] -1.117e+06   6.69e+05     -1.669      0.103   -2.47e+06    2.34e+05\n",
            "Conference[T.Pac-12]   -4.127e+04    6.7e+05     -0.062      0.951   -1.39e+06    1.31e+06\n",
            "Conference[T.SEC]       1.778e+06   6.12e+05      2.907      0.006    5.43e+05    3.01e+06\n",
            "Conference[T.Sun Belt] -5.985e+05   5.86e+05     -1.021      0.313   -1.78e+06    5.85e+05\n",
            "State[T.AR]            -9.926e+05   7.54e+05     -1.316      0.195   -2.52e+06     5.3e+05\n",
            "State[T.AZ]             3.228e-10   2.02e-09      0.159      0.874   -3.77e-09    4.41e-09\n",
            "State[T.CA]            -5.391e+05   4.11e+05     -1.312      0.197   -1.37e+06    2.91e+05\n",
            "State[T.CO]             1.591e+05   8.79e+05      0.181      0.857   -1.62e+06    1.93e+06\n",
            "State[T.CT]             -9.25e+05    1.1e+06     -0.839      0.406   -3.15e+06     1.3e+06\n",
            "State[T.DC]             7.999e-10   3.61e-09      0.222      0.826   -6.49e-09    8.09e-09\n",
            "State[T.DE]             7.933e-10   3.35e-09      0.237      0.814   -5.97e-09    7.55e-09\n",
            "State[T.FL]            -3.868e+04   6.88e+05     -0.056      0.955   -1.43e+06    1.35e+06\n",
            "State[T.GA]            -3.504e+05   8.28e+05     -0.423      0.674   -2.02e+06    1.32e+06\n",
            "State[T.HI]              8.26e-10   1.79e-09      0.462      0.647   -2.79e-09    4.44e-09\n",
            "State[T.IA]             3.631e-10   6.61e-10      0.549      0.586   -9.72e-10     1.7e-09\n",
            "State[T.ID]            -1.039e+06   8.86e+05     -1.173      0.247   -2.83e+06    7.49e+05\n",
            "State[T.IL]             1.132e+05   1.24e+06      0.091      0.928   -2.39e+06    2.61e+06\n",
            "State[T.IN]            -1.766e+06   9.92e+05     -1.780      0.083   -3.77e+06    2.38e+05\n",
            "State[T.KS]            -1.698e+05   1.23e+06     -0.138      0.891   -2.65e+06    2.31e+06\n",
            "State[T.KY]            -8.232e+05   7.95e+05     -1.036      0.306   -2.43e+06    7.82e+05\n",
            "State[T.LA]            -1.147e+06   7.14e+05     -1.606      0.116   -2.59e+06    2.95e+05\n",
            "State[T.MA]            -2.138e+06   1.11e+06     -1.933      0.060   -4.37e+06    9.58e+04\n",
            "State[T.MD]            -1.572e+06   9.61e+05     -1.636      0.109   -3.51e+06    3.68e+05\n",
            "State[T.ME]             3.503e-10   1.72e-10      2.040      0.048    3.51e-12    6.97e-10\n",
            "State[T.MI]             -3.03e+05   9.19e+05     -0.330      0.743   -2.16e+06    1.55e+06\n",
            "State[T.MN]             1.342e-10   1.75e-10      0.766      0.448   -2.19e-10    4.88e-10\n",
            "State[T.MO]             2.339e-10   2.58e-10      0.908      0.369   -2.86e-10    7.54e-10\n",
            "State[T.MS]            -1.545e+06   6.88e+05     -2.247      0.030   -2.93e+06   -1.56e+05\n",
            "State[T.MT]             3.608e-10   3.63e-10      0.993      0.327   -3.73e-10    1.09e-09\n",
            "State[T.NC]            -1.587e+06   6.95e+05     -2.283      0.028   -2.99e+06   -1.83e+05\n",
            "State[T.ND]             3.297e-11   2.26e-10      0.146      0.885   -4.23e-10    4.89e-10\n",
            "State[T.NE]             8.483e-11   3.77e-10      0.225      0.823   -6.78e-10    8.47e-10\n",
            "State[T.NH]             1.016e-10   3.47e-10      0.293      0.771      -6e-10    8.03e-10\n",
            "State[T.NJ]            -2.442e+06   1.26e+06     -1.943      0.059   -4.98e+06    9.63e+04\n",
            "State[T.NM]            -5.991e-11   1.43e-10     -0.420      0.676   -3.48e-10    2.28e-10\n",
            "State[T.NV]            -6.012e+05   6.64e+05     -0.905      0.371   -1.94e+06    7.41e+05\n",
            "State[T.NY]            -1.263e+06   9.17e+05     -1.377      0.176   -3.11e+06    5.89e+05\n",
            "State[T.OH]             -5.86e+05   8.44e+05     -0.695      0.491   -2.29e+06    1.12e+06\n",
            "State[T.OK]            -4.537e-10   2.79e-10     -1.626      0.112   -1.02e-09     1.1e-10\n",
            "State[T.OR]            -8.948e+05   6.99e+05     -1.280      0.208   -2.31e+06    5.17e+05\n",
            "State[T.PA]            -2.073e+06   8.94e+05     -2.319      0.025   -3.88e+06   -2.68e+05\n",
            "State[T.RI]                     0          0        nan        nan           0           0\n",
            "State[T.SC]            -3.648e+05   6.76e+05     -0.539      0.593   -1.73e+06       1e+06\n",
            "State[T.SD]                     0          0        nan        nan           0           0\n",
            "State[T.TN]            -1.559e+06   6.34e+05     -2.459      0.018   -2.84e+06   -2.78e+05\n",
            "State[T.TX]             -4.94e+04   6.15e+05     -0.080      0.936   -1.29e+06    1.19e+06\n",
            "State[T.UT]             5.027e+05   8.95e+05      0.562      0.577   -1.31e+06    2.31e+06\n",
            "State[T.VA]             8.768e+05   1.05e+06      0.835      0.409   -1.24e+06       3e+06\n",
            "State[T.WA]             1.013e+06   6.97e+05      1.454      0.153   -3.94e+05    2.42e+06\n",
            "State[T.WI]             -2.09e+06   1.21e+06     -1.722      0.093   -4.54e+06    3.61e+05\n",
            "State[T.WV]            -9.044e+05    9.9e+05     -0.913      0.366    -2.9e+06     1.1e+06\n",
            "State[T.WY]             2.412e+05   8.52e+05      0.283      0.779   -1.48e+06    1.96e+06\n",
            "Capacity                  32.6875      9.016      3.625      0.001      14.479      50.896\n",
            "WinPer2019              1.375e+06   6.72e+05      2.047      0.047    1.84e+04    2.73e+06\n",
            "GSR                     3.577e+04   1.24e+04      2.880      0.006    1.07e+04    6.09e+04\n",
            "==============================================================================\n",
            "Omnibus:                        1.618   Durbin-Watson:                   2.343\n",
            "Prob(Omnibus):                  0.445   Jarque-Bera (JB):                1.065\n",
            "Skew:                           0.035   Prob(JB):                        0.587\n",
            "Kurtosis:                       3.541   Cond. No.                     9.27e+20\n",
            "==============================================================================\n",
            "\n",
            "Warnings:\n",
            "[1] Standard Errors assume that the covariance matrix of the errors is correctly specified.\n",
            "[2] The smallest eigenvalue is 3.12e-31. This might indicate that there are\n",
            "strong multicollinearity problems or that the design matrix is singular.\n"
          ],
          "name": "stdout"
        },
        {
          "output_type": "stream",
          "text": [
            "/usr/local/lib/python3.6/dist-packages/statsmodels/base/model.py:1294: RuntimeWarning: invalid value encountered in true_divide\n",
            "  return self.params / self.bse\n",
            "/usr/local/lib/python3.6/dist-packages/scipy/stats/_distn_infrastructure.py:903: RuntimeWarning: invalid value encountered in greater\n",
            "  return (a < x) & (x < b)\n",
            "/usr/local/lib/python3.6/dist-packages/scipy/stats/_distn_infrastructure.py:903: RuntimeWarning: invalid value encountered in less\n",
            "  return (a < x) & (x < b)\n",
            "/usr/local/lib/python3.6/dist-packages/scipy/stats/_distn_infrastructure.py:1912: RuntimeWarning: invalid value encountered in less_equal\n",
            "  cond2 = cond0 & (x <= _a)\n"
          ],
          "name": "stderr"
        }
      ]
    },
    {
      "cell_type": "markdown",
      "metadata": {
        "id": "53d8TRpb9U41",
        "colab_type": "text"
      },
      "source": [
        "### Model 4: Model 2 + State"
      ]
    },
    {
      "cell_type": "code",
      "metadata": {
        "id": "niwBLwkt9U41",
        "colab_type": "code",
        "outputId": "c9ed6046-e544-4d5d-ec54-d0b8ed9f2aea",
        "colab": {
          "base_uri": "https://localhost:8080/"
        }
      },
      "source": [
        "# specify a simple model with Team Conference\n",
        "statenoconf_model = str('TotalPay ~ Capacity + WinPer2019 + GSR + State')\n",
        "\n",
        "# fit the model to the training set\n",
        "train_statenoconfmodel_fit = smf.ols(statenoconf_model, data = finalcoaches_train).fit()\n",
        "# summary of model fit to the training set\n",
        "print(\"*\"*80)\n",
        "print(train_statenoconfmodel_fit.summary())"
      ],
      "execution_count": 0,
      "outputs": [
        {
          "output_type": "stream",
          "text": [
            "********************************************************************************\n",
            "                            OLS Regression Results                            \n",
            "==============================================================================\n",
            "Dep. Variable:               TotalPay   R-squared:                       0.833\n",
            "Model:                            OLS   Adj. R-squared:                  0.717\n",
            "Method:                 Least Squares   F-statistic:                     7.147\n",
            "Date:                Wed, 22 Apr 2020   Prob (F-statistic):           3.20e-10\n",
            "Time:                        03:27:53   Log-Likelihood:                -1289.5\n",
            "No. Observations:                  86   AIC:                             2651.\n",
            "Df Residuals:                      50   BIC:                             2739.\n",
            "Df Model:                          35                                         \n",
            "Covariance Type:            nonrobust                                         \n",
            "===============================================================================\n",
            "                  coef    std err          t      P>|t|      [0.025      0.975]\n",
            "-------------------------------------------------------------------------------\n",
            "Intercept   -3.032e+06   9.95e+05     -3.049      0.004   -5.03e+06   -1.03e+06\n",
            "State[T.AR] -5.295e+05   9.11e+05     -0.581      0.564   -2.36e+06     1.3e+06\n",
            "State[T.AZ]  4.821e-07   1.17e-06      0.413      0.681   -1.86e-06    2.83e-06\n",
            "State[T.CA] -1.311e+06   6.74e+05     -1.944      0.058   -2.66e+06    4.35e+04\n",
            "State[T.CO] -8.516e+05    1.2e+06     -0.708      0.482   -3.27e+06    1.56e+06\n",
            "State[T.CT] -9.643e+05    1.2e+06     -0.803      0.426   -3.38e+06    1.45e+06\n",
            "State[T.DC] -1.906e-06   4.25e-06     -0.448      0.656   -1.04e-05    6.64e-06\n",
            "State[T.DE]  1.455e-05   3.25e-05      0.448      0.656   -5.07e-05    7.98e-05\n",
            "State[T.FL]  1.131e+05    7.4e+05      0.153      0.879   -1.37e+06     1.6e+06\n",
            "State[T.GA]  1.471e+05   9.19e+05      0.160      0.873    -1.7e+06    1.99e+06\n",
            "State[T.HI]  7.475e-06   1.67e-05      0.448      0.656    -2.6e-05     4.1e-05\n",
            "State[T.IA] -1.051e-06   2.35e-06     -0.448      0.656   -5.76e-06    3.66e-06\n",
            "State[T.ID] -1.273e+06   1.25e+06     -1.021      0.312   -3.78e+06    1.23e+06\n",
            "State[T.IL]  1.244e+06   1.17e+06      1.063      0.293   -1.11e+06     3.6e+06\n",
            "State[T.IN] -1.688e+06   8.12e+05     -2.078      0.043   -3.32e+06   -5.63e+04\n",
            "State[T.KS]  9.563e+05   1.16e+06      0.824      0.414   -1.37e+06    3.29e+06\n",
            "State[T.KY]  1.145e+05   9.15e+05      0.125      0.901   -1.72e+06    1.95e+06\n",
            "State[T.LA] -8.827e+05   8.41e+05     -1.050      0.299   -2.57e+06    8.06e+05\n",
            "State[T.MA]  -9.71e+05   1.25e+06     -0.779      0.440   -3.48e+06    1.53e+06\n",
            "State[T.MD] -5.403e+05   9.37e+05     -0.577      0.567   -2.42e+06    1.34e+06\n",
            "State[T.ME] -3.224e-06   7.19e-06     -0.448      0.656   -1.77e-05    1.12e-05\n",
            "State[T.MI] -8.719e+04   7.33e+05     -0.119      0.906   -1.56e+06    1.38e+06\n",
            "State[T.MN]  1.524e-06    3.4e-06      0.448      0.656   -5.31e-06    8.36e-06\n",
            "State[T.MO]  5.489e-09   1.22e-08      0.448      0.656   -1.91e-08    3.01e-08\n",
            "State[T.MS] -7.809e+05   8.02e+05     -0.974      0.335   -2.39e+06    8.29e+05\n",
            "State[T.MT]  4.571e-06   1.02e-05      0.448      0.656   -1.59e-05    2.51e-05\n",
            "State[T.NC] -7.383e+05   7.04e+05     -1.048      0.300   -2.15e+06    6.77e+05\n",
            "State[T.ND] -2.797e-08   6.36e-08     -0.440      0.662   -1.56e-07    9.97e-08\n",
            "State[T.NE]  -3.05e-09      6e-09     -0.508      0.614   -1.51e-08    9.01e-09\n",
            "State[T.NH] -6.276e-10   4.19e-10     -1.497      0.141   -1.47e-09    2.14e-10\n",
            "State[T.NJ] -1.436e+06   1.24e+06     -1.156      0.253   -3.93e+06    1.06e+06\n",
            "State[T.NM] -1.486e-09   3.61e-09     -0.412      0.682   -8.73e-09    5.76e-09\n",
            "State[T.NV] -1.204e+06   9.28e+05     -1.298      0.200   -3.07e+06    6.59e+05\n",
            "State[T.NY]  -1.13e+06   8.36e+05     -1.352      0.182   -2.81e+06    5.48e+05\n",
            "State[T.OH] -3.944e+05   6.69e+05     -0.589      0.558   -1.74e+06     9.5e+05\n",
            "State[T.OK] -3.423e-10   2.02e-10     -1.698      0.096   -7.47e-10    6.26e-11\n",
            "State[T.OR] -7.126e+05   9.08e+05     -0.785      0.436   -2.54e+06    1.11e+06\n",
            "State[T.PA] -1.674e+06    9.1e+05     -1.838      0.072    -3.5e+06    1.55e+05\n",
            "State[T.RI] -3.488e-11   2.19e-11     -1.595      0.117   -7.88e-11    9.05e-12\n",
            "State[T.SC]  2.014e+05   7.99e+05      0.252      0.802    -1.4e+06    1.81e+06\n",
            "State[T.SD]          0          0        nan        nan           0           0\n",
            "State[T.TN] -1.153e+06   7.53e+05     -1.532      0.132   -2.67e+06    3.59e+05\n",
            "State[T.TX] -3.173e+05   6.75e+05     -0.470      0.640   -1.67e+06    1.04e+06\n",
            "State[T.UT]  1.025e+06   1.18e+06      0.867      0.390   -1.35e+06     3.4e+06\n",
            "State[T.VA]  4.709e+05   1.22e+06      0.385      0.702   -1.99e+06    2.93e+06\n",
            "State[T.WA]  9.857e+05   9.03e+05      1.092      0.280   -8.27e+05     2.8e+06\n",
            "State[T.WI] -1.286e+06   1.16e+06     -1.109      0.273   -3.61e+06    1.04e+06\n",
            "State[T.WV] -1.258e+06   1.17e+06     -1.074      0.288   -3.61e+06    1.09e+06\n",
            "State[T.WY]  9136.5108   1.18e+06      0.008      0.994   -2.36e+06    2.38e+06\n",
            "Capacity       65.6679      5.839     11.247      0.000      53.941      77.395\n",
            "WinPer2019   1.094e+05   6.92e+05      0.158      0.875   -1.28e+06     1.5e+06\n",
            "GSR          3.772e+04   1.29e+04      2.928      0.005    1.18e+04    6.36e+04\n",
            "==============================================================================\n",
            "Omnibus:                       17.251   Durbin-Watson:                   2.446\n",
            "Prob(Omnibus):                  0.000   Jarque-Bera (JB):               31.275\n",
            "Skew:                          -0.751   Prob(JB):                     1.62e-07\n",
            "Kurtosis:                       5.544   Cond. No.                     3.47e+21\n",
            "==============================================================================\n",
            "\n",
            "Warnings:\n",
            "[1] Standard Errors assume that the covariance matrix of the errors is correctly specified.\n",
            "[2] The smallest eigenvalue is 2.22e-32. This might indicate that there are\n",
            "strong multicollinearity problems or that the design matrix is singular.\n"
          ],
          "name": "stdout"
        },
        {
          "output_type": "stream",
          "text": [
            "/usr/local/lib/python3.6/dist-packages/statsmodels/base/model.py:1294: RuntimeWarning: invalid value encountered in true_divide\n",
            "  return self.params / self.bse\n",
            "/usr/local/lib/python3.6/dist-packages/scipy/stats/_distn_infrastructure.py:903: RuntimeWarning: invalid value encountered in greater\n",
            "  return (a < x) & (x < b)\n",
            "/usr/local/lib/python3.6/dist-packages/scipy/stats/_distn_infrastructure.py:903: RuntimeWarning: invalid value encountered in less\n",
            "  return (a < x) & (x < b)\n",
            "/usr/local/lib/python3.6/dist-packages/scipy/stats/_distn_infrastructure.py:1912: RuntimeWarning: invalid value encountered in less_equal\n",
            "  cond2 = cond0 & (x <= _a)\n"
          ],
          "name": "stderr"
        }
      ]
    },
    {
      "cell_type": "markdown",
      "metadata": {
        "id": "6jM18m1k9U43",
        "colab_type": "text"
      },
      "source": [
        "### We will use model 1"
      ]
    },
    {
      "cell_type": "code",
      "metadata": {
        "id": "ArbRwiZ19U44",
        "colab_type": "code",
        "outputId": "d0666f70-5b6d-4452-e516-e329472dc4b0",
        "colab": {
          "base_uri": "https://localhost:8080/"
        }
      },
      "source": [
        "# specify a simple model with Team Conference\n",
        "conference_model = str('TotalPay ~ SEC + CUSA + SunBelt + Pac12 + Ind + ACC + AAC + Big10 + Big12 + MtWest + MAC + Capacity + WinPer2019 + GSR')\n",
        "\n",
        "# fit the model to the training set\n",
        "train_confmodel_fit = smf.ols(conference_model, data = finalcoaches_train).fit()\n",
        "\n",
        "# summary of model fit to the training set\n",
        "print(train_confmodel_fit.summary())\n",
        "\n",
        "# print the coefficients\n",
        "print(train_confmodel_fit.params)"
      ],
      "execution_count": 0,
      "outputs": [
        {
          "output_type": "stream",
          "text": [
            "                            OLS Regression Results                            \n",
            "==============================================================================\n",
            "Dep. Variable:               TotalPay   R-squared:                       0.810\n",
            "Model:                            OLS   Adj. R-squared:                  0.776\n",
            "Method:                 Least Squares   F-statistic:                     23.60\n",
            "Date:                Wed, 22 Apr 2020   Prob (F-statistic):           7.22e-21\n",
            "Time:                        03:27:53   Log-Likelihood:                -1295.2\n",
            "No. Observations:                  86   AIC:                             2618.\n",
            "Df Residuals:                      72   BIC:                             2653.\n",
            "Df Model:                          13                                         \n",
            "Covariance Type:            nonrobust                                         \n",
            "==============================================================================\n",
            "                 coef    std err          t      P>|t|      [0.025      0.975]\n",
            "------------------------------------------------------------------------------\n",
            "Intercept  -1.591e+06   7.73e+05     -2.059      0.043   -3.13e+06   -5.08e+04\n",
            "SEC         1.175e+06   3.59e+05      3.271      0.002    4.59e+05    1.89e+06\n",
            "CUSA       -8.397e+05   2.87e+05     -2.927      0.005   -1.41e+06   -2.68e+05\n",
            "SunBelt    -6.237e+05   3.74e+05     -1.669      0.100   -1.37e+06    1.21e+05\n",
            "Pac12       3.165e+05   3.23e+05      0.979      0.331   -3.28e+05    9.61e+05\n",
            "Ind        -1.785e+06   6.74e+05     -2.649      0.010   -3.13e+06   -4.42e+05\n",
            "ACC         4.487e+05   3.16e+05      1.422      0.159    -1.8e+05    1.08e+06\n",
            "AAC        -4.176e+05   3.43e+05     -1.217      0.228    -1.1e+06    2.66e+05\n",
            "Big10       6.661e+05   3.86e+05      1.726      0.089   -1.03e+05    1.44e+06\n",
            "Big12       1.087e+06   5.19e+05      2.095      0.040    5.28e+04    2.12e+06\n",
            "MtWest     -9.013e+05   3.24e+05     -2.778      0.007   -1.55e+06   -2.55e+05\n",
            "MAC        -7.173e+05   3.18e+05     -2.255      0.027   -1.35e+06   -8.31e+04\n",
            "Capacity      41.6164      7.175      5.800      0.000      27.314      55.919\n",
            "WinPer2019  9.855e+05   5.38e+05      1.831      0.071   -8.74e+04    2.06e+06\n",
            "GSR         2.083e+04   1.07e+04      1.944      0.056    -527.530    4.22e+04\n",
            "==============================================================================\n",
            "Omnibus:                        1.269   Durbin-Watson:                   1.745\n",
            "Prob(Omnibus):                  0.530   Jarque-Bera (JB):                0.843\n",
            "Skew:                           0.230   Prob(JB):                        0.656\n",
            "Kurtosis:                       3.156   Cond. No.                     1.12e+18\n",
            "==============================================================================\n",
            "\n",
            "Warnings:\n",
            "[1] Standard Errors assume that the covariance matrix of the errors is correctly specified.\n",
            "[2] The smallest eigenvalue is 2.12e-25. This might indicate that there are\n",
            "strong multicollinearity problems or that the design matrix is singular.\n",
            "Intercept    -1.591071e+06\n",
            "SEC           1.175190e+06\n",
            "CUSA         -8.396895e+05\n",
            "SunBelt      -6.237114e+05\n",
            "Pac12         3.165260e+05\n",
            "Ind          -1.785427e+06\n",
            "ACC           4.487025e+05\n",
            "AAC          -4.176068e+05\n",
            "Big10         6.661372e+05\n",
            "Big12         1.087409e+06\n",
            "MtWest       -9.012773e+05\n",
            "MAC          -7.173237e+05\n",
            "Capacity      4.161636e+01\n",
            "WinPer2019    9.854898e+05\n",
            "GSR           2.082555e+04\n",
            "dtype: float64\n"
          ],
          "name": "stdout"
        }
      ]
    },
    {
      "cell_type": "code",
      "metadata": {
        "id": "RqzOnwJl9U48",
        "colab_type": "code",
        "colab": {}
      },
      "source": [
        "# Help from : https://www.ritchieng.com/machine-learning-evaluate-linear-regression-model/\n",
        "\n",
        "#Test & Train\n",
        "#finalcoaches_train\n",
        "#finalcoaches_test\n",
        "\n",
        "#linearRegression from SKlearn\n",
        "lin_reg = LinearRegression()\n",
        "\n",
        "# train\n",
        "y_train = finalcoaches_train[['TotalPay']]\n",
        "X_train = finalcoaches_train[['Capacity', 'GSR', 'WinPer2019', 'SEC', 'CUSA', 'SunBelt', 'Pac12', 'Ind', 'ACC',\n",
        "                              'AAC', 'Big10', 'Big12', 'MtWest', 'MAC']]\n",
        "lin_reg.fit(X_train, y_train)\n",
        "                             \n",
        "\n",
        "#Predict\n",
        "y_test = finalcoaches_test[['TotalPay']]\n",
        "X_test = finalcoaches_test[['Capacity', 'GSR', 'WinPer2019', 'SEC', 'CUSA', 'SunBelt', 'Pac12', 'Ind', 'ACC',\n",
        "                              'AAC', 'Big10', 'Big12', 'MtWest', 'MAC']]\n",
        "y_pred = lin_reg.predict(X_test)"
      ],
      "execution_count": 0,
      "outputs": []
    },
    {
      "cell_type": "code",
      "metadata": {
        "id": "5ng2OrDg9U4_",
        "colab_type": "code",
        "outputId": "737d2d42-f3e0-4152-d450-ec38a4b61b20",
        "colab": {
          "base_uri": "https://localhost:8080/"
        }
      },
      "source": [
        "#convert floats to dollars\n",
        "#https://stackoverflow.com/questions/21208376/converting-float-to-dollars-and-cents\n",
        "\n",
        "\n",
        "#!pip install locale # if not installed already\n",
        "import locale\n",
        "locale.setlocale(locale.LC_ALL, '')\n",
        "#locale.setlocale( locale.LC_ALL, 'English_United States.1252' )\n",
        "#locale.currency( 1234.50, grouping = True )"
      ],
      "execution_count": 0,
      "outputs": [
        {
          "output_type": "execute_result",
          "data": {
            "text/plain": [
              "'en_US.UTF-8'"
            ]
          },
          "metadata": {
            "tags": []
          },
          "execution_count": 36
        }
      ]
    },
    {
      "cell_type": "code",
      "metadata": {
        "id": "Oe9l72Dc9U5C",
        "colab_type": "code",
        "outputId": "c3c890e5-f850-49c6-fbca-fe712c08b57f",
        "colab": {
          "base_uri": "https://localhost:8080/"
        }
      },
      "source": [
        "# predict syracuse salary\n",
        "syr = finalcoaches[finalcoaches['School'] == 'Syracuse']\n",
        "lin_reg.predict(syr[['Capacity', 'GSR', 'WinPer2019', 'SEC', 'CUSA', 'SunBelt', 'Pac12', 'Ind', 'ACC',\n",
        "                              'AAC', 'Big10', 'Big12', 'MtWest', 'MAC']])\n",
        "\n",
        "syrpred = lin_reg.predict(syr[['Capacity', 'GSR', 'WinPer2019', 'SEC', 'CUSA', 'SunBelt', 'Pac12', 'Ind', 'ACC',\n",
        "                              'AAC', 'Big10', 'Big12', 'MtWest', 'MAC']])\n",
        "\n",
        "\n",
        "# print amount\n",
        "print(\"Syracuse Coach Pay should be \",(locale.currency( syrpred, grouping = True )))"
      ],
      "execution_count": 0,
      "outputs": [
        {
          "output_type": "stream",
          "text": [
            "Syracuse Coach Pay should be  $2,921,754.10\n"
          ],
          "name": "stdout"
        }
      ]
    },
    {
      "cell_type": "code",
      "metadata": {
        "id": "EWp6VnWq9U5E",
        "colab_type": "code",
        "outputId": "17d0dfe1-5a99-48ab-d514-f3e35643ac65",
        "colab": {
          "base_uri": "https://localhost:8080/"
        }
      },
      "source": [
        "# Predict Big East (Using AAC) Pay\n",
        "print(train_confmodel_fit.params)\n",
        "print(train_confmodel_fit.params[7]) #Coefficiant for AAC\n",
        "print(\"*\"*80)\n",
        "acccoef = train_confmodel_fit.params[6]\n",
        "aaccoef = train_confmodel_fit.params[7]\n",
        "print(\"Syracuse Coach Big East Pay should be \",(locale.currency( ((syrpred-acccoef) +aaccoef), grouping = True )))"
      ],
      "execution_count": 0,
      "outputs": [
        {
          "output_type": "stream",
          "text": [
            "Intercept    -1.591071e+06\n",
            "SEC           1.175190e+06\n",
            "CUSA         -8.396895e+05\n",
            "SunBelt      -6.237114e+05\n",
            "Pac12         3.165260e+05\n",
            "Ind          -1.785427e+06\n",
            "ACC           4.487025e+05\n",
            "AAC          -4.176068e+05\n",
            "Big10         6.661372e+05\n",
            "Big12         1.087409e+06\n",
            "MtWest       -9.012773e+05\n",
            "MAC          -7.173237e+05\n",
            "Capacity      4.161636e+01\n",
            "WinPer2019    9.854898e+05\n",
            "GSR           2.082555e+04\n",
            "dtype: float64\n",
            "-417606.842689804\n",
            "********************************************************************************\n",
            "Syracuse Coach Big East Pay should be  $2,055,444.71\n"
          ],
          "name": "stdout"
        }
      ]
    },
    {
      "cell_type": "code",
      "metadata": {
        "id": "uejUj_-89U5H",
        "colab_type": "code",
        "outputId": "c7ca56d7-3006-49d9-a1be-b66f5a7ff663",
        "colab": {
          "base_uri": "https://localhost:8080/"
        }
      },
      "source": [
        "# Predict Big10 Pay\n",
        "print(train_confmodel_fit.params)\n",
        "print(train_confmodel_fit.params[8]) #Coefficiant for Big10\n",
        "btencoef = train_confmodel_fit.params[8]\n",
        "print(\"*\"*80)\n",
        "print(\"Syracuse Coach Big Ten Pay should be \",(locale.currency( ((syrpred -acccoef) + btencoef ), grouping = True )))"
      ],
      "execution_count": 0,
      "outputs": [
        {
          "output_type": "stream",
          "text": [
            "Intercept    -1.591071e+06\n",
            "SEC           1.175190e+06\n",
            "CUSA         -8.396895e+05\n",
            "SunBelt      -6.237114e+05\n",
            "Pac12         3.165260e+05\n",
            "Ind          -1.785427e+06\n",
            "ACC           4.487025e+05\n",
            "AAC          -4.176068e+05\n",
            "Big10         6.661372e+05\n",
            "Big12         1.087409e+06\n",
            "MtWest       -9.012773e+05\n",
            "MAC          -7.173237e+05\n",
            "Capacity      4.161636e+01\n",
            "WinPer2019    9.854898e+05\n",
            "GSR           2.082555e+04\n",
            "dtype: float64\n",
            "666137.2201025379\n",
            "********************************************************************************\n",
            "Syracuse Coach Big Ten Pay should be  $3,139,188.77\n"
          ],
          "name": "stdout"
        }
      ]
    },
    {
      "cell_type": "code",
      "metadata": {
        "id": "xUAzqf459U5K",
        "colab_type": "code",
        "outputId": "e199ae1e-2661-4ce6-cca7-abf1e77745c1",
        "colab": {
          "base_uri": "https://localhost:8080/"
        }
      },
      "source": [
        "finalcoaches[finalcoaches['School'].str.match('Syracuse')]"
      ],
      "execution_count": 0,
      "outputs": [
        {
          "output_type": "execute_result",
          "data": {
            "text/html": [
              "<div>\n",
              "<style scoped>\n",
              "    .dataframe tbody tr th:only-of-type {\n",
              "        vertical-align: middle;\n",
              "    }\n",
              "\n",
              "    .dataframe tbody tr th {\n",
              "        vertical-align: top;\n",
              "    }\n",
              "\n",
              "    .dataframe thead th {\n",
              "        text-align: right;\n",
              "    }\n",
              "</style>\n",
              "<table border=\"1\" class=\"dataframe\">\n",
              "  <thead>\n",
              "    <tr style=\"text-align: right;\">\n",
              "      <th></th>\n",
              "      <th>School</th>\n",
              "      <th>Conference</th>\n",
              "      <th>Coach</th>\n",
              "      <th>SchoolPay</th>\n",
              "      <th>TotalPay</th>\n",
              "      <th>Bonus</th>\n",
              "      <th>BonusPaid</th>\n",
              "      <th>AssistantPay</th>\n",
              "      <th>Buyout</th>\n",
              "      <th>Capacity</th>\n",
              "      <th>Cohort Year</th>\n",
              "      <th>State</th>\n",
              "      <th>GSR</th>\n",
              "      <th>FGR</th>\n",
              "      <th>Win-Loss Record2019</th>\n",
              "      <th>WinPercentage2019</th>\n",
              "      <th>WinPer2019</th>\n",
              "      <th>TotalPayThousands</th>\n",
              "      <th>Power5</th>\n",
              "      <th>MtWest</th>\n",
              "      <th>MAC</th>\n",
              "      <th>SEC</th>\n",
              "      <th>CUSA</th>\n",
              "      <th>SunBelt</th>\n",
              "      <th>Pac12</th>\n",
              "      <th>Ind</th>\n",
              "      <th>ACC</th>\n",
              "      <th>AAC</th>\n",
              "      <th>Big10</th>\n",
              "      <th>Big12</th>\n",
              "      <th>runiform</th>\n",
              "    </tr>\n",
              "  </thead>\n",
              "  <tbody>\n",
              "    <tr>\n",
              "      <th>102</th>\n",
              "      <td>Syracuse</td>\n",
              "      <td>ACC</td>\n",
              "      <td>Dino Babers</td>\n",
              "      <td>2401206.0</td>\n",
              "      <td>2401206.0</td>\n",
              "      <td>0.0</td>\n",
              "      <td>0.0</td>\n",
              "      <td>0.0</td>\n",
              "      <td>0.0</td>\n",
              "      <td>49250.0</td>\n",
              "      <td>2006.0</td>\n",
              "      <td>NY</td>\n",
              "      <td>77.0</td>\n",
              "      <td>64.0</td>\n",
              "      <td>5-7-0</td>\n",
              "      <td>41.7%</td>\n",
              "      <td>0.417</td>\n",
              "      <td>2401.206</td>\n",
              "      <td>Y</td>\n",
              "      <td>0</td>\n",
              "      <td>0</td>\n",
              "      <td>0</td>\n",
              "      <td>0</td>\n",
              "      <td>0</td>\n",
              "      <td>0</td>\n",
              "      <td>0</td>\n",
              "      <td>1</td>\n",
              "      <td>0</td>\n",
              "      <td>0</td>\n",
              "      <td>0</td>\n",
              "      <td>0.480359</td>\n",
              "    </tr>\n",
              "  </tbody>\n",
              "</table>\n",
              "</div>"
            ],
            "text/plain": [
              "       School Conference        Coach  SchoolPay  ...  AAC  Big10  Big12  runiform\n",
              "102  Syracuse        ACC  Dino Babers  2401206.0  ...    0      0      0  0.480359\n",
              "\n",
              "[1 rows x 31 columns]"
            ]
          },
          "metadata": {
            "tags": []
          },
          "execution_count": 40
        }
      ]
    }
  ]
}